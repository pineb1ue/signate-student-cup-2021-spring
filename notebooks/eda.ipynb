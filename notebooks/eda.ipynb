{
 "cells": [
  {
   "cell_type": "markdown",
   "id": "9e6c4277-6a01-4252-8045-c50237ee9a56",
   "metadata": {},
   "source": [
    "## 1. Import Library"
   ]
  },
  {
   "cell_type": "code",
   "execution_count": 2,
   "id": "da4a8b4f-0061-406a-9198-34023dd0688e",
   "metadata": {},
   "outputs": [],
   "source": [
    "import numpy as np\n",
    "import pandas as pd\n",
    "import matplotlib.pyplot as plt\n",
    "import lightgbm as lgb\n",
    "import optuna.integration.lightgbm as op_lgb\n",
    "import seaborn as sns\n",
    "%matplotlib inline\n",
    "\n",
    "from sklearn.model_selection import train_test_split\n",
    "from sklearn.model_selection import StratifiedKFold\n",
    "from sklearn.metrics import f1_score \n",
    "from sklearn.metrics import confusion_matrix\n",
    "\n",
    "import utils"
   ]
  },
  {
   "cell_type": "markdown",
   "id": "2cfdcad5-cf6d-452f-8d99-0415875a5b6f",
   "metadata": {},
   "source": [
    "## 2. Load data"
   ]
  },
  {
   "cell_type": "code",
   "execution_count": 3,
   "id": "e7ce380a-1e0a-4645-b8ab-1100bcc59023",
   "metadata": {},
   "outputs": [],
   "source": [
    "train = pd.read_csv(\"../data/train.csv\")\n",
    "test = pd.read_csv(\"../data/test.csv\")\n",
    "genre = pd.read_csv(\"../data/genre_labels.csv\")"
   ]
  },
  {
   "cell_type": "code",
   "execution_count": 4,
   "id": "9484616c-328d-4682-af58-9bd09bde17c2",
   "metadata": {},
   "outputs": [
    {
     "data": {
      "text/html": [
       "<div>\n",
       "<style scoped>\n",
       "    .dataframe tbody tr th:only-of-type {\n",
       "        vertical-align: middle;\n",
       "    }\n",
       "\n",
       "    .dataframe tbody tr th {\n",
       "        vertical-align: top;\n",
       "    }\n",
       "\n",
       "    .dataframe thead th {\n",
       "        text-align: right;\n",
       "    }\n",
       "</style>\n",
       "<table border=\"1\" class=\"dataframe\">\n",
       "  <thead>\n",
       "    <tr style=\"text-align: right;\">\n",
       "      <th></th>\n",
       "      <th>genre</th>\n",
       "      <th>popularity</th>\n",
       "      <th>duration_ms</th>\n",
       "      <th>acousticness</th>\n",
       "      <th>positiveness</th>\n",
       "      <th>danceability</th>\n",
       "      <th>loudness</th>\n",
       "      <th>energy</th>\n",
       "      <th>liveness</th>\n",
       "      <th>speechiness</th>\n",
       "      <th>instrumentalness</th>\n",
       "      <th>tempo</th>\n",
       "      <th>region</th>\n",
       "    </tr>\n",
       "  </thead>\n",
       "  <tbody>\n",
       "    <tr>\n",
       "      <th>0</th>\n",
       "      <td>10</td>\n",
       "      <td>11</td>\n",
       "      <td>201094</td>\n",
       "      <td>0.112811</td>\n",
       "      <td>0.157247</td>\n",
       "      <td>0.187841</td>\n",
       "      <td>-1.884852</td>\n",
       "      <td>0.893918</td>\n",
       "      <td>0.363568</td>\n",
       "      <td>0.390108</td>\n",
       "      <td>0.888884</td>\n",
       "      <td>121-152</td>\n",
       "      <td>region_H</td>\n",
       "    </tr>\n",
       "    <tr>\n",
       "      <th>1</th>\n",
       "      <td>8</td>\n",
       "      <td>69</td>\n",
       "      <td>308493</td>\n",
       "      <td>0.101333</td>\n",
       "      <td>0.346563</td>\n",
       "      <td>0.554444</td>\n",
       "      <td>-5.546495</td>\n",
       "      <td>0.874409</td>\n",
       "      <td>0.193892</td>\n",
       "      <td>0.161497</td>\n",
       "      <td>0.123910</td>\n",
       "      <td>153-176</td>\n",
       "      <td>region_I</td>\n",
       "    </tr>\n",
       "    <tr>\n",
       "      <th>2</th>\n",
       "      <td>3</td>\n",
       "      <td>43</td>\n",
       "      <td>197225</td>\n",
       "      <td>0.496420</td>\n",
       "      <td>0.265391</td>\n",
       "      <td>0.457642</td>\n",
       "      <td>-9.255670</td>\n",
       "      <td>0.439933</td>\n",
       "      <td>0.217146</td>\n",
       "      <td>0.369057</td>\n",
       "      <td>0.166470</td>\n",
       "      <td>64-76</td>\n",
       "      <td>region_E</td>\n",
       "    </tr>\n",
       "    <tr>\n",
       "      <th>3</th>\n",
       "      <td>10</td>\n",
       "      <td>45</td>\n",
       "      <td>301092</td>\n",
       "      <td>0.165667</td>\n",
       "      <td>0.245533</td>\n",
       "      <td>0.356578</td>\n",
       "      <td>-5.088788</td>\n",
       "      <td>0.868704</td>\n",
       "      <td>0.377025</td>\n",
       "      <td>0.226677</td>\n",
       "      <td>0.175399</td>\n",
       "      <td>177-192</td>\n",
       "      <td>region_C</td>\n",
       "    </tr>\n",
       "    <tr>\n",
       "      <th>4</th>\n",
       "      <td>3</td>\n",
       "      <td>57</td>\n",
       "      <td>277348</td>\n",
       "      <td>0.190720</td>\n",
       "      <td>0.777578</td>\n",
       "      <td>0.830479</td>\n",
       "      <td>-3.933896</td>\n",
       "      <td>0.650149</td>\n",
       "      <td>0.169323</td>\n",
       "      <td>0.222488</td>\n",
       "      <td>0.226030</td>\n",
       "      <td>97-120</td>\n",
       "      <td>unknown</td>\n",
       "    </tr>\n",
       "    <tr>\n",
       "      <th>...</th>\n",
       "      <td>...</td>\n",
       "      <td>...</td>\n",
       "      <td>...</td>\n",
       "      <td>...</td>\n",
       "      <td>...</td>\n",
       "      <td>...</td>\n",
       "      <td>...</td>\n",
       "      <td>...</td>\n",
       "      <td>...</td>\n",
       "      <td>...</td>\n",
       "      <td>...</td>\n",
       "      <td>...</td>\n",
       "      <td>...</td>\n",
       "    </tr>\n",
       "    <tr>\n",
       "      <th>4041</th>\n",
       "      <td>10</td>\n",
       "      <td>38</td>\n",
       "      <td>246309</td>\n",
       "      <td>0.128795</td>\n",
       "      <td>0.329718</td>\n",
       "      <td>0.575830</td>\n",
       "      <td>-5.252543</td>\n",
       "      <td>0.509531</td>\n",
       "      <td>0.193781</td>\n",
       "      <td>0.187331</td>\n",
       "      <td>0.158197</td>\n",
       "      <td>121-152</td>\n",
       "      <td>region_P</td>\n",
       "    </tr>\n",
       "    <tr>\n",
       "      <th>4042</th>\n",
       "      <td>5</td>\n",
       "      <td>23</td>\n",
       "      <td>208734</td>\n",
       "      <td>0.778732</td>\n",
       "      <td>0.228757</td>\n",
       "      <td>0.394283</td>\n",
       "      <td>-14.225700</td>\n",
       "      <td>0.322871</td>\n",
       "      <td>0.253108</td>\n",
       "      <td>0.141218</td>\n",
       "      <td>0.295608</td>\n",
       "      <td>121-152</td>\n",
       "      <td>region_D</td>\n",
       "    </tr>\n",
       "    <tr>\n",
       "      <th>4043</th>\n",
       "      <td>10</td>\n",
       "      <td>30</td>\n",
       "      <td>407016</td>\n",
       "      <td>0.402050</td>\n",
       "      <td>0.462374</td>\n",
       "      <td>0.672265</td>\n",
       "      <td>-10.711253</td>\n",
       "      <td>0.646571</td>\n",
       "      <td>0.228189</td>\n",
       "      <td>0.152270</td>\n",
       "      <td>0.163483</td>\n",
       "      <td>97-120</td>\n",
       "      <td>region_E</td>\n",
       "    </tr>\n",
       "    <tr>\n",
       "      <th>4044</th>\n",
       "      <td>10</td>\n",
       "      <td>25</td>\n",
       "      <td>204957</td>\n",
       "      <td>0.208096</td>\n",
       "      <td>0.465511</td>\n",
       "      <td>0.523514</td>\n",
       "      <td>-7.855946</td>\n",
       "      <td>0.508910</td>\n",
       "      <td>0.247820</td>\n",
       "      <td>0.202238</td>\n",
       "      <td>0.210184</td>\n",
       "      <td>77-96</td>\n",
       "      <td>region_R</td>\n",
       "    </tr>\n",
       "    <tr>\n",
       "      <th>4045</th>\n",
       "      <td>3</td>\n",
       "      <td>38</td>\n",
       "      <td>185527</td>\n",
       "      <td>0.213589</td>\n",
       "      <td>0.945140</td>\n",
       "      <td>0.732470</td>\n",
       "      <td>-5.035310</td>\n",
       "      <td>0.736477</td>\n",
       "      <td>0.206115</td>\n",
       "      <td>0.424272</td>\n",
       "      <td>0.158386</td>\n",
       "      <td>97-120</td>\n",
       "      <td>region_E</td>\n",
       "    </tr>\n",
       "  </tbody>\n",
       "</table>\n",
       "<p>4046 rows × 13 columns</p>\n",
       "</div>"
      ],
      "text/plain": [
       "      genre  popularity  duration_ms  acousticness  positiveness  \\\n",
       "0        10          11       201094      0.112811      0.157247   \n",
       "1         8          69       308493      0.101333      0.346563   \n",
       "2         3          43       197225      0.496420      0.265391   \n",
       "3        10          45       301092      0.165667      0.245533   \n",
       "4         3          57       277348      0.190720      0.777578   \n",
       "...     ...         ...          ...           ...           ...   \n",
       "4041     10          38       246309      0.128795      0.329718   \n",
       "4042      5          23       208734      0.778732      0.228757   \n",
       "4043     10          30       407016      0.402050      0.462374   \n",
       "4044     10          25       204957      0.208096      0.465511   \n",
       "4045      3          38       185527      0.213589      0.945140   \n",
       "\n",
       "      danceability   loudness    energy  liveness  speechiness  \\\n",
       "0         0.187841  -1.884852  0.893918  0.363568     0.390108   \n",
       "1         0.554444  -5.546495  0.874409  0.193892     0.161497   \n",
       "2         0.457642  -9.255670  0.439933  0.217146     0.369057   \n",
       "3         0.356578  -5.088788  0.868704  0.377025     0.226677   \n",
       "4         0.830479  -3.933896  0.650149  0.169323     0.222488   \n",
       "...            ...        ...       ...       ...          ...   \n",
       "4041      0.575830  -5.252543  0.509531  0.193781     0.187331   \n",
       "4042      0.394283 -14.225700  0.322871  0.253108     0.141218   \n",
       "4043      0.672265 -10.711253  0.646571  0.228189     0.152270   \n",
       "4044      0.523514  -7.855946  0.508910  0.247820     0.202238   \n",
       "4045      0.732470  -5.035310  0.736477  0.206115     0.424272   \n",
       "\n",
       "      instrumentalness    tempo    region  \n",
       "0             0.888884  121-152  region_H  \n",
       "1             0.123910  153-176  region_I  \n",
       "2             0.166470    64-76  region_E  \n",
       "3             0.175399  177-192  region_C  \n",
       "4             0.226030   97-120   unknown  \n",
       "...                ...      ...       ...  \n",
       "4041          0.158197  121-152  region_P  \n",
       "4042          0.295608  121-152  region_D  \n",
       "4043          0.163483   97-120  region_E  \n",
       "4044          0.210184    77-96  region_R  \n",
       "4045          0.158386   97-120  region_E  \n",
       "\n",
       "[4046 rows x 13 columns]"
      ]
     },
     "execution_count": 4,
     "metadata": {},
     "output_type": "execute_result"
    }
   ],
   "source": [
    "train.drop([\"index\"], axis=1, inplace=True)\n",
    "train"
   ]
  },
  {
   "cell_type": "code",
   "execution_count": 5,
   "id": "7cbd1631-d22d-4a22-ba2b-3235f189a366",
   "metadata": {},
   "outputs": [
    {
     "data": {
      "text/html": [
       "<div>\n",
       "<style scoped>\n",
       "    .dataframe tbody tr th:only-of-type {\n",
       "        vertical-align: middle;\n",
       "    }\n",
       "\n",
       "    .dataframe tbody tr th {\n",
       "        vertical-align: top;\n",
       "    }\n",
       "\n",
       "    .dataframe thead th {\n",
       "        text-align: right;\n",
       "    }\n",
       "</style>\n",
       "<table border=\"1\" class=\"dataframe\">\n",
       "  <thead>\n",
       "    <tr style=\"text-align: right;\">\n",
       "      <th></th>\n",
       "      <th>popularity</th>\n",
       "      <th>duration_ms</th>\n",
       "      <th>acousticness</th>\n",
       "      <th>positiveness</th>\n",
       "      <th>danceability</th>\n",
       "      <th>loudness</th>\n",
       "      <th>energy</th>\n",
       "      <th>liveness</th>\n",
       "      <th>speechiness</th>\n",
       "      <th>instrumentalness</th>\n",
       "      <th>tempo</th>\n",
       "      <th>region</th>\n",
       "    </tr>\n",
       "  </thead>\n",
       "  <tbody>\n",
       "    <tr>\n",
       "      <th>0</th>\n",
       "      <td>43</td>\n",
       "      <td>192465</td>\n",
       "      <td>0.559812</td>\n",
       "      <td>0.565035</td>\n",
       "      <td>0.522237</td>\n",
       "      <td>-12.217087</td>\n",
       "      <td>0.620510</td>\n",
       "      <td>0.389727</td>\n",
       "      <td>0.214989</td>\n",
       "      <td>0.161924</td>\n",
       "      <td>77-96</td>\n",
       "      <td>region_I</td>\n",
       "    </tr>\n",
       "    <tr>\n",
       "      <th>1</th>\n",
       "      <td>40</td>\n",
       "      <td>226536</td>\n",
       "      <td>0.134002</td>\n",
       "      <td>0.542547</td>\n",
       "      <td>0.493128</td>\n",
       "      <td>-2.612846</td>\n",
       "      <td>0.853089</td>\n",
       "      <td>0.163106</td>\n",
       "      <td>0.184183</td>\n",
       "      <td>0.155460</td>\n",
       "      <td>121-152</td>\n",
       "      <td>unknown</td>\n",
       "    </tr>\n",
       "    <tr>\n",
       "      <th>2</th>\n",
       "      <td>58</td>\n",
       "      <td>215385</td>\n",
       "      <td>0.140537</td>\n",
       "      <td>0.643086</td>\n",
       "      <td>0.533189</td>\n",
       "      <td>-3.439684</td>\n",
       "      <td>0.834416</td>\n",
       "      <td>0.429304</td>\n",
       "      <td>0.167352</td>\n",
       "      <td>0.179191</td>\n",
       "      <td>121-152</td>\n",
       "      <td>region_K</td>\n",
       "    </tr>\n",
       "    <tr>\n",
       "      <th>3</th>\n",
       "      <td>49</td>\n",
       "      <td>254494</td>\n",
       "      <td>0.266406</td>\n",
       "      <td>0.456733</td>\n",
       "      <td>0.410583</td>\n",
       "      <td>-10.830424</td>\n",
       "      <td>0.534261</td>\n",
       "      <td>0.151830</td>\n",
       "      <td>0.174403</td>\n",
       "      <td>0.186061</td>\n",
       "      <td>77-96</td>\n",
       "      <td>region_D</td>\n",
       "    </tr>\n",
       "    <tr>\n",
       "      <th>4</th>\n",
       "      <td>50</td>\n",
       "      <td>230934</td>\n",
       "      <td>0.351907</td>\n",
       "      <td>0.526235</td>\n",
       "      <td>0.645625</td>\n",
       "      <td>-9.099337</td>\n",
       "      <td>0.612474</td>\n",
       "      <td>0.319161</td>\n",
       "      <td>0.157594</td>\n",
       "      <td>0.184142</td>\n",
       "      <td>97-120</td>\n",
       "      <td>region_E</td>\n",
       "    </tr>\n",
       "    <tr>\n",
       "      <th>...</th>\n",
       "      <td>...</td>\n",
       "      <td>...</td>\n",
       "      <td>...</td>\n",
       "      <td>...</td>\n",
       "      <td>...</td>\n",
       "      <td>...</td>\n",
       "      <td>...</td>\n",
       "      <td>...</td>\n",
       "      <td>...</td>\n",
       "      <td>...</td>\n",
       "      <td>...</td>\n",
       "      <td>...</td>\n",
       "    </tr>\n",
       "    <tr>\n",
       "      <th>4041</th>\n",
       "      <td>34</td>\n",
       "      <td>366668</td>\n",
       "      <td>0.117208</td>\n",
       "      <td>0.316026</td>\n",
       "      <td>0.502289</td>\n",
       "      <td>-2.909329</td>\n",
       "      <td>0.824708</td>\n",
       "      <td>0.320241</td>\n",
       "      <td>0.206592</td>\n",
       "      <td>0.198859</td>\n",
       "      <td>121-152</td>\n",
       "      <td>region_B</td>\n",
       "    </tr>\n",
       "    <tr>\n",
       "      <th>4042</th>\n",
       "      <td>53</td>\n",
       "      <td>240081</td>\n",
       "      <td>0.225540</td>\n",
       "      <td>0.391226</td>\n",
       "      <td>0.483655</td>\n",
       "      <td>-5.013634</td>\n",
       "      <td>0.630808</td>\n",
       "      <td>0.163884</td>\n",
       "      <td>0.205218</td>\n",
       "      <td>0.179438</td>\n",
       "      <td>121-152</td>\n",
       "      <td>region_I</td>\n",
       "    </tr>\n",
       "    <tr>\n",
       "      <th>4043</th>\n",
       "      <td>48</td>\n",
       "      <td>217839</td>\n",
       "      <td>0.215571</td>\n",
       "      <td>0.828567</td>\n",
       "      <td>0.689747</td>\n",
       "      <td>-8.974036</td>\n",
       "      <td>0.697981</td>\n",
       "      <td>0.318250</td>\n",
       "      <td>0.123748</td>\n",
       "      <td>0.135281</td>\n",
       "      <td>121-152</td>\n",
       "      <td>region_H</td>\n",
       "    </tr>\n",
       "    <tr>\n",
       "      <th>4044</th>\n",
       "      <td>45</td>\n",
       "      <td>249612</td>\n",
       "      <td>0.205074</td>\n",
       "      <td>0.730554</td>\n",
       "      <td>0.580581</td>\n",
       "      <td>-1.915320</td>\n",
       "      <td>0.828423</td>\n",
       "      <td>0.360663</td>\n",
       "      <td>0.165837</td>\n",
       "      <td>0.162821</td>\n",
       "      <td>121-152</td>\n",
       "      <td>region_B</td>\n",
       "    </tr>\n",
       "    <tr>\n",
       "      <th>4045</th>\n",
       "      <td>39</td>\n",
       "      <td>237732</td>\n",
       "      <td>0.749124</td>\n",
       "      <td>0.283727</td>\n",
       "      <td>0.509884</td>\n",
       "      <td>-9.121694</td>\n",
       "      <td>0.370835</td>\n",
       "      <td>0.254445</td>\n",
       "      <td>0.137337</td>\n",
       "      <td>0.158682</td>\n",
       "      <td>77-96</td>\n",
       "      <td>region_T</td>\n",
       "    </tr>\n",
       "  </tbody>\n",
       "</table>\n",
       "<p>4046 rows × 12 columns</p>\n",
       "</div>"
      ],
      "text/plain": [
       "      popularity  duration_ms  acousticness  positiveness  danceability  \\\n",
       "0             43       192465      0.559812      0.565035      0.522237   \n",
       "1             40       226536      0.134002      0.542547      0.493128   \n",
       "2             58       215385      0.140537      0.643086      0.533189   \n",
       "3             49       254494      0.266406      0.456733      0.410583   \n",
       "4             50       230934      0.351907      0.526235      0.645625   \n",
       "...          ...          ...           ...           ...           ...   \n",
       "4041          34       366668      0.117208      0.316026      0.502289   \n",
       "4042          53       240081      0.225540      0.391226      0.483655   \n",
       "4043          48       217839      0.215571      0.828567      0.689747   \n",
       "4044          45       249612      0.205074      0.730554      0.580581   \n",
       "4045          39       237732      0.749124      0.283727      0.509884   \n",
       "\n",
       "       loudness    energy  liveness  speechiness  instrumentalness    tempo  \\\n",
       "0    -12.217087  0.620510  0.389727     0.214989          0.161924    77-96   \n",
       "1     -2.612846  0.853089  0.163106     0.184183          0.155460  121-152   \n",
       "2     -3.439684  0.834416  0.429304     0.167352          0.179191  121-152   \n",
       "3    -10.830424  0.534261  0.151830     0.174403          0.186061    77-96   \n",
       "4     -9.099337  0.612474  0.319161     0.157594          0.184142   97-120   \n",
       "...         ...       ...       ...          ...               ...      ...   \n",
       "4041  -2.909329  0.824708  0.320241     0.206592          0.198859  121-152   \n",
       "4042  -5.013634  0.630808  0.163884     0.205218          0.179438  121-152   \n",
       "4043  -8.974036  0.697981  0.318250     0.123748          0.135281  121-152   \n",
       "4044  -1.915320  0.828423  0.360663     0.165837          0.162821  121-152   \n",
       "4045  -9.121694  0.370835  0.254445     0.137337          0.158682    77-96   \n",
       "\n",
       "        region  \n",
       "0     region_I  \n",
       "1      unknown  \n",
       "2     region_K  \n",
       "3     region_D  \n",
       "4     region_E  \n",
       "...        ...  \n",
       "4041  region_B  \n",
       "4042  region_I  \n",
       "4043  region_H  \n",
       "4044  region_B  \n",
       "4045  region_T  \n",
       "\n",
       "[4046 rows x 12 columns]"
      ]
     },
     "execution_count": 5,
     "metadata": {},
     "output_type": "execute_result"
    }
   ],
   "source": [
    "test.drop([\"index\"], axis=1, inplace=True)\n",
    "test"
   ]
  },
  {
   "cell_type": "code",
   "execution_count": 6,
   "id": "939f9112-31d1-44fe-b03b-ae2d020519b6",
   "metadata": {},
   "outputs": [
    {
     "data": {
      "text/html": [
       "<div>\n",
       "<style scoped>\n",
       "    .dataframe tbody tr th:only-of-type {\n",
       "        vertical-align: middle;\n",
       "    }\n",
       "\n",
       "    .dataframe tbody tr th {\n",
       "        vertical-align: top;\n",
       "    }\n",
       "\n",
       "    .dataframe thead th {\n",
       "        text-align: right;\n",
       "    }\n",
       "</style>\n",
       "<table border=\"1\" class=\"dataframe\">\n",
       "  <thead>\n",
       "    <tr style=\"text-align: right;\">\n",
       "      <th></th>\n",
       "      <th>genre</th>\n",
       "      <th>labels</th>\n",
       "    </tr>\n",
       "  </thead>\n",
       "  <tbody>\n",
       "    <tr>\n",
       "      <th>0</th>\n",
       "      <td>country</td>\n",
       "      <td>0</td>\n",
       "    </tr>\n",
       "    <tr>\n",
       "      <th>1</th>\n",
       "      <td>electronic</td>\n",
       "      <td>1</td>\n",
       "    </tr>\n",
       "    <tr>\n",
       "      <th>2</th>\n",
       "      <td>folk</td>\n",
       "      <td>2</td>\n",
       "    </tr>\n",
       "    <tr>\n",
       "      <th>3</th>\n",
       "      <td>hip-hop</td>\n",
       "      <td>3</td>\n",
       "    </tr>\n",
       "    <tr>\n",
       "      <th>4</th>\n",
       "      <td>jazz</td>\n",
       "      <td>4</td>\n",
       "    </tr>\n",
       "    <tr>\n",
       "      <th>5</th>\n",
       "      <td>latin</td>\n",
       "      <td>5</td>\n",
       "    </tr>\n",
       "    <tr>\n",
       "      <th>6</th>\n",
       "      <td>classic</td>\n",
       "      <td>6</td>\n",
       "    </tr>\n",
       "    <tr>\n",
       "      <th>7</th>\n",
       "      <td>other-light-music</td>\n",
       "      <td>7</td>\n",
       "    </tr>\n",
       "    <tr>\n",
       "      <th>8</th>\n",
       "      <td>pop</td>\n",
       "      <td>8</td>\n",
       "    </tr>\n",
       "    <tr>\n",
       "      <th>9</th>\n",
       "      <td>religious</td>\n",
       "      <td>9</td>\n",
       "    </tr>\n",
       "    <tr>\n",
       "      <th>10</th>\n",
       "      <td>rock</td>\n",
       "      <td>10</td>\n",
       "    </tr>\n",
       "  </tbody>\n",
       "</table>\n",
       "</div>"
      ],
      "text/plain": [
       "                genre  labels\n",
       "0             country       0\n",
       "1          electronic       1\n",
       "2                folk       2\n",
       "3             hip-hop       3\n",
       "4                jazz       4\n",
       "5               latin       5\n",
       "6             classic       6\n",
       "7   other-light-music       7\n",
       "8                 pop       8\n",
       "9           religious       9\n",
       "10               rock      10"
      ]
     },
     "execution_count": 6,
     "metadata": {},
     "output_type": "execute_result"
    }
   ],
   "source": [
    "genre"
   ]
  },
  {
   "cell_type": "markdown",
   "id": "720ca163-3885-45cf-aec2-5113aaf89cce",
   "metadata": {},
   "source": [
    "## EDA"
   ]
  },
  {
   "cell_type": "code",
   "execution_count": 7,
   "id": "84609612-776f-4fc0-bd7c-4e9cd180b834",
   "metadata": {},
   "outputs": [],
   "source": [
    "# genreを削除し、genre_nameを生成\n",
    "train[\"genre_name\"] = train[\"genre\"].map(dict(zip(genre[\"labels\"], genre[\"genre\"])))\n",
    "train = train.drop([\"genre\"], axis=1)"
   ]
  },
  {
   "cell_type": "code",
   "execution_count": 8,
   "id": "7a9d5419-bc50-4733-89fd-d142c0eef626",
   "metadata": {},
   "outputs": [
    {
     "name": "stdout",
     "output_type": "stream",
     "text": [
      "<class 'pandas.core.frame.DataFrame'>\n",
      "RangeIndex: 4046 entries, 0 to 4045\n",
      "Data columns (total 13 columns):\n",
      " #   Column            Non-Null Count  Dtype  \n",
      "---  ------            --------------  -----  \n",
      " 0   popularity        4046 non-null   int64  \n",
      " 1   duration_ms       4046 non-null   int64  \n",
      " 2   acousticness      4046 non-null   float64\n",
      " 3   positiveness      4036 non-null   float64\n",
      " 4   danceability      4038 non-null   float64\n",
      " 5   loudness          4046 non-null   float64\n",
      " 6   energy            4046 non-null   float64\n",
      " 7   liveness          4043 non-null   float64\n",
      " 8   speechiness       4038 non-null   float64\n",
      " 9   instrumentalness  4045 non-null   float64\n",
      " 10  tempo             4046 non-null   object \n",
      " 11  region            4046 non-null   object \n",
      " 12  genre_name        4046 non-null   object \n",
      "dtypes: float64(8), int64(2), object(3)\n",
      "memory usage: 411.0+ KB\n"
     ]
    }
   ],
   "source": [
    "train.info()"
   ]
  },
  {
   "cell_type": "code",
   "execution_count": 9,
   "id": "d7471a2b-a09f-4ffb-9b14-a424bc4e5675",
   "metadata": {},
   "outputs": [
    {
     "data": {
      "text/html": [
       "<div>\n",
       "<style scoped>\n",
       "    .dataframe tbody tr th:only-of-type {\n",
       "        vertical-align: middle;\n",
       "    }\n",
       "\n",
       "    .dataframe tbody tr th {\n",
       "        vertical-align: top;\n",
       "    }\n",
       "\n",
       "    .dataframe thead th {\n",
       "        text-align: right;\n",
       "    }\n",
       "</style>\n",
       "<table border=\"1\" class=\"dataframe\">\n",
       "  <thead>\n",
       "    <tr style=\"text-align: right;\">\n",
       "      <th></th>\n",
       "      <th>popularity</th>\n",
       "      <th>duration_ms</th>\n",
       "      <th>acousticness</th>\n",
       "      <th>positiveness</th>\n",
       "      <th>danceability</th>\n",
       "      <th>loudness</th>\n",
       "      <th>energy</th>\n",
       "      <th>liveness</th>\n",
       "      <th>speechiness</th>\n",
       "      <th>instrumentalness</th>\n",
       "    </tr>\n",
       "  </thead>\n",
       "  <tbody>\n",
       "    <tr>\n",
       "      <th>count</th>\n",
       "      <td>4046.000000</td>\n",
       "      <td>4.046000e+03</td>\n",
       "      <td>4046.000000</td>\n",
       "      <td>4036.000000</td>\n",
       "      <td>4038.000000</td>\n",
       "      <td>4046.000000</td>\n",
       "      <td>4046.000000</td>\n",
       "      <td>4043.000000</td>\n",
       "      <td>4038.000000</td>\n",
       "      <td>4045.000000</td>\n",
       "    </tr>\n",
       "    <tr>\n",
       "      <th>mean</th>\n",
       "      <td>41.056105</td>\n",
       "      <td>2.421410e+05</td>\n",
       "      <td>0.346455</td>\n",
       "      <td>0.464100</td>\n",
       "      <td>0.504347</td>\n",
       "      <td>-7.715659</td>\n",
       "      <td>0.603663</td>\n",
       "      <td>0.265986</td>\n",
       "      <td>0.198655</td>\n",
       "      <td>0.214336</td>\n",
       "    </tr>\n",
       "    <tr>\n",
       "      <th>std</th>\n",
       "      <td>16.165708</td>\n",
       "      <td>8.520241e+04</td>\n",
       "      <td>0.241004</td>\n",
       "      <td>0.225052</td>\n",
       "      <td>0.158415</td>\n",
       "      <td>4.109640</td>\n",
       "      <td>0.201020</td>\n",
       "      <td>0.155769</td>\n",
       "      <td>0.083557</td>\n",
       "      <td>0.154281</td>\n",
       "    </tr>\n",
       "    <tr>\n",
       "      <th>min</th>\n",
       "      <td>0.000000</td>\n",
       "      <td>5.998000e+03</td>\n",
       "      <td>0.000000</td>\n",
       "      <td>0.000000</td>\n",
       "      <td>0.013839</td>\n",
       "      <td>-37.820457</td>\n",
       "      <td>0.003383</td>\n",
       "      <td>0.000000</td>\n",
       "      <td>0.000000</td>\n",
       "      <td>0.000000</td>\n",
       "    </tr>\n",
       "    <tr>\n",
       "      <th>25%</th>\n",
       "      <td>31.000000</td>\n",
       "      <td>2.044420e+05</td>\n",
       "      <td>0.149705</td>\n",
       "      <td>0.276384</td>\n",
       "      <td>0.392581</td>\n",
       "      <td>-9.775363</td>\n",
       "      <td>0.462137</td>\n",
       "      <td>0.168527</td>\n",
       "      <td>0.148698</td>\n",
       "      <td>0.143295</td>\n",
       "    </tr>\n",
       "    <tr>\n",
       "      <th>50%</th>\n",
       "      <td>42.000000</td>\n",
       "      <td>2.358735e+05</td>\n",
       "      <td>0.250711</td>\n",
       "      <td>0.450211</td>\n",
       "      <td>0.510993</td>\n",
       "      <td>-7.189460</td>\n",
       "      <td>0.634078</td>\n",
       "      <td>0.218486</td>\n",
       "      <td>0.183190</td>\n",
       "      <td>0.171708</td>\n",
       "    </tr>\n",
       "    <tr>\n",
       "      <th>75%</th>\n",
       "      <td>52.000000</td>\n",
       "      <td>2.724020e+05</td>\n",
       "      <td>0.523088</td>\n",
       "      <td>0.644786</td>\n",
       "      <td>0.617371</td>\n",
       "      <td>-4.876553</td>\n",
       "      <td>0.768768</td>\n",
       "      <td>0.317773</td>\n",
       "      <td>0.224999</td>\n",
       "      <td>0.205446</td>\n",
       "    </tr>\n",
       "    <tr>\n",
       "      <th>max</th>\n",
       "      <td>82.000000</td>\n",
       "      <td>2.135773e+06</td>\n",
       "      <td>1.000000</td>\n",
       "      <td>0.989661</td>\n",
       "      <td>1.000000</td>\n",
       "      <td>0.000000</td>\n",
       "      <td>1.000000</td>\n",
       "      <td>1.000000</td>\n",
       "      <td>0.886806</td>\n",
       "      <td>1.000000</td>\n",
       "    </tr>\n",
       "  </tbody>\n",
       "</table>\n",
       "</div>"
      ],
      "text/plain": [
       "        popularity   duration_ms  acousticness  positiveness  danceability  \\\n",
       "count  4046.000000  4.046000e+03   4046.000000   4036.000000   4038.000000   \n",
       "mean     41.056105  2.421410e+05      0.346455      0.464100      0.504347   \n",
       "std      16.165708  8.520241e+04      0.241004      0.225052      0.158415   \n",
       "min       0.000000  5.998000e+03      0.000000      0.000000      0.013839   \n",
       "25%      31.000000  2.044420e+05      0.149705      0.276384      0.392581   \n",
       "50%      42.000000  2.358735e+05      0.250711      0.450211      0.510993   \n",
       "75%      52.000000  2.724020e+05      0.523088      0.644786      0.617371   \n",
       "max      82.000000  2.135773e+06      1.000000      0.989661      1.000000   \n",
       "\n",
       "          loudness       energy     liveness  speechiness  instrumentalness  \n",
       "count  4046.000000  4046.000000  4043.000000  4038.000000       4045.000000  \n",
       "mean     -7.715659     0.603663     0.265986     0.198655          0.214336  \n",
       "std       4.109640     0.201020     0.155769     0.083557          0.154281  \n",
       "min     -37.820457     0.003383     0.000000     0.000000          0.000000  \n",
       "25%      -9.775363     0.462137     0.168527     0.148698          0.143295  \n",
       "50%      -7.189460     0.634078     0.218486     0.183190          0.171708  \n",
       "75%      -4.876553     0.768768     0.317773     0.224999          0.205446  \n",
       "max       0.000000     1.000000     1.000000     0.886806          1.000000  "
      ]
     },
     "execution_count": 9,
     "metadata": {},
     "output_type": "execute_result"
    }
   ],
   "source": [
    "train.describe()"
   ]
  },
  {
   "cell_type": "code",
   "execution_count": 10,
   "id": "32c1f4b4-76d0-44fa-b622-11a4e9aeec74",
   "metadata": {},
   "outputs": [
    {
     "data": {
      "text/plain": [
       "<AxesSubplot:>"
      ]
     },
     "execution_count": 10,
     "metadata": {},
     "output_type": "execute_result"
    },
    {
     "data": {
      "image/png": "[encoded data removed]",
      "text/plain": [
       "<Figure size 864x648 with 2 Axes>"
      ]
     },
     "metadata": {
      "needs_background": "light"
     },
     "output_type": "display_data"
    }
   ],
   "source": [
    "corr = train.corr()\n",
    "fig, ax = plt.subplots(figsize=(12, 9))\n",
    "sns.heatmap(corr, vmax=1, vmin=-1, center=0)\n",
    "# sns.clustermap(corr, vmax=1, vmin=-1, center=0)"
   ]
  },
  {
   "cell_type": "code",
   "execution_count": 11,
   "id": "8ce40421-cf71-46c5-9d87-c210a366c9e5",
   "metadata": {},
   "outputs": [
    {
     "data": {
      "text/plain": [
       "<AxesSubplot:xlabel='genre_name', ylabel='Count'>"
      ]
     },
     "execution_count": 11,
     "metadata": {},
     "output_type": "execute_result"
    },
    {
     "data": {
      "image/png": "[encoded data removed]",
      "text/plain": [
       "<Figure size 432x288 with 1 Axes>"
      ]
     },
     "metadata": {
      "needs_background": "light"
     },
     "output_type": "display_data"
    }
   ],
   "source": [
    "plt.xticks(rotation=90)\n",
    "sns.histplot(train[\"genre_name\"])"
   ]
  },
  {
   "cell_type": "code",
   "execution_count": 15,
   "id": "083ac32b-2062-4cfc-b045-569c3d8639dc",
   "metadata": {},
   "outputs": [],
   "source": [
    "def create_group_histplot(df, group_key, group_value):\n",
    "    for i, g in df.groupby(group_key)[group_value]:\n",
    "        fig, ax = plt.subplots()\n",
    "        plt.title(i)\n",
    "        plt.xticks(rotation=90)\n",
    "        sns.histplot(g)"
   ]
  },
  {
   "cell_type": "code",
   "execution_count": 16,
   "id": "bdc3581e-38e0-49bb-b5d6-47ff4a7c3b70",
   "metadata": {},
   "outputs": [
    {
     "data": {
      "image/png": "[encoded data removed]",
      "text/plain": [
       "<Figure size 432x288 with 1 Axes>"
      ]
     },
     "metadata": {
      "needs_background": "light"
     },
     "output_type": "display_data"
    },
    {
     "data": {
      "image/png": "[encoded data removed]",
      "text/plain": [
       "<Figure size 432x288 with 1 Axes>"
      ]
     },
     "metadata": {
      "needs_background": "light"
     },
     "output_type": "display_data"
    },
    {
     "data": {
      "image/png": "[encoded data removed]",
      "text/plain": [
       "<Figure size 432x288 with 1 Axes>"
      ]
     },
     "metadata": {
      "needs_background": "light"
     },
     "output_type": "display_data"
    },
    {
     "data": {
      "image/png": "[encoded data removed]",
      "text/plain": [
       "<Figure size 432x288 with 1 Axes>"
      ]
     },
     "metadata": {
      "needs_background": "light"
     },
     "output_type": "display_data"
    },
    {
     "data": {
      "image/png": "[encoded data removed]",
      "text/plain": [
       "<Figure size 432x288 with 1 Axes>"
      ]
     },
     "metadata": {
      "needs_background": "light"
     },
     "output_type": "display_data"
    },
    {
     "data": {
      "image/png": "[encoded data removed]",
      "text/plain": [
       "<Figure size 432x288 with 1 Axes>"
      ]
     },
     "metadata": {
      "needs_background": "light"
     },
     "output_type": "display_data"
    },
    {
     "data": {
      "image/png": "[encoded data removed]",
      "text/plain": [
       "<Figure size 432x288 with 1 Axes>"
      ]
     },
     "metadata": {
      "needs_background": "light"
     },
     "output_type": "display_data"
    },
    {
     "data": {
      "image/png": "[encoded data removed]",
      "text/plain": [
       "<Figure size 432x288 with 1 Axes>"
      ]
     },
     "metadata": {
      "needs_background": "light"
     },
     "output_type": "display_data"
    },
    {
     "data": {
      "image/png": "[encoded data removed]",
      "text/plain": [
       "<Figure size 432x288 with 1 Axes>"
      ]
     },
     "metadata": {
      "needs_background": "light"
     },
     "output_type": "display_data"
    },
    {
     "data": {
      "image/png": "[encoded data removed]",
      "text/plain": [
       "<Figure size 432x288 with 1 Axes>"
      ]
     },
     "metadata": {
      "needs_background": "light"
     },
     "output_type": "display_data"
    },
    {
     "data": {
      "image/png": "[encoded data removed]",
      "text/plain": [
       "<Figure size 432x288 with 1 Axes>"
      ]
     },
     "metadata": {
      "needs_background": "light"
     },
     "output_type": "display_data"
    }
   ],
   "source": [
    "# genreごとのpopularityの分布をプロット\n",
    "create_group_histplot(train, group_key=\"genre_name\", group_value=\"popularity\")"
   ]
  },
  {
   "cell_type": "code",
   "execution_count": 17,
   "id": "efc28eff-8a05-418e-ac4e-2a3d95690932",
   "metadata": {},
   "outputs": [
    {
     "data": {
      "image/png": "[encoded data removed]",
      "text/plain": [
       "<Figure size 432x288 with 1 Axes>"
      ]
     },
     "metadata": {
      "needs_background": "light"
     },
     "output_type": "display_data"
    },
    {
     "data": {
      "image/png": "[encoded data removed]",
      "text/plain": [
       "<Figure size 432x288 with 1 Axes>"
      ]
     },
     "metadata": {
      "needs_background": "light"
     },
     "output_type": "display_data"
    },
    {
     "data": {
      "image/png": "[encoded data removed]",
      "text/plain": [
       "<Figure size 432x288 with 1 Axes>"
      ]
     },
     "metadata": {
      "needs_background": "light"
     },
     "output_type": "display_data"
    },
    {
     "data": {
      "image/png": "[encoded data removed]",
      "text/plain": [
       "<Figure size 432x288 with 1 Axes>"
      ]
     },
     "metadata": {
      "needs_background": "light"
     },
     "output_type": "display_data"
    },
    {
     "data": {
      "image/png": "[encoded data removed]",
      "text/plain": [
       "<Figure size 432x288 with 1 Axes>"
      ]
     },
     "metadata": {
      "needs_background": "light"
     },
     "output_type": "display_data"
    },
    {
     "data": {
      "image/png": "[encoded data removed]",
      "text/plain": [
       "<Figure size 432x288 with 1 Axes>"
      ]
     },
     "metadata": {
      "needs_background": "light"
     },
     "output_type": "display_data"
    },
    {
     "data": {
      "image/png": "[encoded data removed]",
      "text/plain": [
       "<Figure size 432x288 with 1 Axes>"
      ]
     },
     "metadata": {
      "needs_background": "light"
     },
     "output_type": "display_data"
    },
    {
     "data": {
      "image/png": "[encoded data removed]",
      "text/plain": [
       "<Figure size 432x288 with 1 Axes>"
      ]
     },
     "metadata": {
      "needs_background": "light"
     },
     "output_type": "display_data"
    },
    {
     "data": {
      "image/png": "[encoded data removed]",
      "text/plain": [
       "<Figure size 432x288 with 1 Axes>"
      ]
     },
     "metadata": {
      "needs_background": "light"
     },
     "output_type": "display_data"
    },
    {
     "data": {
      "image/png": "[encoded data removed]",
      "text/plain": [
       "<Figure size 432x288 with 1 Axes>"
      ]
     },
     "metadata": {
      "needs_background": "light"
     },
     "output_type": "display_data"
    },
    {
     "data": {
      "image/png": "[encoded data removed]",
      "text/plain": [
       "<Figure size 432x288 with 1 Axes>"
      ]
     },
     "metadata": {
      "needs_background": "light"
     },
     "output_type": "display_data"
    }
   ],
   "source": [
    "# genreとregionの関係をheatmapでプロット\n",
    "create_group_histplot(train, group_key=\"genre_name\", group_value=\"region\")"
   ]
  },
  {
   "cell_type": "code",
   "execution_count": 22,
   "id": "af8a5e2f-f799-499c-8b7f-dab6447add47",
   "metadata": {},
   "outputs": [
    {
     "data": {
      "text/html": [
       "<div>\n",
       "<style scoped>\n",
       "    .dataframe tbody tr th:only-of-type {\n",
       "        vertical-align: middle;\n",
       "    }\n",
       "\n",
       "    .dataframe tbody tr th {\n",
       "        vertical-align: top;\n",
       "    }\n",
       "\n",
       "    .dataframe thead th {\n",
       "        text-align: right;\n",
       "    }\n",
       "</style>\n",
       "<table border=\"1\" class=\"dataframe\">\n",
       "  <thead>\n",
       "    <tr style=\"text-align: right;\">\n",
       "      <th></th>\n",
       "      <th>acousticness</th>\n",
       "      <th>loudness</th>\n",
       "      <th>energy</th>\n",
       "    </tr>\n",
       "  </thead>\n",
       "  <tbody>\n",
       "    <tr>\n",
       "      <th>count</th>\n",
       "      <td>4046.000000</td>\n",
       "      <td>4046.000000</td>\n",
       "      <td>4046.000000</td>\n",
       "    </tr>\n",
       "    <tr>\n",
       "      <th>mean</th>\n",
       "      <td>0.346455</td>\n",
       "      <td>-7.715659</td>\n",
       "      <td>0.603663</td>\n",
       "    </tr>\n",
       "    <tr>\n",
       "      <th>std</th>\n",
       "      <td>0.241004</td>\n",
       "      <td>4.109640</td>\n",
       "      <td>0.201020</td>\n",
       "    </tr>\n",
       "    <tr>\n",
       "      <th>min</th>\n",
       "      <td>0.000000</td>\n",
       "      <td>-37.820457</td>\n",
       "      <td>0.003383</td>\n",
       "    </tr>\n",
       "    <tr>\n",
       "      <th>25%</th>\n",
       "      <td>0.149705</td>\n",
       "      <td>-9.775363</td>\n",
       "      <td>0.462137</td>\n",
       "    </tr>\n",
       "    <tr>\n",
       "      <th>50%</th>\n",
       "      <td>0.250711</td>\n",
       "      <td>-7.189460</td>\n",
       "      <td>0.634078</td>\n",
       "    </tr>\n",
       "    <tr>\n",
       "      <th>75%</th>\n",
       "      <td>0.523088</td>\n",
       "      <td>-4.876553</td>\n",
       "      <td>0.768768</td>\n",
       "    </tr>\n",
       "    <tr>\n",
       "      <th>max</th>\n",
       "      <td>1.000000</td>\n",
       "      <td>0.000000</td>\n",
       "      <td>1.000000</td>\n",
       "    </tr>\n",
       "  </tbody>\n",
       "</table>\n",
       "</div>"
      ],
      "text/plain": [
       "       acousticness     loudness       energy\n",
       "count   4046.000000  4046.000000  4046.000000\n",
       "mean       0.346455    -7.715659     0.603663\n",
       "std        0.241004     4.109640     0.201020\n",
       "min        0.000000   -37.820457     0.003383\n",
       "25%        0.149705    -9.775363     0.462137\n",
       "50%        0.250711    -7.189460     0.634078\n",
       "75%        0.523088    -4.876553     0.768768\n",
       "max        1.000000     0.000000     1.000000"
      ]
     },
     "execution_count": 22,
     "metadata": {},
     "output_type": "execute_result"
    }
   ],
   "source": [
    "train[[\"acousticness\", \"loudness\", \"energy\"]].describe()"
   ]
  },
  {
   "cell_type": "code",
   "execution_count": null,
   "id": "562fd814-bcf6-4700-afce-f28f857d0a8c",
   "metadata": {},
   "outputs": [],
   "source": []
  }
 ],
 "metadata": {
  "kernelspec": {
   "display_name": "Python 3",
   "language": "python",
   "name": "python3"
  },
  "language_info": {
   "codemirror_mode": {
    "name": "ipython",
    "version": 3
   },
   "file_extension": ".py",
   "mimetype": "text/x-python",
   "name": "python",
   "nbconvert_exporter": "python",
   "pygments_lexer": "ipython3",
   "version": "3.8.5"
  }
 },
 "nbformat": 4,
 "nbformat_minor": 5
}
