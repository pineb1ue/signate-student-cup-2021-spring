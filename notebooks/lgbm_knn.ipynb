{
 "cells": [
  {
   "cell_type": "markdown",
   "id": "627b0481-6f00-46c3-b840-aebf4834b7b5",
   "metadata": {},
   "source": [
    "## 1. Import Library"
   ]
  },
  {
   "cell_type": "code",
   "execution_count": 2,
   "id": "bd21be3a-297c-44de-b016-459d90b0ac24",
   "metadata": {},
   "outputs": [],
   "source": [
    "import warnings\n",
    "\n",
    "import numpy as np\n",
    "import pandas as pd\n",
    "from sklearn.preprocessing import StandardScaler, LabelEncoder\n",
    "from sklearn.model_selection import StratifiedKFold\n",
    "from sklearn.neighbors import KNeighborsClassifier\n",
    "from sklearn.metrics import classification_report, f1_score, confusion_matrix\n",
    "import seaborn as sns\n",
    "import lightgbm as lgb\n",
    "from optuna.integration import lightgbm as opt_lgb\n",
    "import optuna\n",
    "import matplotlib.pyplot as plt\n",
    "\n",
    "warnings.simplefilter('ignore', pd.core.common.SettingWithCopyWarning)\n",
    "warnings.simplefilter('ignore', UserWarning)"
   ]
  },
  {
   "cell_type": "markdown",
   "id": "ee732578-ea3d-4835-9f34-a1e68a6d7af8",
   "metadata": {},
   "source": [
    "## 2. Load data"
   ]
  },
  {
   "cell_type": "code",
   "execution_count": 3,
   "id": "e142e7b5-32f5-4481-872d-cf9b767c164c",
   "metadata": {},
   "outputs": [],
   "source": [
    "df_train = pd.read_csv(\"../data/train.csv\")\n",
    "df_test = pd.read_csv(\"../data/test.csv\")\n",
    "df_sample_sub = pd.read_csv(\"../data/sample_submit.csv\")\n",
    "df_sample_sub.columns = [\"index\", \"genre\"]\n",
    "df_genre_labels = pd.read_csv(\"../data/genre_labels.csv\")"
   ]
  },
  {
   "cell_type": "markdown",
   "id": "bac6ad86-2265-4efb-ba3e-9c150f8c1dd5",
   "metadata": {},
   "source": [
    "## 3. Preparation"
   ]
  },
  {
   "cell_type": "code",
   "execution_count": 4,
   "id": "29759407-60d0-47bf-91b5-887e56a5db23",
   "metadata": {},
   "outputs": [],
   "source": [
    "N_CLASSES = 11"
   ]
  },
  {
   "cell_type": "code",
   "execution_count": 5,
   "id": "5c62bfe5-9101-4651-9c6c-a9b989ae2756",
   "metadata": {},
   "outputs": [],
   "source": [
    "def merge_train_test(df_train, df_test):\n",
    "    if \"genre\" not in df_test.columns.tolist():\n",
    "        df_test[\"genre\"] = -100\n",
    "    res = pd.concat([df_train, df_test])\n",
    "    res.reset_index(inplace=True, drop=True)\n",
    "    return res\n",
    "\n",
    "def split_train_test(df):\n",
    "    df_train = df[df[\"genre\"] != -100]\n",
    "    df_test = df[df[\"genre\"] == -100]\n",
    "    df_train.reset_index(inplace=True, drop=True)\n",
    "    df_test.reset_index(inplace=True, drop=True)\n",
    "    return df_train, df_test\n",
    "\n",
    "df = merge_train_test(df_train, df_test)"
   ]
  },
  {
   "cell_type": "markdown",
   "id": "a0083093-be09-451e-a01d-cfcba617751f",
   "metadata": {},
   "source": [
    "### 4. Feature Engineering"
   ]
  },
  {
   "cell_type": "markdown",
   "id": "245275bf-bd08-4af0-9972-6d1a565edbb5",
   "metadata": {},
   "source": [
    "### 4-1. 基本的な操作\n",
    "- lgbm_knn_baselineと同様\n",
    "    - tempo : tempo(meanで置き換え), tempo_low, tempo_high, tempo_div\n",
    "    - region : one-hot-encoding, CE_region(count-encoding), LE_region(label-encoding)\n",
    "    - num_nans\n",
    "- 新たに追加\n",
    "    - tempo : tempo_sum, tempo_diff\n",
    "    - popularity : popularity01, popularity10"
   ]
  },
  {
   "cell_type": "code",
   "execution_count": 6,
   "id": "a6947f11-38ca-4352-a0f0-e62c118dd259",
   "metadata": {},
   "outputs": [
    {
     "data": {
      "text/html": [
       "<div>\n",
       "<style scoped>\n",
       "    .dataframe tbody tr th:only-of-type {\n",
       "        vertical-align: middle;\n",
       "    }\n",
       "\n",
       "    .dataframe tbody tr th {\n",
       "        vertical-align: top;\n",
       "    }\n",
       "\n",
       "    .dataframe thead th {\n",
       "        text-align: right;\n",
       "    }\n",
       "</style>\n",
       "<table border=\"1\" class=\"dataframe\">\n",
       "  <thead>\n",
       "    <tr style=\"text-align: right;\">\n",
       "      <th></th>\n",
       "      <th>index</th>\n",
       "      <th>genre</th>\n",
       "      <th>popularity</th>\n",
       "      <th>duration_ms</th>\n",
       "      <th>acousticness</th>\n",
       "      <th>positiveness</th>\n",
       "      <th>danceability</th>\n",
       "      <th>loudness</th>\n",
       "      <th>energy</th>\n",
       "      <th>liveness</th>\n",
       "      <th>...</th>\n",
       "      <th>region_O</th>\n",
       "      <th>region_P</th>\n",
       "      <th>region_Q</th>\n",
       "      <th>region_R</th>\n",
       "      <th>region_S</th>\n",
       "      <th>region_T</th>\n",
       "      <th>region_unknown</th>\n",
       "      <th>num_nans</th>\n",
       "      <th>popularity10</th>\n",
       "      <th>popularity01</th>\n",
       "    </tr>\n",
       "  </thead>\n",
       "  <tbody>\n",
       "    <tr>\n",
       "      <th>0</th>\n",
       "      <td>0</td>\n",
       "      <td>10</td>\n",
       "      <td>11</td>\n",
       "      <td>201094</td>\n",
       "      <td>0.112811</td>\n",
       "      <td>0.157247</td>\n",
       "      <td>0.187841</td>\n",
       "      <td>-1.884852</td>\n",
       "      <td>0.893918</td>\n",
       "      <td>0.363568</td>\n",
       "      <td>...</td>\n",
       "      <td>0</td>\n",
       "      <td>0</td>\n",
       "      <td>0</td>\n",
       "      <td>0</td>\n",
       "      <td>0</td>\n",
       "      <td>0</td>\n",
       "      <td>0</td>\n",
       "      <td>0</td>\n",
       "      <td>1</td>\n",
       "      <td>1</td>\n",
       "    </tr>\n",
       "    <tr>\n",
       "      <th>1</th>\n",
       "      <td>1</td>\n",
       "      <td>8</td>\n",
       "      <td>69</td>\n",
       "      <td>308493</td>\n",
       "      <td>0.101333</td>\n",
       "      <td>0.346563</td>\n",
       "      <td>0.554444</td>\n",
       "      <td>-5.546495</td>\n",
       "      <td>0.874409</td>\n",
       "      <td>0.193892</td>\n",
       "      <td>...</td>\n",
       "      <td>0</td>\n",
       "      <td>0</td>\n",
       "      <td>0</td>\n",
       "      <td>0</td>\n",
       "      <td>0</td>\n",
       "      <td>0</td>\n",
       "      <td>0</td>\n",
       "      <td>0</td>\n",
       "      <td>6</td>\n",
       "      <td>9</td>\n",
       "    </tr>\n",
       "    <tr>\n",
       "      <th>2</th>\n",
       "      <td>2</td>\n",
       "      <td>3</td>\n",
       "      <td>43</td>\n",
       "      <td>197225</td>\n",
       "      <td>0.496420</td>\n",
       "      <td>0.265391</td>\n",
       "      <td>0.457642</td>\n",
       "      <td>-9.255670</td>\n",
       "      <td>0.439933</td>\n",
       "      <td>0.217146</td>\n",
       "      <td>...</td>\n",
       "      <td>0</td>\n",
       "      <td>0</td>\n",
       "      <td>0</td>\n",
       "      <td>0</td>\n",
       "      <td>0</td>\n",
       "      <td>0</td>\n",
       "      <td>0</td>\n",
       "      <td>0</td>\n",
       "      <td>4</td>\n",
       "      <td>3</td>\n",
       "    </tr>\n",
       "    <tr>\n",
       "      <th>3</th>\n",
       "      <td>3</td>\n",
       "      <td>10</td>\n",
       "      <td>45</td>\n",
       "      <td>301092</td>\n",
       "      <td>0.165667</td>\n",
       "      <td>0.245533</td>\n",
       "      <td>0.356578</td>\n",
       "      <td>-5.088788</td>\n",
       "      <td>0.868704</td>\n",
       "      <td>0.377025</td>\n",
       "      <td>...</td>\n",
       "      <td>0</td>\n",
       "      <td>0</td>\n",
       "      <td>0</td>\n",
       "      <td>0</td>\n",
       "      <td>0</td>\n",
       "      <td>0</td>\n",
       "      <td>0</td>\n",
       "      <td>0</td>\n",
       "      <td>4</td>\n",
       "      <td>5</td>\n",
       "    </tr>\n",
       "    <tr>\n",
       "      <th>4</th>\n",
       "      <td>4</td>\n",
       "      <td>3</td>\n",
       "      <td>57</td>\n",
       "      <td>277348</td>\n",
       "      <td>0.190720</td>\n",
       "      <td>0.777578</td>\n",
       "      <td>0.830479</td>\n",
       "      <td>-3.933896</td>\n",
       "      <td>0.650149</td>\n",
       "      <td>0.169323</td>\n",
       "      <td>...</td>\n",
       "      <td>0</td>\n",
       "      <td>0</td>\n",
       "      <td>0</td>\n",
       "      <td>0</td>\n",
       "      <td>0</td>\n",
       "      <td>0</td>\n",
       "      <td>1</td>\n",
       "      <td>0</td>\n",
       "      <td>5</td>\n",
       "      <td>7</td>\n",
       "    </tr>\n",
       "    <tr>\n",
       "      <th>...</th>\n",
       "      <td>...</td>\n",
       "      <td>...</td>\n",
       "      <td>...</td>\n",
       "      <td>...</td>\n",
       "      <td>...</td>\n",
       "      <td>...</td>\n",
       "      <td>...</td>\n",
       "      <td>...</td>\n",
       "      <td>...</td>\n",
       "      <td>...</td>\n",
       "      <td>...</td>\n",
       "      <td>...</td>\n",
       "      <td>...</td>\n",
       "      <td>...</td>\n",
       "      <td>...</td>\n",
       "      <td>...</td>\n",
       "      <td>...</td>\n",
       "      <td>...</td>\n",
       "      <td>...</td>\n",
       "      <td>...</td>\n",
       "      <td>...</td>\n",
       "    </tr>\n",
       "    <tr>\n",
       "      <th>8087</th>\n",
       "      <td>8087</td>\n",
       "      <td>-100</td>\n",
       "      <td>34</td>\n",
       "      <td>366668</td>\n",
       "      <td>0.117208</td>\n",
       "      <td>0.316026</td>\n",
       "      <td>0.502289</td>\n",
       "      <td>-2.909329</td>\n",
       "      <td>0.824708</td>\n",
       "      <td>0.320241</td>\n",
       "      <td>...</td>\n",
       "      <td>0</td>\n",
       "      <td>0</td>\n",
       "      <td>0</td>\n",
       "      <td>0</td>\n",
       "      <td>0</td>\n",
       "      <td>0</td>\n",
       "      <td>0</td>\n",
       "      <td>0</td>\n",
       "      <td>3</td>\n",
       "      <td>4</td>\n",
       "    </tr>\n",
       "    <tr>\n",
       "      <th>8088</th>\n",
       "      <td>8088</td>\n",
       "      <td>-100</td>\n",
       "      <td>53</td>\n",
       "      <td>240081</td>\n",
       "      <td>0.225540</td>\n",
       "      <td>0.391226</td>\n",
       "      <td>0.483655</td>\n",
       "      <td>-5.013634</td>\n",
       "      <td>0.630808</td>\n",
       "      <td>0.163884</td>\n",
       "      <td>...</td>\n",
       "      <td>0</td>\n",
       "      <td>0</td>\n",
       "      <td>0</td>\n",
       "      <td>0</td>\n",
       "      <td>0</td>\n",
       "      <td>0</td>\n",
       "      <td>0</td>\n",
       "      <td>0</td>\n",
       "      <td>5</td>\n",
       "      <td>3</td>\n",
       "    </tr>\n",
       "    <tr>\n",
       "      <th>8089</th>\n",
       "      <td>8089</td>\n",
       "      <td>-100</td>\n",
       "      <td>48</td>\n",
       "      <td>217839</td>\n",
       "      <td>0.215571</td>\n",
       "      <td>0.828567</td>\n",
       "      <td>0.689747</td>\n",
       "      <td>-8.974036</td>\n",
       "      <td>0.697981</td>\n",
       "      <td>0.318250</td>\n",
       "      <td>...</td>\n",
       "      <td>0</td>\n",
       "      <td>0</td>\n",
       "      <td>0</td>\n",
       "      <td>0</td>\n",
       "      <td>0</td>\n",
       "      <td>0</td>\n",
       "      <td>0</td>\n",
       "      <td>0</td>\n",
       "      <td>4</td>\n",
       "      <td>8</td>\n",
       "    </tr>\n",
       "    <tr>\n",
       "      <th>8090</th>\n",
       "      <td>8090</td>\n",
       "      <td>-100</td>\n",
       "      <td>45</td>\n",
       "      <td>249612</td>\n",
       "      <td>0.205074</td>\n",
       "      <td>0.730554</td>\n",
       "      <td>0.580581</td>\n",
       "      <td>-1.915320</td>\n",
       "      <td>0.828423</td>\n",
       "      <td>0.360663</td>\n",
       "      <td>...</td>\n",
       "      <td>0</td>\n",
       "      <td>0</td>\n",
       "      <td>0</td>\n",
       "      <td>0</td>\n",
       "      <td>0</td>\n",
       "      <td>0</td>\n",
       "      <td>0</td>\n",
       "      <td>0</td>\n",
       "      <td>4</td>\n",
       "      <td>5</td>\n",
       "    </tr>\n",
       "    <tr>\n",
       "      <th>8091</th>\n",
       "      <td>8091</td>\n",
       "      <td>-100</td>\n",
       "      <td>39</td>\n",
       "      <td>237732</td>\n",
       "      <td>0.749124</td>\n",
       "      <td>0.283727</td>\n",
       "      <td>0.509884</td>\n",
       "      <td>-9.121694</td>\n",
       "      <td>0.370835</td>\n",
       "      <td>0.254445</td>\n",
       "      <td>...</td>\n",
       "      <td>0</td>\n",
       "      <td>0</td>\n",
       "      <td>0</td>\n",
       "      <td>0</td>\n",
       "      <td>0</td>\n",
       "      <td>1</td>\n",
       "      <td>0</td>\n",
       "      <td>0</td>\n",
       "      <td>3</td>\n",
       "      <td>9</td>\n",
       "    </tr>\n",
       "  </tbody>\n",
       "</table>\n",
       "<p>8092 rows × 44 columns</p>\n",
       "</div>"
      ],
      "text/plain": [
       "      index  genre  popularity  duration_ms  acousticness  positiveness  \\\n",
       "0         0     10          11       201094      0.112811      0.157247   \n",
       "1         1      8          69       308493      0.101333      0.346563   \n",
       "2         2      3          43       197225      0.496420      0.265391   \n",
       "3         3     10          45       301092      0.165667      0.245533   \n",
       "4         4      3          57       277348      0.190720      0.777578   \n",
       "...     ...    ...         ...          ...           ...           ...   \n",
       "8087   8087   -100          34       366668      0.117208      0.316026   \n",
       "8088   8088   -100          53       240081      0.225540      0.391226   \n",
       "8089   8089   -100          48       217839      0.215571      0.828567   \n",
       "8090   8090   -100          45       249612      0.205074      0.730554   \n",
       "8091   8091   -100          39       237732      0.749124      0.283727   \n",
       "\n",
       "      danceability  loudness    energy  liveness  ...  region_O  region_P  \\\n",
       "0         0.187841 -1.884852  0.893918  0.363568  ...         0         0   \n",
       "1         0.554444 -5.546495  0.874409  0.193892  ...         0         0   \n",
       "2         0.457642 -9.255670  0.439933  0.217146  ...         0         0   \n",
       "3         0.356578 -5.088788  0.868704  0.377025  ...         0         0   \n",
       "4         0.830479 -3.933896  0.650149  0.169323  ...         0         0   \n",
       "...            ...       ...       ...       ...  ...       ...       ...   \n",
       "8087      0.502289 -2.909329  0.824708  0.320241  ...         0         0   \n",
       "8088      0.483655 -5.013634  0.630808  0.163884  ...         0         0   \n",
       "8089      0.689747 -8.974036  0.697981  0.318250  ...         0         0   \n",
       "8090      0.580581 -1.915320  0.828423  0.360663  ...         0         0   \n",
       "8091      0.509884 -9.121694  0.370835  0.254445  ...         0         0   \n",
       "\n",
       "      region_Q region_R region_S  region_T  region_unknown  num_nans  \\\n",
       "0            0        0        0         0               0         0   \n",
       "1            0        0        0         0               0         0   \n",
       "2            0        0        0         0               0         0   \n",
       "3            0        0        0         0               0         0   \n",
       "4            0        0        0         0               1         0   \n",
       "...        ...      ...      ...       ...             ...       ...   \n",
       "8087         0        0        0         0               0         0   \n",
       "8088         0        0        0         0               0         0   \n",
       "8089         0        0        0         0               0         0   \n",
       "8090         0        0        0         0               0         0   \n",
       "8091         0        0        0         1               0         0   \n",
       "\n",
       "      popularity10  popularity01  \n",
       "0                1             1  \n",
       "1                6             9  \n",
       "2                4             3  \n",
       "3                4             5  \n",
       "4                5             7  \n",
       "...            ...           ...  \n",
       "8087             3             4  \n",
       "8088             5             3  \n",
       "8089             4             8  \n",
       "8090             4             5  \n",
       "8091             3             9  \n",
       "\n",
       "[8092 rows x 44 columns]"
      ]
     },
     "execution_count": 6,
     "metadata": {},
     "output_type": "execute_result"
    }
   ],
   "source": [
    "# genre_name\n",
    "df[\"genre_name\"] = df[\"genre\"].map(dict(df_genre_labels[[\"labels\", \"genre\"]].values))\n",
    "\n",
    "# tempo\n",
    "tempo = df[\"tempo\"].str.split(\"-\").apply(pd.Series).astype(float)\n",
    "tempo.columns = [\"tempo_low\", \"tempo_high\"]\n",
    "df = pd.concat([df, tempo], axis=1)\n",
    "\n",
    "df[\"tempo_sum\"] = df[\"tempo_low\"] + tempo[\"tempo_high\"]\n",
    "df[\"tempo_diff\"] = df[\"tempo_high\"] - tempo[\"tempo_low\"]\n",
    "df[\"tempo_div\"] = df[\"tempo_low\"] / tempo[\"tempo_high\"]\n",
    "\n",
    "# df[\"tempo_low\"] = df[\"tempo_low\"].replace(0.0, 0.001)\n",
    "df[\"tempo\"] = df[\"tempo\"].map(lambda x: sum(map(int, x.split(\"-\"))) / 2)\n",
    "\n",
    "# region\n",
    "df = pd.concat([df, pd.get_dummies(df[\"region\"]).rename(columns={\"unknown\": \"region_unknown\"})], axis=1)\n",
    "\n",
    "# num_nans\n",
    "df[\"num_nans\"] = 0\n",
    "for col in [\"acousticness\", \"positiveness\", \n",
    "            \"danceability\", \"energy\", \"liveness\", \n",
    "            \"speechiness\", \"instrumentalness\"]:\n",
    "    df[\"num_nans\"] += df[col].isna()\n",
    "    \n",
    "\n",
    "# popularity\n",
    "popularity = df[\"popularity\"].astype(str).str.zfill(2)\n",
    "popularity = [[i[0], i[1]] for i in popularity]\n",
    "popularity = pd.DataFrame(popularity, columns=[\"popularity10\", \"popularity01\"])\n",
    "popularity = popularity.astype(int)\n",
    "df = pd.concat([df, popularity], axis=1)\n",
    "df"
   ]
  },
  {
   "cell_type": "markdown",
   "id": "078c7b73-b85b-4dd5-8cbc-97f9b57c12c0",
   "metadata": {},
   "source": [
    "### 4-2. Encoder\n",
    "- CountEncoder : region\n",
    "- LabelEncoder : region"
   ]
  },
  {
   "cell_type": "code",
   "execution_count": 7,
   "id": "20f9c851-77c8-4eb4-9e78-b22e6aa24c70",
   "metadata": {},
   "outputs": [
    {
     "data": {
      "text/html": [
       "<div>\n",
       "<style scoped>\n",
       "    .dataframe tbody tr th:only-of-type {\n",
       "        vertical-align: middle;\n",
       "    }\n",
       "\n",
       "    .dataframe tbody tr th {\n",
       "        vertical-align: top;\n",
       "    }\n",
       "\n",
       "    .dataframe thead th {\n",
       "        text-align: right;\n",
       "    }\n",
       "</style>\n",
       "<table border=\"1\" class=\"dataframe\">\n",
       "  <thead>\n",
       "    <tr style=\"text-align: right;\">\n",
       "      <th></th>\n",
       "      <th>index</th>\n",
       "      <th>genre</th>\n",
       "      <th>popularity</th>\n",
       "      <th>duration_ms</th>\n",
       "      <th>acousticness</th>\n",
       "      <th>positiveness</th>\n",
       "      <th>danceability</th>\n",
       "      <th>loudness</th>\n",
       "      <th>energy</th>\n",
       "      <th>liveness</th>\n",
       "      <th>...</th>\n",
       "      <th>region_Q</th>\n",
       "      <th>region_R</th>\n",
       "      <th>region_S</th>\n",
       "      <th>region_T</th>\n",
       "      <th>region_unknown</th>\n",
       "      <th>num_nans</th>\n",
       "      <th>popularity10</th>\n",
       "      <th>popularity01</th>\n",
       "      <th>CE_region</th>\n",
       "      <th>LE_region</th>\n",
       "    </tr>\n",
       "  </thead>\n",
       "  <tbody>\n",
       "    <tr>\n",
       "      <th>0</th>\n",
       "      <td>0</td>\n",
       "      <td>10</td>\n",
       "      <td>11</td>\n",
       "      <td>201094</td>\n",
       "      <td>0.112811</td>\n",
       "      <td>0.157247</td>\n",
       "      <td>0.187841</td>\n",
       "      <td>-1.884852</td>\n",
       "      <td>0.893918</td>\n",
       "      <td>0.363568</td>\n",
       "      <td>...</td>\n",
       "      <td>0</td>\n",
       "      <td>0</td>\n",
       "      <td>0</td>\n",
       "      <td>0</td>\n",
       "      <td>0</td>\n",
       "      <td>0</td>\n",
       "      <td>1</td>\n",
       "      <td>1</td>\n",
       "      <td>385.0</td>\n",
       "      <td>7.0</td>\n",
       "    </tr>\n",
       "    <tr>\n",
       "      <th>1</th>\n",
       "      <td>1</td>\n",
       "      <td>8</td>\n",
       "      <td>69</td>\n",
       "      <td>308493</td>\n",
       "      <td>0.101333</td>\n",
       "      <td>0.346563</td>\n",
       "      <td>0.554444</td>\n",
       "      <td>-5.546495</td>\n",
       "      <td>0.874409</td>\n",
       "      <td>0.193892</td>\n",
       "      <td>...</td>\n",
       "      <td>0</td>\n",
       "      <td>0</td>\n",
       "      <td>0</td>\n",
       "      <td>0</td>\n",
       "      <td>0</td>\n",
       "      <td>0</td>\n",
       "      <td>6</td>\n",
       "      <td>9</td>\n",
       "      <td>1573.0</td>\n",
       "      <td>8.0</td>\n",
       "    </tr>\n",
       "    <tr>\n",
       "      <th>2</th>\n",
       "      <td>2</td>\n",
       "      <td>3</td>\n",
       "      <td>43</td>\n",
       "      <td>197225</td>\n",
       "      <td>0.496420</td>\n",
       "      <td>0.265391</td>\n",
       "      <td>0.457642</td>\n",
       "      <td>-9.255670</td>\n",
       "      <td>0.439933</td>\n",
       "      <td>0.217146</td>\n",
       "      <td>...</td>\n",
       "      <td>0</td>\n",
       "      <td>0</td>\n",
       "      <td>0</td>\n",
       "      <td>0</td>\n",
       "      <td>0</td>\n",
       "      <td>0</td>\n",
       "      <td>4</td>\n",
       "      <td>3</td>\n",
       "      <td>1353.0</td>\n",
       "      <td>4.0</td>\n",
       "    </tr>\n",
       "    <tr>\n",
       "      <th>3</th>\n",
       "      <td>3</td>\n",
       "      <td>10</td>\n",
       "      <td>45</td>\n",
       "      <td>301092</td>\n",
       "      <td>0.165667</td>\n",
       "      <td>0.245533</td>\n",
       "      <td>0.356578</td>\n",
       "      <td>-5.088788</td>\n",
       "      <td>0.868704</td>\n",
       "      <td>0.377025</td>\n",
       "      <td>...</td>\n",
       "      <td>0</td>\n",
       "      <td>0</td>\n",
       "      <td>0</td>\n",
       "      <td>0</td>\n",
       "      <td>0</td>\n",
       "      <td>0</td>\n",
       "      <td>4</td>\n",
       "      <td>5</td>\n",
       "      <td>171.0</td>\n",
       "      <td>2.0</td>\n",
       "    </tr>\n",
       "    <tr>\n",
       "      <th>4</th>\n",
       "      <td>4</td>\n",
       "      <td>3</td>\n",
       "      <td>57</td>\n",
       "      <td>277348</td>\n",
       "      <td>0.190720</td>\n",
       "      <td>0.777578</td>\n",
       "      <td>0.830479</td>\n",
       "      <td>-3.933896</td>\n",
       "      <td>0.650149</td>\n",
       "      <td>0.169323</td>\n",
       "      <td>...</td>\n",
       "      <td>0</td>\n",
       "      <td>0</td>\n",
       "      <td>0</td>\n",
       "      <td>0</td>\n",
       "      <td>1</td>\n",
       "      <td>0</td>\n",
       "      <td>5</td>\n",
       "      <td>7</td>\n",
       "      <td>696.0</td>\n",
       "      <td>20.0</td>\n",
       "    </tr>\n",
       "    <tr>\n",
       "      <th>...</th>\n",
       "      <td>...</td>\n",
       "      <td>...</td>\n",
       "      <td>...</td>\n",
       "      <td>...</td>\n",
       "      <td>...</td>\n",
       "      <td>...</td>\n",
       "      <td>...</td>\n",
       "      <td>...</td>\n",
       "      <td>...</td>\n",
       "      <td>...</td>\n",
       "      <td>...</td>\n",
       "      <td>...</td>\n",
       "      <td>...</td>\n",
       "      <td>...</td>\n",
       "      <td>...</td>\n",
       "      <td>...</td>\n",
       "      <td>...</td>\n",
       "      <td>...</td>\n",
       "      <td>...</td>\n",
       "      <td>...</td>\n",
       "      <td>...</td>\n",
       "    </tr>\n",
       "    <tr>\n",
       "      <th>8087</th>\n",
       "      <td>8087</td>\n",
       "      <td>-100</td>\n",
       "      <td>34</td>\n",
       "      <td>366668</td>\n",
       "      <td>0.117208</td>\n",
       "      <td>0.316026</td>\n",
       "      <td>0.502289</td>\n",
       "      <td>-2.909329</td>\n",
       "      <td>0.824708</td>\n",
       "      <td>0.320241</td>\n",
       "      <td>...</td>\n",
       "      <td>0</td>\n",
       "      <td>0</td>\n",
       "      <td>0</td>\n",
       "      <td>0</td>\n",
       "      <td>0</td>\n",
       "      <td>0</td>\n",
       "      <td>3</td>\n",
       "      <td>4</td>\n",
       "      <td>673.0</td>\n",
       "      <td>1.0</td>\n",
       "    </tr>\n",
       "    <tr>\n",
       "      <th>8088</th>\n",
       "      <td>8088</td>\n",
       "      <td>-100</td>\n",
       "      <td>53</td>\n",
       "      <td>240081</td>\n",
       "      <td>0.225540</td>\n",
       "      <td>0.391226</td>\n",
       "      <td>0.483655</td>\n",
       "      <td>-5.013634</td>\n",
       "      <td>0.630808</td>\n",
       "      <td>0.163884</td>\n",
       "      <td>...</td>\n",
       "      <td>0</td>\n",
       "      <td>0</td>\n",
       "      <td>0</td>\n",
       "      <td>0</td>\n",
       "      <td>0</td>\n",
       "      <td>0</td>\n",
       "      <td>5</td>\n",
       "      <td>3</td>\n",
       "      <td>1573.0</td>\n",
       "      <td>8.0</td>\n",
       "    </tr>\n",
       "    <tr>\n",
       "      <th>8089</th>\n",
       "      <td>8089</td>\n",
       "      <td>-100</td>\n",
       "      <td>48</td>\n",
       "      <td>217839</td>\n",
       "      <td>0.215571</td>\n",
       "      <td>0.828567</td>\n",
       "      <td>0.689747</td>\n",
       "      <td>-8.974036</td>\n",
       "      <td>0.697981</td>\n",
       "      <td>0.318250</td>\n",
       "      <td>...</td>\n",
       "      <td>0</td>\n",
       "      <td>0</td>\n",
       "      <td>0</td>\n",
       "      <td>0</td>\n",
       "      <td>0</td>\n",
       "      <td>0</td>\n",
       "      <td>4</td>\n",
       "      <td>8</td>\n",
       "      <td>385.0</td>\n",
       "      <td>7.0</td>\n",
       "    </tr>\n",
       "    <tr>\n",
       "      <th>8090</th>\n",
       "      <td>8090</td>\n",
       "      <td>-100</td>\n",
       "      <td>45</td>\n",
       "      <td>249612</td>\n",
       "      <td>0.205074</td>\n",
       "      <td>0.730554</td>\n",
       "      <td>0.580581</td>\n",
       "      <td>-1.915320</td>\n",
       "      <td>0.828423</td>\n",
       "      <td>0.360663</td>\n",
       "      <td>...</td>\n",
       "      <td>0</td>\n",
       "      <td>0</td>\n",
       "      <td>0</td>\n",
       "      <td>0</td>\n",
       "      <td>0</td>\n",
       "      <td>0</td>\n",
       "      <td>4</td>\n",
       "      <td>5</td>\n",
       "      <td>673.0</td>\n",
       "      <td>1.0</td>\n",
       "    </tr>\n",
       "    <tr>\n",
       "      <th>8091</th>\n",
       "      <td>8091</td>\n",
       "      <td>-100</td>\n",
       "      <td>39</td>\n",
       "      <td>237732</td>\n",
       "      <td>0.749124</td>\n",
       "      <td>0.283727</td>\n",
       "      <td>0.509884</td>\n",
       "      <td>-9.121694</td>\n",
       "      <td>0.370835</td>\n",
       "      <td>0.254445</td>\n",
       "      <td>...</td>\n",
       "      <td>0</td>\n",
       "      <td>0</td>\n",
       "      <td>0</td>\n",
       "      <td>1</td>\n",
       "      <td>0</td>\n",
       "      <td>0</td>\n",
       "      <td>3</td>\n",
       "      <td>9</td>\n",
       "      <td>345.0</td>\n",
       "      <td>19.0</td>\n",
       "    </tr>\n",
       "  </tbody>\n",
       "</table>\n",
       "<p>8092 rows × 46 columns</p>\n",
       "</div>"
      ],
      "text/plain": [
       "      index  genre  popularity  duration_ms  acousticness  positiveness  \\\n",
       "0         0     10          11       201094      0.112811      0.157247   \n",
       "1         1      8          69       308493      0.101333      0.346563   \n",
       "2         2      3          43       197225      0.496420      0.265391   \n",
       "3         3     10          45       301092      0.165667      0.245533   \n",
       "4         4      3          57       277348      0.190720      0.777578   \n",
       "...     ...    ...         ...          ...           ...           ...   \n",
       "8087   8087   -100          34       366668      0.117208      0.316026   \n",
       "8088   8088   -100          53       240081      0.225540      0.391226   \n",
       "8089   8089   -100          48       217839      0.215571      0.828567   \n",
       "8090   8090   -100          45       249612      0.205074      0.730554   \n",
       "8091   8091   -100          39       237732      0.749124      0.283727   \n",
       "\n",
       "      danceability  loudness    energy  liveness  ...  region_Q  region_R  \\\n",
       "0         0.187841 -1.884852  0.893918  0.363568  ...         0         0   \n",
       "1         0.554444 -5.546495  0.874409  0.193892  ...         0         0   \n",
       "2         0.457642 -9.255670  0.439933  0.217146  ...         0         0   \n",
       "3         0.356578 -5.088788  0.868704  0.377025  ...         0         0   \n",
       "4         0.830479 -3.933896  0.650149  0.169323  ...         0         0   \n",
       "...            ...       ...       ...       ...  ...       ...       ...   \n",
       "8087      0.502289 -2.909329  0.824708  0.320241  ...         0         0   \n",
       "8088      0.483655 -5.013634  0.630808  0.163884  ...         0         0   \n",
       "8089      0.689747 -8.974036  0.697981  0.318250  ...         0         0   \n",
       "8090      0.580581 -1.915320  0.828423  0.360663  ...         0         0   \n",
       "8091      0.509884 -9.121694  0.370835  0.254445  ...         0         0   \n",
       "\n",
       "      region_S region_T region_unknown  num_nans  popularity10  popularity01  \\\n",
       "0            0        0              0         0             1             1   \n",
       "1            0        0              0         0             6             9   \n",
       "2            0        0              0         0             4             3   \n",
       "3            0        0              0         0             4             5   \n",
       "4            0        0              1         0             5             7   \n",
       "...        ...      ...            ...       ...           ...           ...   \n",
       "8087         0        0              0         0             3             4   \n",
       "8088         0        0              0         0             5             3   \n",
       "8089         0        0              0         0             4             8   \n",
       "8090         0        0              0         0             4             5   \n",
       "8091         0        1              0         0             3             9   \n",
       "\n",
       "      CE_region  LE_region  \n",
       "0         385.0        7.0  \n",
       "1        1573.0        8.0  \n",
       "2        1353.0        4.0  \n",
       "3         171.0        2.0  \n",
       "4         696.0       20.0  \n",
       "...         ...        ...  \n",
       "8087      673.0        1.0  \n",
       "8088     1573.0        8.0  \n",
       "8089      385.0        7.0  \n",
       "8090      673.0        1.0  \n",
       "8091      345.0       19.0  \n",
       "\n",
       "[8092 rows x 46 columns]"
      ]
     },
     "execution_count": 7,
     "metadata": {},
     "output_type": "execute_result"
    }
   ],
   "source": [
    "class CountEncoder:\n",
    "    def fit(self, series):\n",
    "        self.counts = series.groupby(series).count()\n",
    "        return self\n",
    "    \n",
    "    def transform(self, series):\n",
    "        return series.map(self.counts).fillna(0)\n",
    "    \n",
    "    def fit_transform(self, series):\n",
    "        return self.fit(series).transform(series)\n",
    "    \n",
    "columns_count_enc = [\"region\"]\n",
    "for col in columns_count_enc:\n",
    "    df[\"CE_\" + col] = CountEncoder().fit_transform(df[col])\n",
    "    df.loc[df[col].isna().values, \"CE_\" + col] = np.nan\n",
    "\n",
    "\n",
    "columns_label_enc = [\"region\"]\n",
    "for col in columns_count_enc:\n",
    "    df[\"LE_\" + col] = LabelEncoder().fit_transform(df[col])\n",
    "    df.loc[df[col].isna().values, \"LE_\" + col] = np.nan\n",
    "\n",
    "df"
   ]
  },
  {
   "cell_type": "markdown",
   "id": "9adafbfb-5134-4998-9466-413c0b83e945",
   "metadata": {},
   "source": [
    "### 4-3. 集約特徴量\n",
    "- regionの集約特徴量を作成\n",
    "- min, mean, max, median, std, max-min, q75-q25, zscore"
   ]
  },
  {
   "cell_type": "code",
   "execution_count": 8,
   "id": "52a471ed-bd6f-4a82-86e8-5db42211c9c0",
   "metadata": {},
   "outputs": [
    {
     "data": {
      "text/html": [
       "<div>\n",
       "<style scoped>\n",
       "    .dataframe tbody tr th:only-of-type {\n",
       "        vertical-align: middle;\n",
       "    }\n",
       "\n",
       "    .dataframe tbody tr th {\n",
       "        vertical-align: top;\n",
       "    }\n",
       "\n",
       "    .dataframe thead th {\n",
       "        text-align: right;\n",
       "    }\n",
       "</style>\n",
       "<table border=\"1\" class=\"dataframe\">\n",
       "  <thead>\n",
       "    <tr style=\"text-align: right;\">\n",
       "      <th></th>\n",
       "      <th>index</th>\n",
       "      <th>genre</th>\n",
       "      <th>popularity</th>\n",
       "      <th>duration_ms</th>\n",
       "      <th>acousticness</th>\n",
       "      <th>positiveness</th>\n",
       "      <th>danceability</th>\n",
       "      <th>loudness</th>\n",
       "      <th>energy</th>\n",
       "      <th>liveness</th>\n",
       "      <th>...</th>\n",
       "      <th>agg_zscore_loudness_grpby_region</th>\n",
       "      <th>agg_zscore_energy_grpby_region</th>\n",
       "      <th>agg_zscore_liveness_grpby_region</th>\n",
       "      <th>agg_zscore_speechiness_grpby_region</th>\n",
       "      <th>agg_zscore_instrumentalness_grpby_region</th>\n",
       "      <th>agg_zscore_tempo_grpby_region</th>\n",
       "      <th>agg_zscore_tempo_low_grpby_region</th>\n",
       "      <th>agg_zscore_tempo_high_grpby_region</th>\n",
       "      <th>agg_zscore_popularity10_grpby_region</th>\n",
       "      <th>agg_zscore_popularity01_grpby_region</th>\n",
       "    </tr>\n",
       "  </thead>\n",
       "  <tbody>\n",
       "    <tr>\n",
       "      <th>0</th>\n",
       "      <td>0</td>\n",
       "      <td>10</td>\n",
       "      <td>11</td>\n",
       "      <td>201094</td>\n",
       "      <td>0.112811</td>\n",
       "      <td>0.157247</td>\n",
       "      <td>0.187841</td>\n",
       "      <td>-1.884852</td>\n",
       "      <td>0.893918</td>\n",
       "      <td>0.363568</td>\n",
       "      <td>...</td>\n",
       "      <td>1.512742</td>\n",
       "      <td>1.361700</td>\n",
       "      <td>0.538449</td>\n",
       "      <td>2.294931</td>\n",
       "      <td>3.791753</td>\n",
       "      <td>0.511301</td>\n",
       "      <td>0.418672</td>\n",
       "      <td>0.591510</td>\n",
       "      <td>-1.159327</td>\n",
       "      <td>-1.044247</td>\n",
       "    </tr>\n",
       "    <tr>\n",
       "      <th>1</th>\n",
       "      <td>1</td>\n",
       "      <td>8</td>\n",
       "      <td>69</td>\n",
       "      <td>308493</td>\n",
       "      <td>0.101333</td>\n",
       "      <td>0.346563</td>\n",
       "      <td>0.554444</td>\n",
       "      <td>-5.546495</td>\n",
       "      <td>0.874409</td>\n",
       "      <td>0.193892</td>\n",
       "      <td>...</td>\n",
       "      <td>0.481851</td>\n",
       "      <td>1.326272</td>\n",
       "      <td>-0.499695</td>\n",
       "      <td>-0.500337</td>\n",
       "      <td>-0.587831</td>\n",
       "      <td>1.414210</td>\n",
       "      <td>1.479560</td>\n",
       "      <td>1.342325</td>\n",
       "      <td>1.425982</td>\n",
       "      <td>1.663014</td>\n",
       "    </tr>\n",
       "    <tr>\n",
       "      <th>2</th>\n",
       "      <td>2</td>\n",
       "      <td>3</td>\n",
       "      <td>43</td>\n",
       "      <td>197225</td>\n",
       "      <td>0.496420</td>\n",
       "      <td>0.265391</td>\n",
       "      <td>0.457642</td>\n",
       "      <td>-9.255670</td>\n",
       "      <td>0.439933</td>\n",
       "      <td>0.217146</td>\n",
       "      <td>...</td>\n",
       "      <td>-0.488448</td>\n",
       "      <td>-0.808778</td>\n",
       "      <td>-0.288703</td>\n",
       "      <td>1.980912</td>\n",
       "      <td>-0.252552</td>\n",
       "      <td>-1.797012</td>\n",
       "      <td>-1.634219</td>\n",
       "      <td>-1.934995</td>\n",
       "      <td>0.048978</td>\n",
       "      <td>-0.599708</td>\n",
       "    </tr>\n",
       "    <tr>\n",
       "      <th>3</th>\n",
       "      <td>3</td>\n",
       "      <td>10</td>\n",
       "      <td>45</td>\n",
       "      <td>301092</td>\n",
       "      <td>0.165667</td>\n",
       "      <td>0.245533</td>\n",
       "      <td>0.356578</td>\n",
       "      <td>-5.088788</td>\n",
       "      <td>0.868704</td>\n",
       "      <td>0.377025</td>\n",
       "      <td>...</td>\n",
       "      <td>0.312116</td>\n",
       "      <td>0.993184</td>\n",
       "      <td>0.833359</td>\n",
       "      <td>0.436282</td>\n",
       "      <td>-0.293784</td>\n",
       "      <td>1.817014</td>\n",
       "      <td>1.989646</td>\n",
       "      <td>1.634625</td>\n",
       "      <td>0.290296</td>\n",
       "      <td>0.103498</td>\n",
       "    </tr>\n",
       "    <tr>\n",
       "      <th>4</th>\n",
       "      <td>4</td>\n",
       "      <td>3</td>\n",
       "      <td>57</td>\n",
       "      <td>277348</td>\n",
       "      <td>0.190720</td>\n",
       "      <td>0.777578</td>\n",
       "      <td>0.830479</td>\n",
       "      <td>-3.933896</td>\n",
       "      <td>0.650149</td>\n",
       "      <td>0.169323</td>\n",
       "      <td>...</td>\n",
       "      <td>0.953197</td>\n",
       "      <td>0.195902</td>\n",
       "      <td>-0.617285</td>\n",
       "      <td>0.206761</td>\n",
       "      <td>0.088274</td>\n",
       "      <td>-0.510415</td>\n",
       "      <td>-0.496445</td>\n",
       "      <td>-0.519646</td>\n",
       "      <td>0.805682</td>\n",
       "      <td>0.951385</td>\n",
       "    </tr>\n",
       "    <tr>\n",
       "      <th>...</th>\n",
       "      <td>...</td>\n",
       "      <td>...</td>\n",
       "      <td>...</td>\n",
       "      <td>...</td>\n",
       "      <td>...</td>\n",
       "      <td>...</td>\n",
       "      <td>...</td>\n",
       "      <td>...</td>\n",
       "      <td>...</td>\n",
       "      <td>...</td>\n",
       "      <td>...</td>\n",
       "      <td>...</td>\n",
       "      <td>...</td>\n",
       "      <td>...</td>\n",
       "      <td>...</td>\n",
       "      <td>...</td>\n",
       "      <td>...</td>\n",
       "      <td>...</td>\n",
       "      <td>...</td>\n",
       "      <td>...</td>\n",
       "      <td>...</td>\n",
       "    </tr>\n",
       "    <tr>\n",
       "      <th>8087</th>\n",
       "      <td>8087</td>\n",
       "      <td>-100</td>\n",
       "      <td>34</td>\n",
       "      <td>366668</td>\n",
       "      <td>0.117208</td>\n",
       "      <td>0.316026</td>\n",
       "      <td>0.502289</td>\n",
       "      <td>-2.909329</td>\n",
       "      <td>0.824708</td>\n",
       "      <td>0.320241</td>\n",
       "      <td>...</td>\n",
       "      <td>1.146514</td>\n",
       "      <td>0.970917</td>\n",
       "      <td>0.342260</td>\n",
       "      <td>0.222365</td>\n",
       "      <td>-0.121337</td>\n",
       "      <td>0.442081</td>\n",
       "      <td>0.345447</td>\n",
       "      <td>0.528850</td>\n",
       "      <td>-0.282831</td>\n",
       "      <td>-0.117197</td>\n",
       "    </tr>\n",
       "    <tr>\n",
       "      <th>8088</th>\n",
       "      <td>8088</td>\n",
       "      <td>-100</td>\n",
       "      <td>53</td>\n",
       "      <td>240081</td>\n",
       "      <td>0.225540</td>\n",
       "      <td>0.391226</td>\n",
       "      <td>0.483655</td>\n",
       "      <td>-5.013634</td>\n",
       "      <td>0.630808</td>\n",
       "      <td>0.163884</td>\n",
       "      <td>...</td>\n",
       "      <td>0.621439</td>\n",
       "      <td>0.050088</td>\n",
       "      <td>-0.688451</td>\n",
       "      <td>-0.007002</td>\n",
       "      <td>-0.156765</td>\n",
       "      <td>0.476541</td>\n",
       "      <td>0.374030</td>\n",
       "      <td>0.568536</td>\n",
       "      <td>0.825106</td>\n",
       "      <td>-0.433637</td>\n",
       "    </tr>\n",
       "    <tr>\n",
       "      <th>8089</th>\n",
       "      <td>8089</td>\n",
       "      <td>-100</td>\n",
       "      <td>48</td>\n",
       "      <td>217839</td>\n",
       "      <td>0.215571</td>\n",
       "      <td>0.828567</td>\n",
       "      <td>0.689747</td>\n",
       "      <td>-8.974036</td>\n",
       "      <td>0.697981</td>\n",
       "      <td>0.318250</td>\n",
       "      <td>...</td>\n",
       "      <td>-0.152429</td>\n",
       "      <td>0.484505</td>\n",
       "      <td>0.268481</td>\n",
       "      <td>-0.906510</td>\n",
       "      <td>-0.572775</td>\n",
       "      <td>0.511301</td>\n",
       "      <td>0.418672</td>\n",
       "      <td>0.591510</td>\n",
       "      <td>0.609527</td>\n",
       "      <td>1.448442</td>\n",
       "    </tr>\n",
       "    <tr>\n",
       "      <th>8090</th>\n",
       "      <td>8090</td>\n",
       "      <td>-100</td>\n",
       "      <td>45</td>\n",
       "      <td>249612</td>\n",
       "      <td>0.205074</td>\n",
       "      <td>0.730554</td>\n",
       "      <td>0.580581</td>\n",
       "      <td>-1.915320</td>\n",
       "      <td>0.828423</td>\n",
       "      <td>0.360663</td>\n",
       "      <td>...</td>\n",
       "      <td>1.383579</td>\n",
       "      <td>0.988935</td>\n",
       "      <td>0.595628</td>\n",
       "      <td>-0.343720</td>\n",
       "      <td>-0.360130</td>\n",
       "      <td>0.442081</td>\n",
       "      <td>0.345447</td>\n",
       "      <td>0.528850</td>\n",
       "      <td>0.353776</td>\n",
       "      <td>0.221316</td>\n",
       "    </tr>\n",
       "    <tr>\n",
       "      <th>8091</th>\n",
       "      <td>8091</td>\n",
       "      <td>-100</td>\n",
       "      <td>39</td>\n",
       "      <td>237732</td>\n",
       "      <td>0.749124</td>\n",
       "      <td>0.283727</td>\n",
       "      <td>0.509884</td>\n",
       "      <td>-9.121694</td>\n",
       "      <td>0.370835</td>\n",
       "      <td>0.254445</td>\n",
       "      <td>...</td>\n",
       "      <td>-0.106264</td>\n",
       "      <td>-0.952440</td>\n",
       "      <td>0.126279</td>\n",
       "      <td>-0.817770</td>\n",
       "      <td>-0.335113</td>\n",
       "      <td>-1.169284</td>\n",
       "      <td>-1.132557</td>\n",
       "      <td>-1.193978</td>\n",
       "      <td>-0.452006</td>\n",
       "      <td>1.494071</td>\n",
       "    </tr>\n",
       "  </tbody>\n",
       "</table>\n",
       "<p>8092 rows × 166 columns</p>\n",
       "</div>"
      ],
      "text/plain": [
       "      index  genre  popularity  duration_ms  acousticness  positiveness  \\\n",
       "0         0     10          11       201094      0.112811      0.157247   \n",
       "1         1      8          69       308493      0.101333      0.346563   \n",
       "2         2      3          43       197225      0.496420      0.265391   \n",
       "3         3     10          45       301092      0.165667      0.245533   \n",
       "4         4      3          57       277348      0.190720      0.777578   \n",
       "...     ...    ...         ...          ...           ...           ...   \n",
       "8087   8087   -100          34       366668      0.117208      0.316026   \n",
       "8088   8088   -100          53       240081      0.225540      0.391226   \n",
       "8089   8089   -100          48       217839      0.215571      0.828567   \n",
       "8090   8090   -100          45       249612      0.205074      0.730554   \n",
       "8091   8091   -100          39       237732      0.749124      0.283727   \n",
       "\n",
       "      danceability  loudness    energy  liveness  ...  \\\n",
       "0         0.187841 -1.884852  0.893918  0.363568  ...   \n",
       "1         0.554444 -5.546495  0.874409  0.193892  ...   \n",
       "2         0.457642 -9.255670  0.439933  0.217146  ...   \n",
       "3         0.356578 -5.088788  0.868704  0.377025  ...   \n",
       "4         0.830479 -3.933896  0.650149  0.169323  ...   \n",
       "...            ...       ...       ...       ...  ...   \n",
       "8087      0.502289 -2.909329  0.824708  0.320241  ...   \n",
       "8088      0.483655 -5.013634  0.630808  0.163884  ...   \n",
       "8089      0.689747 -8.974036  0.697981  0.318250  ...   \n",
       "8090      0.580581 -1.915320  0.828423  0.360663  ...   \n",
       "8091      0.509884 -9.121694  0.370835  0.254445  ...   \n",
       "\n",
       "      agg_zscore_loudness_grpby_region  agg_zscore_energy_grpby_region  \\\n",
       "0                             1.512742                        1.361700   \n",
       "1                             0.481851                        1.326272   \n",
       "2                            -0.488448                       -0.808778   \n",
       "3                             0.312116                        0.993184   \n",
       "4                             0.953197                        0.195902   \n",
       "...                                ...                             ...   \n",
       "8087                          1.146514                        0.970917   \n",
       "8088                          0.621439                        0.050088   \n",
       "8089                         -0.152429                        0.484505   \n",
       "8090                          1.383579                        0.988935   \n",
       "8091                         -0.106264                       -0.952440   \n",
       "\n",
       "      agg_zscore_liveness_grpby_region agg_zscore_speechiness_grpby_region  \\\n",
       "0                             0.538449                            2.294931   \n",
       "1                            -0.499695                           -0.500337   \n",
       "2                            -0.288703                            1.980912   \n",
       "3                             0.833359                            0.436282   \n",
       "4                            -0.617285                            0.206761   \n",
       "...                                ...                                 ...   \n",
       "8087                          0.342260                            0.222365   \n",
       "8088                         -0.688451                           -0.007002   \n",
       "8089                          0.268481                           -0.906510   \n",
       "8090                          0.595628                           -0.343720   \n",
       "8091                          0.126279                           -0.817770   \n",
       "\n",
       "     agg_zscore_instrumentalness_grpby_region  agg_zscore_tempo_grpby_region  \\\n",
       "0                                    3.791753                       0.511301   \n",
       "1                                   -0.587831                       1.414210   \n",
       "2                                   -0.252552                      -1.797012   \n",
       "3                                   -0.293784                       1.817014   \n",
       "4                                    0.088274                      -0.510415   \n",
       "...                                       ...                            ...   \n",
       "8087                                -0.121337                       0.442081   \n",
       "8088                                -0.156765                       0.476541   \n",
       "8089                                -0.572775                       0.511301   \n",
       "8090                                -0.360130                       0.442081   \n",
       "8091                                -0.335113                      -1.169284   \n",
       "\n",
       "      agg_zscore_tempo_low_grpby_region  agg_zscore_tempo_high_grpby_region  \\\n",
       "0                              0.418672                            0.591510   \n",
       "1                              1.479560                            1.342325   \n",
       "2                             -1.634219                           -1.934995   \n",
       "3                              1.989646                            1.634625   \n",
       "4                             -0.496445                           -0.519646   \n",
       "...                                 ...                                 ...   \n",
       "8087                           0.345447                            0.528850   \n",
       "8088                           0.374030                            0.568536   \n",
       "8089                           0.418672                            0.591510   \n",
       "8090                           0.345447                            0.528850   \n",
       "8091                          -1.132557                           -1.193978   \n",
       "\n",
       "      agg_zscore_popularity10_grpby_region  \\\n",
       "0                                -1.159327   \n",
       "1                                 1.425982   \n",
       "2                                 0.048978   \n",
       "3                                 0.290296   \n",
       "4                                 0.805682   \n",
       "...                                    ...   \n",
       "8087                             -0.282831   \n",
       "8088                              0.825106   \n",
       "8089                              0.609527   \n",
       "8090                              0.353776   \n",
       "8091                             -0.452006   \n",
       "\n",
       "      agg_zscore_popularity01_grpby_region  \n",
       "0                                -1.044247  \n",
       "1                                 1.663014  \n",
       "2                                -0.599708  \n",
       "3                                 0.103498  \n",
       "4                                 0.951385  \n",
       "...                                    ...  \n",
       "8087                             -0.117197  \n",
       "8088                             -0.433637  \n",
       "8089                              1.448442  \n",
       "8090                              0.221316  \n",
       "8091                              1.494071  \n",
       "\n",
       "[8092 rows x 166 columns]"
      ]
     },
     "execution_count": 8,
     "metadata": {},
     "output_type": "execute_result"
    }
   ],
   "source": [
    "class GroupFeatureExtractor:  # 参考: https://signate.jp/competitions/449/discussions/lgbm-baseline-lb06240\n",
    "    EX_TRANS_METHODS = [\"deviation\", \"zscore\"]\n",
    "    \n",
    "    def __init__(self, group_key, group_values, agg_methods):\n",
    "        self.group_key = group_key\n",
    "        self.group_values = group_values\n",
    "\n",
    "        self.ex_trans_methods = [m for m in agg_methods if m in self.EX_TRANS_METHODS]\n",
    "        self.agg_methods = [m for m in agg_methods if m not in self.ex_trans_methods]\n",
    "        self.df_agg = None\n",
    "\n",
    "    def fit(self, df_train, y=None):\n",
    "        if not self.agg_methods:\n",
    "            return\n",
    "        dfs = []\n",
    "        for agg_method in self.agg_methods:\n",
    "            if callable(agg_method):\n",
    "                agg_method_name = agg_method.__name__\n",
    "            else:\n",
    "                agg_method_name = agg_method\n",
    "            df_agg = (df_train[[self.group_key] + self.group_values].groupby(self.group_key).agg(agg_method))\n",
    "            df_agg.columns = self._get_column_names(agg_method_name)\n",
    "            dfs.append(df_agg)\n",
    "        self.df_agg = pd.concat(dfs, axis=1).reset_index()\n",
    "\n",
    "    def transform(self, df_eval):\n",
    "        key = self.group_key\n",
    "        if self.agg_methods:\n",
    "            df_features = pd.merge(df_eval[[self.group_key]], self.df_agg, on=self.group_key, how=\"left\")\n",
    "        else:\n",
    "            df_features = df_eval[[self.group_key]].copy()\n",
    "        if self.ex_trans_methods:\n",
    "            if \"deviation\" in self.ex_trans_methods:\n",
    "                df_features[self._get_agg_column_names(\"deviation\")] = df_eval[self.group_values] - df_eval[[key]+self.group_values].groupby(key).transform(\"mean\")\n",
    "            if \"zscore\" in self.ex_trans_methods:\n",
    "                df_features[self._get_column_names(\"zscore\")] = (df_eval[self.group_values] - df_eval[[key]+self.group_values].groupby(key).transform(\"mean\")) \\\n",
    "                                                                / (df_eval[[key]+self.group_values].groupby(key).transform(\"std\") + 1e-8)\n",
    "        df_features.drop(self.group_key, axis=1, inplace=True)\n",
    "        return df_features\n",
    "\n",
    "    def _get_column_names(self, method):\n",
    "        return [f\"agg_{method}_{col}_grpby_{self.group_key}\" for col in self.group_values]\n",
    "\n",
    "    def fit_transform(self, df_train, y=None):\n",
    "        self.fit(df_train, y=y)\n",
    "        return self.transform(df_train)   \n",
    "\n",
    "# 集約特徴量作成時に使用\n",
    "def max_min(x):\n",
    "    return x.max() - x.min()\n",
    "\n",
    "def q75_q25(x):\n",
    "    return x.quantile(0.75) - x.quantile(0.25)\n",
    "    \n",
    "gfe = GroupFeatureExtractor(\n",
    "    \"region\", \n",
    "    ['popularity', 'duration_ms', 'acousticness', 'positiveness', \n",
    "     'danceability', 'loudness', 'energy', 'liveness', 'speechiness', \n",
    "     'instrumentalness',\n",
    "     'tempo', 'tempo_low', 'tempo_high',\n",
    "     'popularity10', 'popularity01'], \n",
    "    [\"min\", \"mean\", \"max\", \"median\", \"std\", max_min, q75_q25, \"zscore\"]\n",
    ")\n",
    "df = pd.concat([df, gfe.fit_transform(df)], axis=1)\n",
    "df"
   ]
  },
  {
   "cell_type": "markdown",
   "id": "e52ff090-32f8-4271-83fd-341abb87cd7c",
   "metadata": {},
   "source": [
    "### 4-4. KNN"
   ]
  },
  {
   "cell_type": "code",
   "execution_count": 9,
   "id": "c995006d-afc6-410e-a3af-988ad471f3b4",
   "metadata": {},
   "outputs": [],
   "source": [
    "class KNNFeatureExtractor:\n",
    "    def __init__(self, n_neighbors=5):\n",
    "        self.knn = KNeighborsClassifier(n_neighbors + 1)\n",
    "    \n",
    "    def fit(self, X, y):\n",
    "        self.knn.fit(X, y)\n",
    "        self.y = y if isinstance(y, np.ndarray) else np.array(y)\n",
    "        return self\n",
    "    \n",
    "    def transform(self, X, is_train_data):\n",
    "        distances, indexes = self.knn.kneighbors(X)\n",
    "        distances = distances[:, 1:] if is_train_data else distances[:, :-1]\n",
    "        indexes = indexes[:, 1:] if is_train_data else indexes[:, :-1]\n",
    "        labels = self.y[indexes]\n",
    "        score_columns = [f\"knn_score_class{c:02d}\" for c in range(N_CLASSES)]\n",
    "        df_knn = pd.DataFrame(\n",
    "            [np.bincount(labels_, distances_, N_CLASSES) for labels_, distances_ in zip(labels, 1.0 / distances)],\n",
    "            columns=score_columns\n",
    "        )\n",
    "        df_knn[\"max_knn_scores\"] = df_knn.max(1)\n",
    "        for col in score_columns:\n",
    "            df_knn[f\"sub_max_knn_scores_{col}\"] = df_knn[\"max_knn_scores\"] - df_knn[col]\n",
    "        for i, col1 in enumerate(score_columns):\n",
    "            for j, col2 in enumerate(score_columns[i+1:], i+1):\n",
    "                if {i, j} & {8, 10}:\n",
    "                    df_knn[f\"sub_{col1}_{col2}\"] = df_knn[col1] - df_knn[col2]\n",
    "        df_knn[\"sum_knn_scores\"] = df_knn.sum(1)\n",
    "        \n",
    "        return df_knn"
   ]
  },
  {
   "cell_type": "code",
   "execution_count": 10,
   "id": "ef202508-d42a-465c-ab46-54225d98c9bf",
   "metadata": {},
   "outputs": [],
   "source": [
    "# feature scaling\n",
    "\n",
    "df[\"log_tempo\"] = np.log(df[\"tempo\"])\n",
    "\n",
    "for col in ['popularity', 'duration_ms', 'acousticness', \n",
    "            'positiveness', 'danceability', 'loudness', \n",
    "            'energy', 'liveness', 'speechiness', 'instrumentalness', \n",
    "            'log_tempo', 'num_nans']:\n",
    "    df[\"standardscaled_\" + col] = StandardScaler().fit_transform(df[[col]])[:, 0]"
   ]
  },
  {
   "cell_type": "code",
   "execution_count": 11,
   "id": "7f3a05d2-84ce-4c6c-bec5-1005b736c553",
   "metadata": {},
   "outputs": [],
   "source": [
    "df_train, df_test = split_train_test(df)\n",
    "target = df_train[\"genre\"]"
   ]
  },
  {
   "cell_type": "code",
   "execution_count": 12,
   "id": "4ad7c79c-04a6-404b-8f0a-8f926bf07379",
   "metadata": {},
   "outputs": [],
   "source": [
    "# feature weights\n",
    "\n",
    "knn_features = ['region_A', 'region_B', 'region_C', 'region_D', 'region_E', \n",
    "            'region_F', 'region_G', 'region_H', 'region_I', 'region_J', \n",
    "            'region_K', 'region_L', 'region_M', 'region_N', 'region_O', \n",
    "            'region_P', 'region_Q', 'region_R', 'region_S', 'region_T',\n",
    "            'region_unknown', 'standardscaled_popularity', 'standardscaled_duration_ms',\n",
    "            'standardscaled_acousticness', 'standardscaled_positiveness',\n",
    "            'standardscaled_danceability', 'standardscaled_loudness', 'standardscaled_energy',\n",
    "            'standardscaled_liveness', 'standardscaled_speechiness', 'standardscaled_instrumentalness',\n",
    "            'standardscaled_log_tempo',\n",
    "            'standardscaled_num_nans']\n",
    "\n",
    "dict_feature_weights = {}\n",
    "\n",
    "for col in knn_features[:21]:\n",
    "    dict_feature_weights[col] = 100.0\n",
    "\n",
    "for col in ['standardscaled_duration_ms', 'standardscaled_acousticness', 'standardscaled_positiveness',\n",
    "            'standardscaled_danceability', 'standardscaled_loudness', 'standardscaled_energy',\n",
    "            'standardscaled_liveness', 'standardscaled_speechiness', 'standardscaled_instrumentalness']:\n",
    "    dict_feature_weights[col] = 1.0\n",
    "\n",
    "dict_feature_weights[\"standardscaled_popularity\"] = 8.0\n",
    "dict_feature_weights[\"standardscaled_log_tempo\"] = 0.001\n",
    "dict_feature_weights[\"standardscaled_num_nans\"] = 100.0\n",
    "\n",
    "knn_feature_weights = np.array([dict_feature_weights[col] for col in knn_features])"
   ]
  },
  {
   "cell_type": "markdown",
   "id": "5f55c275-2976-44cf-a3a3-7157c71772ad",
   "metadata": {},
   "source": [
    "## 5. Training\n",
    "- optunaを用いてパラメータチューニング\n",
    "- CrossValidation (n_splits=15)で学習"
   ]
  },
  {
   "cell_type": "code",
   "execution_count": 13,
   "id": "7a3ecc00-0bef-4a20-8a5c-70ed53521a10",
   "metadata": {},
   "outputs": [],
   "source": [
    "# parameters\n",
    "\n",
    "learning_rate = 0.01\n",
    "lgb_params = {\n",
    "    \"objective\": \"multiclass\",\n",
    "    \"num_class\": N_CLASSES,\n",
    "    \"metric\": \"multiclass\",\n",
    "    \"learning_rate\": learning_rate,\n",
    "    \"verbosity\": -1,\n",
    "    \"seed\": 42,\n",
    "}\n",
    "\n",
    "knn_n_neighbors = 6"
   ]
  },
  {
   "cell_type": "code",
   "execution_count": 14,
   "id": "9d3dce4a-93f9-43fa-9dec-de9ab17a2b12",
   "metadata": {},
   "outputs": [
    {
     "name": "stdout",
     "output_type": "stream",
     "text": [
      "203\n"
     ]
    }
   ],
   "source": [
    "N_SPLITS = 15\n",
    "SEED_SKF = 42\n",
    "np.random.seed(42)\n",
    "\n",
    "skf = StratifiedKFold(n_splits=N_SPLITS, shuffle=True, random_state=SEED_SKF)\n",
    "oof = np.zeros((len(df_train), N_CLASSES))\n",
    "predictions = np.zeros((len(df_test), N_CLASSES))\n",
    "df_feature_importance = pd.DataFrame()\n",
    "\n",
    "\n",
    "features_numerical = [\n",
    "    'popularity', 'duration_ms', 'acousticness',\n",
    "    'positiveness', 'danceability', 'loudness', 'energy', 'liveness',\n",
    "    'speechiness', 'instrumentalness', \n",
    "    'tempo', 'tempo_low', 'tempo_high',\n",
    "    'tempo_sum', 'tempo_diff', 'tempo_div',\n",
    "    'region_A', 'region_B', 'region_C', 'region_D', 'region_E', 'region_F',\n",
    "    'region_G', 'region_H', 'region_I', 'region_J', 'region_K', 'region_L',\n",
    "    'region_M', 'region_N', 'region_O', 'region_P', 'region_Q', 'region_R',\n",
    "    'region_S', 'region_T', 'region_unknown', \n",
    "    'CE_region',\n",
    "    'num_nans',\n",
    "    'popularity01', 'popularity10',\n",
    "    # z-score\n",
    "    'agg_zscore_popularity_grpby_region',\n",
    "    'agg_zscore_duration_ms_grpby_region',\n",
    "    'agg_zscore_acousticness_grpby_region',\n",
    "    'agg_zscore_positiveness_grpby_region',\n",
    "    'agg_zscore_danceability_grpby_region',\n",
    "    'agg_zscore_loudness_grpby_region', 'agg_zscore_energy_grpby_region',\n",
    "    'agg_zscore_liveness_grpby_region',\n",
    "    'agg_zscore_speechiness_grpby_region',\n",
    "    'agg_zscore_instrumentalness_grpby_region',\n",
    "    'agg_zscore_tempo_grpby_region',\n",
    "    'agg_zscore_tempo_low_grpby_region',\n",
    "    'agg_zscore_tempo_high_grpby_region',\n",
    "    'agg_zscore_popularity10_grpby_region',\n",
    "    'agg_zscore_popularity01_grpby_region',\n",
    "    # min\n",
    "    'agg_min_popularity_grpby_region',\n",
    "    'agg_min_duration_ms_grpby_region',\n",
    "    'agg_min_acousticness_grpby_region',\n",
    "    'agg_min_positiveness_grpby_region',\n",
    "    'agg_min_danceability_grpby_region',\n",
    "    'agg_min_loudness_grpby_region',\n",
    "    'agg_min_energy_grpby_region',\n",
    "    'agg_min_liveness_grpby_region',\n",
    "    'agg_min_speechiness_grpby_region',\n",
    "    'agg_min_instrumentalness_grpby_region',\n",
    "    'agg_min_tempo_grpby_region',\n",
    "    'agg_min_tempo_low_grpby_region',\n",
    "    'agg_min_tempo_high_grpby_region',\n",
    "    'agg_min_popularity10_grpby_region',\n",
    "    'agg_min_popularity01_grpby_region',\n",
    "    # mean\n",
    "    'agg_mean_popularity_grpby_region',\n",
    "    'agg_mean_duration_ms_grpby_region',\n",
    "    'agg_mean_acousticness_grpby_region',\n",
    "    'agg_mean_positiveness_grpby_region',\n",
    "    'agg_mean_danceability_grpby_region',\n",
    "    'agg_mean_loudness_grpby_region',\n",
    "    'agg_mean_energy_grpby_region',\n",
    "    'agg_mean_liveness_grpby_region',\n",
    "    'agg_mean_speechiness_grpby_region',\n",
    "    'agg_mean_instrumentalness_grpby_region',\n",
    "    'agg_mean_tempo_grpby_region',\n",
    "    'agg_mean_tempo_low_grpby_region',\n",
    "    'agg_mean_tempo_high_grpby_region',\n",
    "    'agg_mean_popularity10_grpby_region',\n",
    "    'agg_mean_popularity01_grpby_region',\n",
    "    # max\n",
    "    'agg_max_popularity_grpby_region',\n",
    "    'agg_max_duration_ms_grpby_region',\n",
    "    'agg_max_acousticness_grpby_region',\n",
    "    'agg_max_positiveness_grpby_region',\n",
    "    'agg_max_danceability_grpby_region',\n",
    "    'agg_max_loudness_grpby_region',\n",
    "    'agg_max_energy_grpby_region',\n",
    "    'agg_max_liveness_grpby_region',\n",
    "    'agg_max_speechiness_grpby_region',\n",
    "    'agg_max_instrumentalness_grpby_region',\n",
    "    'agg_max_tempo_grpby_region',\n",
    "    'agg_max_tempo_low_grpby_region',\n",
    "    'agg_max_tempo_high_grpby_region',\n",
    "    'agg_max_popularity10_grpby_region',\n",
    "    'agg_max_popularity01_grpby_region',\n",
    "    # median\n",
    "    'agg_median_popularity_grpby_region',\n",
    "    'agg_median_duration_ms_grpby_region',\n",
    "    'agg_median_acousticness_grpby_region',\n",
    "    'agg_median_positiveness_grpby_region',\n",
    "    'agg_median_danceability_grpby_region',\n",
    "    'agg_median_loudness_grpby_region',\n",
    "    'agg_median_energy_grpby_region',\n",
    "    'agg_median_liveness_grpby_region',\n",
    "    'agg_median_speechiness_grpby_region',\n",
    "    'agg_median_instrumentalness_grpby_region',\n",
    "    'agg_median_tempo_grpby_region',\n",
    "    'agg_median_tempo_low_grpby_region',\n",
    "    'agg_median_tempo_high_grpby_region',\n",
    "    'agg_median_popularity10_grpby_region',\n",
    "    'agg_median_popularity01_grpby_region',\n",
    "    # std\n",
    "    'agg_std_popularity_grpby_region',\n",
    "    'agg_std_duration_ms_grpby_region',\n",
    "    'agg_std_acousticness_grpby_region',\n",
    "    'agg_std_positiveness_grpby_region',\n",
    "    'agg_std_danceability_grpby_region',\n",
    "    'agg_std_loudness_grpby_region',\n",
    "    'agg_std_energy_grpby_region',\n",
    "    'agg_std_liveness_grpby_region',\n",
    "    'agg_std_speechiness_grpby_region',\n",
    "    'agg_std_instrumentalness_grpby_region',\n",
    "    'agg_std_tempo_grpby_region',\n",
    "    'agg_std_popularity10_grpby_region',\n",
    "    'agg_std_popularity01_grpby_region',\n",
    "    # max_min\n",
    "    'agg_max_min_popularity_grpby_region',\n",
    "    'agg_max_min_duration_ms_grpby_region',\n",
    "    'agg_max_min_acousticness_grpby_region',\n",
    "    'agg_max_min_positiveness_grpby_region',\n",
    "    'agg_max_min_danceability_grpby_region',\n",
    "    'agg_max_min_loudness_grpby_region',\n",
    "    'agg_max_min_energy_grpby_region',\n",
    "    'agg_max_min_liveness_grpby_region',\n",
    "    'agg_max_min_speechiness_grpby_region',\n",
    "    'agg_max_min_instrumentalness_grpby_region',\n",
    "    'agg_max_min_tempo_grpby_region',\n",
    "    'agg_max_min_tempo_low_grpby_region',\n",
    "    'agg_max_min_tempo_high_grpby_region',\n",
    "    'agg_max_min_popularity10_grpby_region',\n",
    "    'agg_max_min_popularity01_grpby_region',\n",
    "    # q75_q25\n",
    "    'agg_q75_q25_popularity_grpby_region',\n",
    "    'agg_q75_q25_duration_ms_grpby_region',\n",
    "    'agg_q75_q25_acousticness_grpby_region',\n",
    "    'agg_q75_q25_positiveness_grpby_region',\n",
    "    'agg_q75_q25_danceability_grpby_region',\n",
    "    'agg_q75_q25_loudness_grpby_region',\n",
    "    'agg_q75_q25_energy_grpby_region',\n",
    "    'agg_q75_q25_liveness_grpby_region',\n",
    "    'agg_q75_q25_speechiness_grpby_region',\n",
    "    'agg_q75_q25_instrumentalness_grpby_region',\n",
    "    'agg_q75_q25_tempo_grpby_region',\n",
    "    'agg_q75_q25_tempo_low_grpby_region',\n",
    "    'agg_q75_q25_tempo_high_grpby_region',\n",
    "    'agg_q75_q25_popularity10_grpby_region',\n",
    "    'agg_q75_q25_popularity01_grpby_region',\n",
    "    # knn\n",
    "    'knn_score_class00', 'knn_score_class01',\n",
    "    'knn_score_class02', 'knn_score_class03', 'knn_score_class04',\n",
    "    'knn_score_class05', 'knn_score_class06', 'knn_score_class07',\n",
    "    'knn_score_class08', 'knn_score_class09', 'knn_score_class10',\n",
    "    'max_knn_scores',\n",
    "    'sub_max_knn_scores_knn_score_class00',\n",
    "    'sub_max_knn_scores_knn_score_class01',\n",
    "    'sub_max_knn_scores_knn_score_class02',\n",
    "    'sub_max_knn_scores_knn_score_class03',\n",
    "    'sub_max_knn_scores_knn_score_class04',\n",
    "    'sub_max_knn_scores_knn_score_class05',\n",
    "    'sub_max_knn_scores_knn_score_class06',\n",
    "    'sub_max_knn_scores_knn_score_class07',\n",
    "    'sub_max_knn_scores_knn_score_class08',\n",
    "    'sub_max_knn_scores_knn_score_class09',\n",
    "    'sub_max_knn_scores_knn_score_class10',\n",
    "    'sub_knn_score_class00_knn_score_class08',\n",
    "    'sub_knn_score_class00_knn_score_class10',\n",
    "    'sub_knn_score_class01_knn_score_class08',\n",
    "    'sub_knn_score_class01_knn_score_class10',\n",
    "    'sub_knn_score_class02_knn_score_class08',\n",
    "    'sub_knn_score_class02_knn_score_class10',\n",
    "    'sub_knn_score_class03_knn_score_class08',\n",
    "    'sub_knn_score_class03_knn_score_class10',\n",
    "    'sub_knn_score_class04_knn_score_class08',\n",
    "    'sub_knn_score_class04_knn_score_class10',\n",
    "    'sub_knn_score_class05_knn_score_class08',\n",
    "    'sub_knn_score_class05_knn_score_class10',\n",
    "    'sub_knn_score_class06_knn_score_class08',\n",
    "    'sub_knn_score_class06_knn_score_class10',\n",
    "    'sub_knn_score_class07_knn_score_class08',\n",
    "    'sub_knn_score_class07_knn_score_class10',\n",
    "    'sub_knn_score_class08_knn_score_class09',\n",
    "    'sub_knn_score_class08_knn_score_class10',\n",
    "    'sub_knn_score_class09_knn_score_class10',\n",
    "    'sum_knn_scores'\n",
    "]\n",
    "features_categorical = [\"LE_region\"]\n",
    "features = features_numerical + features_categorical\n",
    "print(len(features))"
   ]
  },
  {
   "cell_type": "code",
   "execution_count": 378,
   "id": "a28bd6c6-06c8-4909-8584-51c3ae69bebe",
   "metadata": {},
   "outputs": [
    {
     "name": "stderr",
     "output_type": "stream",
     "text": [
      "\u001b[32m[I 2021-04-29 17:53:21,921]\u001b[0m A new study created in memory with name: no-name-bdcaab5f-2104-45a5-863a-a254a41039be\u001b[0m\n",
      "\n",
      "  0%|          | 0/7 [00:00<?, ?it/s]\u001b[A\n",
      "feature_fraction, val_score: inf:   0%|          | 0/7 [00:00<?, ?it/s]\u001b[A"
     ]
    },
    {
     "name": "stdout",
     "output_type": "stream",
     "text": [
      "特徴量数: 203\n",
      "[300]\tcv_agg's multi_logloss: 0.851184 + 0.0437258\n"
     ]
    },
    {
     "name": "stderr",
     "output_type": "stream",
     "text": [
      "\n",
      "feature_fraction, val_score: 0.835432:   0%|          | 0/7 [03:33<?, ?it/s]\u001b[A\n",
      "feature_fraction, val_score: 0.835432:  14%|#4        | 1/7 [03:33<21:21, 213.62s/it]\u001b[A\u001b[32m[I 2021-04-29 17:56:55,559]\u001b[0m Trial 0 finished with value: 0.8354322005989733 and parameters: {'feature_fraction': 0.8}. Best is trial 0 with value: 0.8354322005989733.\u001b[0m\n",
      "\n",
      "feature_fraction, val_score: 0.835432:  14%|#4        | 1/7 [03:33<21:21, 213.62s/it]\u001b[A"
     ]
    },
    {
     "name": "stdout",
     "output_type": "stream",
     "text": [
      "[300]\tcv_agg's multi_logloss: 0.856162 + 0.0449726\n"
     ]
    },
    {
     "name": "stderr",
     "output_type": "stream",
     "text": [
      "\n",
      "feature_fraction, val_score: 0.835432:  14%|#4        | 1/7 [07:16<21:21, 213.62s/it]\u001b[A\n",
      "feature_fraction, val_score: 0.835432:  29%|##8       | 2/7 [07:16<18:16, 219.21s/it]\u001b[A\u001b[32m[I 2021-04-29 18:00:38,683]\u001b[0m Trial 1 finished with value: 0.8395965507862213 and parameters: {'feature_fraction': 0.8999999999999999}. Best is trial 0 with value: 0.8354322005989733.\u001b[0m\n",
      "\n",
      "feature_fraction, val_score: 0.835432:  29%|##8       | 2/7 [07:16<18:16, 219.21s/it]\u001b[A"
     ]
    },
    {
     "name": "stdout",
     "output_type": "stream",
     "text": [
      "[300]\tcv_agg's multi_logloss: 0.858051 + 0.0442191\n"
     ]
    },
    {
     "name": "stderr",
     "output_type": "stream",
     "text": [
      "\n",
      "feature_fraction, val_score: 0.835432:  29%|##8       | 2/7 [11:16<18:16, 219.21s/it]\u001b[A\n",
      "feature_fraction, val_score: 0.835432:  43%|####2     | 3/7 [11:16<15:15, 228.79s/it]\u001b[A\u001b[32m[I 2021-04-29 18:04:38,869]\u001b[0m Trial 2 finished with value: 0.8416929079964349 and parameters: {'feature_fraction': 1.0}. Best is trial 0 with value: 0.8354322005989733.\u001b[0m\n",
      "\n",
      "feature_fraction, val_score: 0.835432:  43%|####2     | 3/7 [11:16<15:15, 228.79s/it]\u001b[A"
     ]
    },
    {
     "name": "stdout",
     "output_type": "stream",
     "text": [
      "[300]\tcv_agg's multi_logloss: 0.838345 + 0.0418343\n"
     ]
    },
    {
     "name": "stderr",
     "output_type": "stream",
     "text": [
      "\n",
      "feature_fraction, val_score: 0.827354:  43%|####2     | 3/7 [14:22<15:15, 228.79s/it]\u001b[A\n",
      "feature_fraction, val_score: 0.827354:  57%|#####7    | 4/7 [14:22<10:35, 211.72s/it]\u001b[A\u001b[32m[I 2021-04-29 18:07:44,412]\u001b[0m Trial 3 finished with value: 0.82735398075315 and parameters: {'feature_fraction': 0.5}. Best is trial 3 with value: 0.82735398075315.\u001b[0m\n",
      "\n",
      "feature_fraction, val_score: 0.827354:  57%|#####7    | 4/7 [14:22<10:35, 211.72s/it]\u001b[A"
     ]
    },
    {
     "name": "stdout",
     "output_type": "stream",
     "text": [
      "[300]\tcv_agg's multi_logloss: 0.8332 + 0.0386748\n"
     ]
    },
    {
     "name": "stderr",
     "output_type": "stream",
     "text": [
      "\n",
      "feature_fraction, val_score: 0.825237:  57%|#####7    | 4/7 [17:19<10:35, 211.72s/it]\u001b[A\n",
      "feature_fraction, val_score: 0.825237:  71%|#######1  | 5/7 [17:19<06:38, 199.07s/it]\u001b[A\u001b[32m[I 2021-04-29 18:10:41,048]\u001b[0m Trial 4 finished with value: 0.8252372358770558 and parameters: {'feature_fraction': 0.4}. Best is trial 4 with value: 0.8252372358770558.\u001b[0m\n",
      "\n",
      "feature_fraction, val_score: 0.825237:  71%|#######1  | 5/7 [17:19<06:38, 199.07s/it]\u001b[A"
     ]
    },
    {
     "name": "stdout",
     "output_type": "stream",
     "text": [
      "[300]\tcv_agg's multi_logloss: 0.844417 + 0.0428335\n"
     ]
    },
    {
     "name": "stderr",
     "output_type": "stream",
     "text": [
      "\n",
      "feature_fraction, val_score: 0.825237:  71%|#######1  | 5/7 [21:07<06:38, 199.07s/it]\u001b[A\n",
      "feature_fraction, val_score: 0.825237:  86%|########5 | 6/7 [21:07<03:29, 209.10s/it]\u001b[A\u001b[32m[I 2021-04-29 18:14:29,620]\u001b[0m Trial 5 finished with value: 0.8303696499886442 and parameters: {'feature_fraction': 0.7}. Best is trial 4 with value: 0.8252372358770558.\u001b[0m\n",
      "\n",
      "feature_fraction, val_score: 0.825237:  86%|########5 | 6/7 [21:07<03:29, 209.10s/it]\u001b[A"
     ]
    },
    {
     "name": "stdout",
     "output_type": "stream",
     "text": [
      "[300]\tcv_agg's multi_logloss: 0.841434 + 0.0427831\n"
     ]
    },
    {
     "name": "stderr",
     "output_type": "stream",
     "text": [
      "\n",
      "feature_fraction, val_score: 0.825237:  86%|########5 | 6/7 [24:24<03:29, 209.10s/it]\u001b[A\n",
      "feature_fraction, val_score: 0.825237: 100%|##########| 7/7 [24:24<00:00, 205.02s/it]\u001b[A\u001b[32m[I 2021-04-29 18:17:46,247]\u001b[0m Trial 6 finished with value: 0.8289852347344366 and parameters: {'feature_fraction': 0.6}. Best is trial 4 with value: 0.8252372358770558.\u001b[0m\n",
      "feature_fraction, val_score: 0.825237: 100%|##########| 7/7 [24:24<00:00, 209.19s/it]\n",
      "\n",
      "  0%|          | 0/20 [00:00<?, ?it/s]\u001b[A\n",
      "num_leaves, val_score: 0.825237:   0%|          | 0/20 [00:00<?, ?it/s]\u001b[A"
     ]
    },
    {
     "name": "stdout",
     "output_type": "stream",
     "text": [
      "[300]\tcv_agg's multi_logloss: 0.853521 + 0.0402132\n"
     ]
    },
    {
     "name": "stderr",
     "output_type": "stream",
     "text": [
      "\n",
      "num_leaves, val_score: 0.825237:   0%|          | 0/20 [08:27<?, ?it/s]\u001b[A\n",
      "num_leaves, val_score: 0.825237:   5%|5         | 1/20 [08:27<2:40:36, 507.17s/it]\u001b[A\u001b[32m[I 2021-04-29 18:26:13,432]\u001b[0m Trial 7 finished with value: 0.8281476731384553 and parameters: {'num_leaves': 180}. Best is trial 7 with value: 0.8281476731384553.\u001b[0m\n",
      "\n",
      "num_leaves, val_score: 0.825237:   5%|5         | 1/20 [08:27<2:40:36, 507.17s/it]\u001b[A"
     ]
    },
    {
     "name": "stdout",
     "output_type": "stream",
     "text": [
      "[300]\tcv_agg's multi_logloss: 0.852692 + 0.0416205\n"
     ]
    },
    {
     "name": "stderr",
     "output_type": "stream",
     "text": [
      "\n",
      "num_leaves, val_score: 0.825237:   5%|5         | 1/20 [16:43<2:40:36, 507.17s/it]\u001b[A\n",
      "num_leaves, val_score: 0.825237:  10%|#         | 2/20 [16:43<2:30:17, 500.98s/it]\u001b[A\u001b[32m[I 2021-04-29 18:34:30,072]\u001b[0m Trial 8 finished with value: 0.8279081938899797 and parameters: {'num_leaves': 131}. Best is trial 8 with value: 0.8279081938899797.\u001b[0m\n",
      "\n",
      "num_leaves, val_score: 0.825237:  10%|#         | 2/20 [16:43<2:30:17, 500.98s/it]\u001b[A"
     ]
    },
    {
     "name": "stdout",
     "output_type": "stream",
     "text": [
      "[300]\tcv_agg's multi_logloss: 0.844063 + 0.0398904\n"
     ]
    },
    {
     "name": "stderr",
     "output_type": "stream",
     "text": [
      "\n",
      "num_leaves, val_score: 0.825237:  10%|#         | 2/20 [20:37<2:30:17, 500.98s/it]\u001b[A\n",
      "num_leaves, val_score: 0.825237:  15%|#5        | 3/20 [20:37<1:47:21, 378.90s/it]\u001b[A\u001b[32m[I 2021-04-29 18:38:23,706]\u001b[0m Trial 9 finished with value: 0.8274048812222388 and parameters: {'num_leaves': 46}. Best is trial 9 with value: 0.8274048812222388.\u001b[0m\n",
      "\n",
      "num_leaves, val_score: 0.825237:  15%|#5        | 3/20 [20:37<1:47:21, 378.90s/it]\u001b[A"
     ]
    },
    {
     "name": "stdout",
     "output_type": "stream",
     "text": [
      "[300]\tcv_agg's multi_logloss: 0.852923 + 0.0405462\n"
     ]
    },
    {
     "name": "stderr",
     "output_type": "stream",
     "text": [
      "\n",
      "num_leaves, val_score: 0.825237:  15%|#5        | 3/20 [28:05<1:47:21, 378.90s/it]\u001b[A\n",
      "num_leaves, val_score: 0.825237:  20%|##        | 4/20 [28:05<1:48:19, 406.25s/it]\u001b[A\u001b[32m[I 2021-04-29 18:45:51,882]\u001b[0m Trial 10 finished with value: 0.8272281994434278 and parameters: {'num_leaves': 114}. Best is trial 10 with value: 0.8272281994434278.\u001b[0m\n",
      "\n",
      "num_leaves, val_score: 0.825237:  20%|##        | 4/20 [28:05<1:48:19, 406.25s/it]\u001b[A"
     ]
    },
    {
     "name": "stdout",
     "output_type": "stream",
     "text": [
      "[300]\tcv_agg's multi_logloss: 0.848362 + 0.0390545\n"
     ]
    },
    {
     "name": "stderr",
     "output_type": "stream",
     "text": [
      "\n",
      "num_leaves, val_score: 0.825237:  20%|##        | 4/20 [33:28<1:48:19, 406.25s/it]\u001b[A\n",
      "num_leaves, val_score: 0.825237:  25%|##5       | 5/20 [33:28<1:34:04, 376.27s/it]\u001b[A\u001b[32m[I 2021-04-29 18:51:15,003]\u001b[0m Trial 11 finished with value: 0.8275296296381132 and parameters: {'num_leaves': 66}. Best is trial 10 with value: 0.8272281994434278.\u001b[0m\n",
      "\n",
      "num_leaves, val_score: 0.825237:  25%|##5       | 5/20 [33:28<1:34:04, 376.27s/it]\u001b[A"
     ]
    },
    {
     "name": "stdout",
     "output_type": "stream",
     "text": [
      "[300]\tcv_agg's multi_logloss: 0.853055 + 0.0406513\n"
     ]
    },
    {
     "name": "stderr",
     "output_type": "stream",
     "text": [
      "\n",
      "num_leaves, val_score: 0.825237:  25%|##5       | 5/20 [41:54<1:34:04, 376.27s/it]\u001b[A\n",
      "num_leaves, val_score: 0.825237:  30%|###       | 6/20 [41:54<1:38:06, 420.45s/it]\u001b[A\u001b[32m[I 2021-04-29 18:59:41,212]\u001b[0m Trial 12 finished with value: 0.8278429207362723 and parameters: {'num_leaves': 127}. Best is trial 10 with value: 0.8272281994434278.\u001b[0m\n",
      "\n",
      "num_leaves, val_score: 0.825237:  30%|###       | 6/20 [41:54<1:38:06, 420.45s/it]\u001b[A"
     ]
    },
    {
     "name": "stdout",
     "output_type": "stream",
     "text": [
      "[300]\tcv_agg's multi_logloss: 0.853542 + 0.0402863\n"
     ]
    },
    {
     "name": "stderr",
     "output_type": "stream",
     "text": [
      "\n",
      "num_leaves, val_score: 0.825237:  30%|###       | 6/20 [50:22<1:38:06, 420.45s/it]\u001b[A\n",
      "num_leaves, val_score: 0.825237:  35%|###5      | 7/20 [50:22<1:37:16, 448.93s/it]\u001b[A\u001b[32m[I 2021-04-29 19:08:08,784]\u001b[0m Trial 13 finished with value: 0.8281473971654322 and parameters: {'num_leaves': 146}. Best is trial 10 with value: 0.8272281994434278.\u001b[0m\n",
      "\n",
      "num_leaves, val_score: 0.825237:  35%|###5      | 7/20 [50:22<1:37:16, 448.93s/it]\u001b[A"
     ]
    },
    {
     "name": "stdout",
     "output_type": "stream",
     "text": [
      "[300]\tcv_agg's multi_logloss: 0.829657 + 0.0382638\n"
     ]
    },
    {
     "name": "stderr",
     "output_type": "stream",
     "text": [
      "\n",
      "num_leaves, val_score: 0.824198:  35%|###5      | 7/20 [53:01<1:37:16, 448.93s/it]\u001b[A\n",
      "num_leaves, val_score: 0.824198:  40%|####      | 8/20 [53:01<1:11:19, 356.59s/it]\u001b[A\u001b[32m[I 2021-04-29 19:10:47,664]\u001b[0m Trial 14 finished with value: 0.824197714298095 and parameters: {'num_leaves': 26}. Best is trial 14 with value: 0.824197714298095.\u001b[0m\n",
      "\n",
      "num_leaves, val_score: 0.824198:  40%|####      | 8/20 [53:01<1:11:19, 356.59s/it]\u001b[A"
     ]
    },
    {
     "name": "stdout",
     "output_type": "stream",
     "text": [
      "[300]\tcv_agg's multi_logloss: 0.834986 + 0.0390917\n"
     ]
    },
    {
     "name": "stderr",
     "output_type": "stream",
     "text": [
      "\n",
      "num_leaves, val_score: 0.824198:  40%|####      | 8/20 [55:49<1:11:19, 356.59s/it]\u001b[A\n",
      "num_leaves, val_score: 0.824198:  45%|####5     | 9/20 [55:49<54:34, 297.70s/it]  \u001b[A\u001b[32m[I 2021-04-29 19:13:35,870]\u001b[0m Trial 15 finished with value: 0.8256656647551539 and parameters: {'num_leaves': 32}. Best is trial 14 with value: 0.824197714298095.\u001b[0m\n",
      "\n",
      "num_leaves, val_score: 0.824198:  45%|####5     | 9/20 [55:49<54:34, 297.70s/it]\u001b[A"
     ]
    },
    {
     "name": "stdout",
     "output_type": "stream",
     "text": [
      "[300]\tcv_agg's multi_logloss: 0.813623 + 0.0340617\n",
      "[600]\tcv_agg's multi_logloss: 0.839282 + 0.0438172\n"
     ]
    },
    {
     "name": "stderr",
     "output_type": "stream",
     "text": [
      "\n",
      "num_leaves, val_score: 0.813591:  45%|####5     | 9/20 [57:16<54:34, 297.70s/it]\u001b[A\n",
      "num_leaves, val_score: 0.813591:  50%|#####     | 10/20 [57:16<38:46, 232.66s/it]\u001b[A\u001b[32m[I 2021-04-29 19:15:02,875]\u001b[0m Trial 16 finished with value: 0.8135905569985846 and parameters: {'num_leaves': 11}. Best is trial 16 with value: 0.8135905569985846.\u001b[0m\n",
      "\n",
      "num_leaves, val_score: 0.813591:  50%|#####     | 10/20 [57:16<38:46, 232.66s/it]\u001b[A"
     ]
    },
    {
     "name": "stdout",
     "output_type": "stream",
     "text": [
      "[300]\tcv_agg's multi_logloss: 0.853521 + 0.0402132\n"
     ]
    },
    {
     "name": "stderr",
     "output_type": "stream",
     "text": [
      "\n",
      "num_leaves, val_score: 0.813591:  50%|#####     | 10/20 [1:06:52<38:46, 232.66s/it]\u001b[A\n",
      "num_leaves, val_score: 0.813591:  55%|#####5    | 11/20 [1:06:52<50:38, 337.56s/it]\u001b[A\u001b[32m[I 2021-04-29 19:24:38,296]\u001b[0m Trial 17 finished with value: 0.8281476731384553 and parameters: {'num_leaves': 256}. Best is trial 16 with value: 0.8135905569985846.\u001b[0m\n",
      "\n",
      "num_leaves, val_score: 0.813591:  55%|#####5    | 11/20 [1:06:52<50:38, 337.56s/it]\u001b[A"
     ]
    },
    {
     "name": "stdout",
     "output_type": "stream",
     "text": [
      "[300]\tcv_agg's multi_logloss: 0.827754 + 0.0291142\n",
      "[600]\tcv_agg's multi_logloss: 0.816898 + 0.0325276\n"
     ]
    },
    {
     "name": "stderr",
     "output_type": "stream",
     "text": [
      "\n",
      "num_leaves, val_score: 0.813591:  55%|#####5    | 11/20 [1:07:50<50:38, 337.56s/it]\u001b[A\n",
      "num_leaves, val_score: 0.813591:  60%|######    | 12/20 [1:07:50<33:42, 252.79s/it]\u001b[A\u001b[32m[I 2021-04-29 19:25:37,200]\u001b[0m Trial 18 finished with value: 0.8164533464049514 and parameters: {'num_leaves': 4}. Best is trial 16 with value: 0.8135905569985846.\u001b[0m\n",
      "\n",
      "num_leaves, val_score: 0.813591:  60%|######    | 12/20 [1:07:50<33:42, 252.79s/it]\u001b[A"
     ]
    },
    {
     "name": "stdout",
     "output_type": "stream",
     "text": [
      "[300]\tcv_agg's multi_logloss: 0.813623 + 0.0340617\n",
      "[600]\tcv_agg's multi_logloss: 0.839282 + 0.0438172\n"
     ]
    },
    {
     "name": "stderr",
     "output_type": "stream",
     "text": [
      "\n",
      "num_leaves, val_score: 0.813591:  60%|######    | 12/20 [1:09:19<33:42, 252.79s/it]\u001b[A\n",
      "num_leaves, val_score: 0.813591:  65%|######5   | 13/20 [1:09:19<23:41, 203.13s/it]\u001b[A\u001b[32m[I 2021-04-29 19:27:06,059]\u001b[0m Trial 19 finished with value: 0.8135905569985846 and parameters: {'num_leaves': 11}. Best is trial 16 with value: 0.8135905569985846.\u001b[0m\n",
      "\n",
      "num_leaves, val_score: 0.813591:  65%|######5   | 13/20 [1:09:19<23:41, 203.13s/it]\u001b[A"
     ]
    },
    {
     "name": "stdout",
     "output_type": "stream",
     "text": [
      "[300]\tcv_agg's multi_logloss: 0.8516 + 0.0397865\n"
     ]
    },
    {
     "name": "stderr",
     "output_type": "stream",
     "text": [
      "\n",
      "num_leaves, val_score: 0.813591:  65%|######5   | 13/20 [1:15:18<23:41, 203.13s/it]\u001b[A\n",
      "num_leaves, val_score: 0.813591:  70%|#######   | 14/20 [1:15:18<25:01, 250.24s/it]\u001b[A\u001b[32m[I 2021-04-29 19:33:05,166]\u001b[0m Trial 20 finished with value: 0.8275361366342351 and parameters: {'num_leaves': 76}. Best is trial 16 with value: 0.8135905569985846.\u001b[0m\n",
      "\n",
      "num_leaves, val_score: 0.813591:  70%|#######   | 14/20 [1:15:18<25:01, 250.24s/it]\u001b[A"
     ]
    },
    {
     "name": "stdout",
     "output_type": "stream",
     "text": [
      "[300]\tcv_agg's multi_logloss: 0.820935 + 0.0289005\n",
      "[600]\tcv_agg's multi_logloss: 0.816276 + 0.0344634\n"
     ]
    },
    {
     "name": "stderr",
     "output_type": "stream",
     "text": [
      "\n",
      "num_leaves, val_score: 0.813489:  70%|#######   | 14/20 [1:16:26<25:01, 250.24s/it]\u001b[A\n",
      "num_leaves, val_score: 0.813489:  75%|#######5  | 15/20 [1:16:26<16:15, 195.17s/it]\u001b[A\u001b[32m[I 2021-04-29 19:34:12,703]\u001b[0m Trial 21 finished with value: 0.8134887859287592 and parameters: {'num_leaves': 5}. Best is trial 21 with value: 0.8134887859287592.\u001b[0m\n",
      "\n",
      "num_leaves, val_score: 0.813489:  75%|#######5  | 15/20 [1:16:26<16:15, 195.17s/it]\u001b[A"
     ]
    },
    {
     "name": "stdout",
     "output_type": "stream",
     "text": [
      "[300]\tcv_agg's multi_logloss: 0.852702 + 0.0413724\n"
     ]
    },
    {
     "name": "stderr",
     "output_type": "stream",
     "text": [
      "\n",
      "num_leaves, val_score: 0.813489:  75%|#######5  | 15/20 [1:22:28<16:15, 195.17s/it]\u001b[A\n",
      "num_leaves, val_score: 0.813489:  80%|########  | 16/20 [1:22:28<16:21, 245.40s/it]\u001b[A\u001b[32m[I 2021-04-29 19:40:14,757]\u001b[0m Trial 22 finished with value: 0.8277484681606543 and parameters: {'num_leaves': 87}. Best is trial 21 with value: 0.8134887859287592.\u001b[0m\n",
      "\n",
      "num_leaves, val_score: 0.813489:  80%|########  | 16/20 [1:22:28<16:21, 245.40s/it]\u001b[A"
     ]
    },
    {
     "name": "stdout",
     "output_type": "stream",
     "text": [
      "[300]\tcv_agg's multi_logloss: 0.853521 + 0.0402132\n"
     ]
    },
    {
     "name": "stderr",
     "output_type": "stream",
     "text": [
      "\n",
      "num_leaves, val_score: 0.813489:  80%|########  | 16/20 [1:30:45<16:21, 245.40s/it]\u001b[A\n",
      "num_leaves, val_score: 0.813489:  85%|########5 | 17/20 [1:30:45<16:02, 320.94s/it]\u001b[A\u001b[32m[I 2021-04-29 19:48:31,376]\u001b[0m Trial 23 finished with value: 0.8281476731384553 and parameters: {'num_leaves': 237}. Best is trial 21 with value: 0.8134887859287592.\u001b[0m\n",
      "\n",
      "num_leaves, val_score: 0.813489:  85%|########5 | 17/20 [1:30:45<16:02, 320.94s/it]\u001b[A"
     ]
    },
    {
     "name": "stdout",
     "output_type": "stream",
     "text": [
      "[300]\tcv_agg's multi_logloss: 0.827754 + 0.0291142\n",
      "[600]\tcv_agg's multi_logloss: 0.816898 + 0.0325276\n"
     ]
    },
    {
     "name": "stderr",
     "output_type": "stream",
     "text": [
      "\n",
      "num_leaves, val_score: 0.813489:  85%|########5 | 17/20 [1:31:40<16:02, 320.94s/it]\u001b[A\n",
      "num_leaves, val_score: 0.813489:  90%|######### | 18/20 [1:31:40<08:02, 241.24s/it]\u001b[A\u001b[32m[I 2021-04-29 19:49:27,075]\u001b[0m Trial 24 finished with value: 0.8164533464049513 and parameters: {'num_leaves': 4}. Best is trial 21 with value: 0.8134887859287592.\u001b[0m\n",
      "\n",
      "num_leaves, val_score: 0.813489:  90%|######### | 18/20 [1:31:40<08:02, 241.24s/it]\u001b[A"
     ]
    },
    {
     "name": "stdout",
     "output_type": "stream",
     "text": [
      "[300]\tcv_agg's multi_logloss: 0.844406 + 0.0386773\n"
     ]
    },
    {
     "name": "stderr",
     "output_type": "stream",
     "text": [
      "\n",
      "num_leaves, val_score: 0.813489:  90%|######### | 18/20 [1:35:26<08:02, 241.24s/it]\u001b[A\n",
      "num_leaves, val_score: 0.813489:  95%|#########5| 19/20 [1:35:26<03:56, 236.53s/it]\u001b[A\u001b[32m[I 2021-04-29 19:53:12,641]\u001b[0m Trial 25 finished with value: 0.8273208614622798 and parameters: {'num_leaves': 47}. Best is trial 21 with value: 0.8134887859287592.\u001b[0m\n",
      "\n",
      "num_leaves, val_score: 0.813489:  95%|#########5| 19/20 [1:35:26<03:56, 236.53s/it]\u001b[A"
     ]
    },
    {
     "name": "stdout",
     "output_type": "stream",
     "text": [
      "[300]\tcv_agg's multi_logloss: 0.853521 + 0.0402132\n"
     ]
    },
    {
     "name": "stderr",
     "output_type": "stream",
     "text": [
      "\n",
      "num_leaves, val_score: 0.813489:  95%|#########5| 19/20 [1:43:00<03:56, 236.53s/it]\u001b[A\n",
      "num_leaves, val_score: 0.813489: 100%|##########| 20/20 [1:43:00<00:00, 301.90s/it]\u001b[A\u001b[32m[I 2021-04-29 20:00:46,896]\u001b[0m Trial 26 finished with value: 0.8281476731384553 and parameters: {'num_leaves': 204}. Best is trial 21 with value: 0.8134887859287592.\u001b[0m\n",
      "num_leaves, val_score: 0.813489: 100%|##########| 20/20 [1:43:00<00:00, 309.03s/it]\n",
      "\n",
      "  0%|          | 0/10 [00:00<?, ?it/s]\u001b[A\n",
      "bagging, val_score: 0.813489:   0%|          | 0/10 [00:00<?, ?it/s]\u001b[A"
     ]
    },
    {
     "name": "stdout",
     "output_type": "stream",
     "text": [
      "[300]\tcv_agg's multi_logloss: 0.823028 + 0.0295561\n",
      "[600]\tcv_agg's multi_logloss: 0.821159 + 0.0355888\n"
     ]
    },
    {
     "name": "stderr",
     "output_type": "stream",
     "text": [
      "\n",
      "bagging, val_score: 0.813489:   0%|          | 0/10 [00:48<?, ?it/s]\u001b[A\n",
      "bagging, val_score: 0.813489:  10%|#         | 1/10 [00:48<07:14, 48.26s/it]\u001b[A\u001b[32m[I 2021-04-29 20:01:35,170]\u001b[0m Trial 27 finished with value: 0.8174383617017569 and parameters: {'bagging_fraction': 0.7380294717904728, 'bagging_freq': 4}. Best is trial 27 with value: 0.8174383617017569.\u001b[0m\n",
      "\n",
      "bagging, val_score: 0.813489:  10%|#         | 1/10 [00:48<07:14, 48.26s/it]\u001b[A"
     ]
    },
    {
     "name": "stdout",
     "output_type": "stream",
     "text": [
      "[300]\tcv_agg's multi_logloss: 0.824485 + 0.0303653\n",
      "[600]\tcv_agg's multi_logloss: 0.823409 + 0.0333046\n"
     ]
    },
    {
     "name": "stderr",
     "output_type": "stream",
     "text": [
      "\n",
      "bagging, val_score: 0.813489:  10%|#         | 1/10 [01:35<07:14, 48.26s/it]\u001b[A\n",
      "bagging, val_score: 0.813489:  20%|##        | 2/10 [01:35<06:19, 47.39s/it]\u001b[A\u001b[32m[I 2021-04-29 20:02:21,942]\u001b[0m Trial 28 finished with value: 0.8198258732883545 and parameters: {'bagging_fraction': 0.605830500537315, 'bagging_freq': 4}. Best is trial 27 with value: 0.8174383617017569.\u001b[0m\n",
      "\n",
      "bagging, val_score: 0.813489:  20%|##        | 2/10 [01:35<06:19, 47.39s/it]\u001b[A"
     ]
    },
    {
     "name": "stdout",
     "output_type": "stream",
     "text": [
      "[300]\tcv_agg's multi_logloss: 0.824848 + 0.0306799\n",
      "[600]\tcv_agg's multi_logloss: 0.824946 + 0.0356878\n"
     ]
    },
    {
     "name": "stderr",
     "output_type": "stream",
     "text": [
      "\n",
      "bagging, val_score: 0.813489:  20%|##        | 2/10 [02:19<06:19, 47.39s/it]\u001b[A\n",
      "bagging, val_score: 0.813489:  30%|###       | 3/10 [02:19<05:23, 46.20s/it]\u001b[A\u001b[32m[I 2021-04-29 20:03:06,735]\u001b[0m Trial 29 finished with value: 0.81923444651677 and parameters: {'bagging_fraction': 0.5374763868217076, 'bagging_freq': 6}. Best is trial 27 with value: 0.8174383617017569.\u001b[0m\n",
      "\n",
      "bagging, val_score: 0.813489:  30%|###       | 3/10 [02:19<05:23, 46.20s/it]\u001b[A"
     ]
    },
    {
     "name": "stdout",
     "output_type": "stream",
     "text": [
      "[300]\tcv_agg's multi_logloss: 0.830356 + 0.0330145\n",
      "[600]\tcv_agg's multi_logloss: 0.833224 + 0.0383283\n"
     ]
    },
    {
     "name": "stderr",
     "output_type": "stream",
     "text": [
      "\n",
      "bagging, val_score: 0.813489:  30%|###       | 3/10 [03:00<05:23, 46.20s/it]\u001b[A\n",
      "bagging, val_score: 0.813489:  40%|####      | 4/10 [03:00<04:25, 44.20s/it]\u001b[A\u001b[32m[I 2021-04-29 20:03:47,872]\u001b[0m Trial 30 finished with value: 0.8262246130478574 and parameters: {'bagging_fraction': 0.4093510650272514, 'bagging_freq': 7}. Best is trial 27 with value: 0.8174383617017569.\u001b[0m\n",
      "\n",
      "bagging, val_score: 0.813489:  40%|####      | 4/10 [03:00<04:25, 44.20s/it]\u001b[A"
     ]
    },
    {
     "name": "stdout",
     "output_type": "stream",
     "text": [
      "[300]\tcv_agg's multi_logloss: 0.820223 + 0.0306001\n",
      "[600]\tcv_agg's multi_logloss: 0.816025 + 0.0356058\n"
     ]
    },
    {
     "name": "stderr",
     "output_type": "stream",
     "text": [
      "\n",
      "bagging, val_score: 0.813489:  40%|####      | 4/10 [03:55<04:25, 44.20s/it]\u001b[A\n",
      "bagging, val_score: 0.813489:  50%|#####     | 5/10 [03:55<03:59, 47.85s/it]\u001b[A\u001b[32m[I 2021-04-29 20:04:42,189]\u001b[0m Trial 31 finished with value: 0.8145007224898094 and parameters: {'bagging_fraction': 0.8726310861400921, 'bagging_freq': 3}. Best is trial 31 with value: 0.8145007224898094.\u001b[0m\n",
      "\n",
      "bagging, val_score: 0.813489:  50%|#####     | 5/10 [03:55<03:59, 47.85s/it]\u001b[A"
     ]
    },
    {
     "name": "stdout",
     "output_type": "stream",
     "text": [
      "[300]\tcv_agg's multi_logloss: 0.826183 + 0.0303698\n",
      "[600]\tcv_agg's multi_logloss: 0.82718 + 0.0334558\n"
     ]
    },
    {
     "name": "stderr",
     "output_type": "stream",
     "text": [
      "\n",
      "bagging, val_score: 0.813489:  50%|#####     | 5/10 [04:40<03:59, 47.85s/it]\u001b[A\n",
      "bagging, val_score: 0.813489:  60%|######    | 6/10 [04:40<03:08, 47.10s/it]\u001b[A\u001b[32m[I 2021-04-29 20:05:27,830]\u001b[0m Trial 32 finished with value: 0.8218937807412466 and parameters: {'bagging_fraction': 0.5474743041653652, 'bagging_freq': 1}. Best is trial 31 with value: 0.8145007224898094.\u001b[0m\n",
      "\n",
      "bagging, val_score: 0.813489:  60%|######    | 6/10 [04:40<03:08, 47.10s/it]\u001b[A"
     ]
    },
    {
     "name": "stdout",
     "output_type": "stream",
     "text": [
      "[300]\tcv_agg's multi_logloss: 0.820813 + 0.0292159\n",
      "[600]\tcv_agg's multi_logloss: 0.816283 + 0.0347479\n"
     ]
    },
    {
     "name": "stderr",
     "output_type": "stream",
     "text": [
      "\n",
      "bagging, val_score: 0.813314:  60%|######    | 6/10 [05:33<03:08, 47.10s/it]\u001b[A\n",
      "bagging, val_score: 0.813314:  70%|#######   | 7/10 [05:33<02:26, 48.77s/it]\u001b[A\u001b[32m[I 2021-04-29 20:06:20,057]\u001b[0m Trial 33 finished with value: 0.8133142424668757 and parameters: {'bagging_fraction': 0.999275938433692, 'bagging_freq': 2}. Best is trial 33 with value: 0.8133142424668757.\u001b[0m\n",
      "\n",
      "bagging, val_score: 0.813314:  70%|#######   | 7/10 [05:33<02:26, 48.77s/it]\u001b[A"
     ]
    },
    {
     "name": "stdout",
     "output_type": "stream",
     "text": [
      "[300]\tcv_agg's multi_logloss: 0.820792 + 0.0292418\n",
      "[600]\tcv_agg's multi_logloss: 0.815834 + 0.0338566\n"
     ]
    },
    {
     "name": "stderr",
     "output_type": "stream",
     "text": [
      "\n",
      "bagging, val_score: 0.813314:  70%|#######   | 7/10 [06:29<02:26, 48.77s/it]\u001b[A\n",
      "bagging, val_score: 0.813314:  80%|########  | 8/10 [06:29<01:42, 51.04s/it]\u001b[A\u001b[32m[I 2021-04-29 20:07:15,950]\u001b[0m Trial 34 finished with value: 0.8139714575831631 and parameters: {'bagging_fraction': 0.9409017151811535, 'bagging_freq': 6}. Best is trial 33 with value: 0.8133142424668757.\u001b[0m\n",
      "\n",
      "bagging, val_score: 0.813314:  80%|########  | 8/10 [06:29<01:42, 51.04s/it]\u001b[A"
     ]
    },
    {
     "name": "stdout",
     "output_type": "stream",
     "text": [
      "[300]\tcv_agg's multi_logloss: 0.820407 + 0.0295123\n",
      "[600]\tcv_agg's multi_logloss: 0.816405 + 0.034526\n"
     ]
    },
    {
     "name": "stderr",
     "output_type": "stream",
     "text": [
      "\n",
      "bagging, val_score: 0.813314:  80%|########  | 8/10 [07:24<01:42, 51.04s/it]\u001b[A\n",
      "bagging, val_score: 0.813314:  90%|######### | 9/10 [07:24<00:52, 52.56s/it]\u001b[A\u001b[32m[I 2021-04-29 20:08:11,864]\u001b[0m Trial 35 finished with value: 0.8143203391040954 and parameters: {'bagging_fraction': 0.9431938930339099, 'bagging_freq': 3}. Best is trial 33 with value: 0.8133142424668757.\u001b[0m\n",
      "\n",
      "bagging, val_score: 0.813314:  90%|######### | 9/10 [07:24<00:52, 52.56s/it]\u001b[A"
     ]
    },
    {
     "name": "stdout",
     "output_type": "stream",
     "text": [
      "[300]\tcv_agg's multi_logloss: 0.824808 + 0.0319038\n",
      "[600]\tcv_agg's multi_logloss: 0.826244 + 0.0364708\n"
     ]
    },
    {
     "name": "stderr",
     "output_type": "stream",
     "text": [
      "\n",
      "bagging, val_score: 0.813314:  90%|######### | 9/10 [08:06<00:52, 52.56s/it]\u001b[A\n",
      "bagging, val_score: 0.813314: 100%|##########| 10/10 [08:06<00:00, 49.25s/it]\u001b[A\u001b[32m[I 2021-04-29 20:08:53,690]\u001b[0m Trial 36 finished with value: 0.8217321905011097 and parameters: {'bagging_fraction': 0.5020743373152152, 'bagging_freq': 4}. Best is trial 33 with value: 0.8133142424668757.\u001b[0m\n",
      "bagging, val_score: 0.813314: 100%|##########| 10/10 [08:06<00:00, 48.68s/it]\n",
      "\n",
      "  0%|          | 0/3 [00:00<?, ?it/s]\u001b[A\n",
      "feature_fraction_stage2, val_score: 0.813314:   0%|          | 0/3 [00:00<?, ?it/s]\u001b[A"
     ]
    },
    {
     "name": "stdout",
     "output_type": "stream",
     "text": [
      "[300]\tcv_agg's multi_logloss: 0.821122 + 0.028997\n",
      "[600]\tcv_agg's multi_logloss: 0.817047 + 0.0343824\n"
     ]
    },
    {
     "name": "stderr",
     "output_type": "stream",
     "text": [
      "\n",
      "feature_fraction_stage2, val_score: 0.813314:   0%|          | 0/3 [00:56<?, ?it/s]\u001b[A\n",
      "feature_fraction_stage2, val_score: 0.813314:  33%|###3      | 1/3 [00:56<01:52, 56.41s/it]\u001b[A\u001b[32m[I 2021-04-29 20:09:50,105]\u001b[0m Trial 37 finished with value: 0.8144991164867934 and parameters: {'feature_fraction': 0.44800000000000006}. Best is trial 37 with value: 0.8144991164867934.\u001b[0m\n",
      "\n",
      "feature_fraction_stage2, val_score: 0.813314:  33%|###3      | 1/3 [00:56<01:52, 56.41s/it]\u001b[A"
     ]
    },
    {
     "name": "stdout",
     "output_type": "stream",
     "text": [
      "[300]\tcv_agg's multi_logloss: 0.821876 + 0.0286836\n",
      "[600]\tcv_agg's multi_logloss: 0.817979 + 0.0340363\n"
     ]
    },
    {
     "name": "stderr",
     "output_type": "stream",
     "text": [
      "\n",
      "feature_fraction_stage2, val_score: 0.813314:  33%|###3      | 1/3 [01:53<01:52, 56.41s/it]\u001b[A\n",
      "feature_fraction_stage2, val_score: 0.813314:  67%|######6   | 2/3 [01:53<00:56, 56.72s/it]\u001b[A\u001b[32m[I 2021-04-29 20:10:47,039]\u001b[0m Trial 38 finished with value: 0.8151532232289609 and parameters: {'feature_fraction': 0.48000000000000004}. Best is trial 37 with value: 0.8144991164867934.\u001b[0m\n",
      "\n",
      "feature_fraction_stage2, val_score: 0.813314:  67%|######6   | 2/3 [01:53<00:56, 56.72s/it]\u001b[A"
     ]
    },
    {
     "name": "stdout",
     "output_type": "stream",
     "text": [
      "[300]\tcv_agg's multi_logloss: 0.821436 + 0.0296241\n",
      "[600]\tcv_agg's multi_logloss: 0.816714 + 0.0348971\n"
     ]
    },
    {
     "name": "stderr",
     "output_type": "stream",
     "text": [
      "\n",
      "feature_fraction_stage2, val_score: 0.813314:  67%|######6   | 2/3 [02:49<00:56, 56.72s/it]\u001b[A\n",
      "feature_fraction_stage2, val_score: 0.813314: 100%|##########| 3/3 [02:49<00:00, 56.57s/it]\u001b[A\u001b[32m[I 2021-04-29 20:11:43,428]\u001b[0m Trial 39 finished with value: 0.8144427758989228 and parameters: {'feature_fraction': 0.41600000000000004}. Best is trial 39 with value: 0.8144427758989228.\u001b[0m\n",
      "feature_fraction_stage2, val_score: 0.813314: 100%|##########| 3/3 [02:49<00:00, 56.58s/it]\n",
      "\n",
      "  0%|          | 0/20 [00:00<?, ?it/s]\u001b[A\n",
      "regularization_factors, val_score: 0.813314:   0%|          | 0/20 [00:00<?, ?it/s]\u001b[A"
     ]
    },
    {
     "name": "stdout",
     "output_type": "stream",
     "text": [
      "[300]\tcv_agg's multi_logloss: 0.821098 + 0.028864\n",
      "[600]\tcv_agg's multi_logloss: 0.816352 + 0.0348547\n"
     ]
    },
    {
     "name": "stderr",
     "output_type": "stream",
     "text": [
      "\n",
      "regularization_factors, val_score: 0.813314:   0%|          | 0/20 [01:01<?, ?it/s]\u001b[A\n",
      "regularization_factors, val_score: 0.813314:   5%|5         | 1/20 [01:01<19:31, 61.64s/it]\u001b[A\u001b[32m[I 2021-04-29 20:12:45,076]\u001b[0m Trial 40 finished with value: 0.8136828487889257 and parameters: {'lambda_l1': 0.0008751175900838738, 'lambda_l2': 1.0223837177500158e-06}. Best is trial 40 with value: 0.8136828487889257.\u001b[0m\n",
      "\n",
      "regularization_factors, val_score: 0.813314:   5%|5         | 1/20 [01:01<19:31, 61.64s/it]\u001b[A"
     ]
    },
    {
     "name": "stdout",
     "output_type": "stream",
     "text": [
      "[300]\tcv_agg's multi_logloss: 0.821048 + 0.027851\n",
      "[600]\tcv_agg's multi_logloss: 0.811363 + 0.03121\n"
     ]
    },
    {
     "name": "stderr",
     "output_type": "stream",
     "text": [
      "\n",
      "regularization_factors, val_score: 0.811043:   5%|5         | 1/20 [02:08<19:31, 61.64s/it]\u001b[A\n",
      "regularization_factors, val_score: 0.811043:  10%|#         | 2/20 [02:08<19:26, 64.81s/it]\u001b[A\u001b[32m[I 2021-04-29 20:13:52,102]\u001b[0m Trial 41 finished with value: 0.8110425970891629 and parameters: {'lambda_l1': 0.5855365798617091, 'lambda_l2': 3.192440931489797e-05}. Best is trial 41 with value: 0.8110425970891629.\u001b[0m\n",
      "\n",
      "regularization_factors, val_score: 0.811043:  10%|#         | 2/20 [02:08<19:26, 64.81s/it]\u001b[A"
     ]
    },
    {
     "name": "stdout",
     "output_type": "stream",
     "text": [
      "[300]\tcv_agg's multi_logloss: 0.821026 + 0.0289757\n",
      "[600]\tcv_agg's multi_logloss: 0.81574 + 0.0337249\n"
     ]
    },
    {
     "name": "stderr",
     "output_type": "stream",
     "text": [
      "\n",
      "regularization_factors, val_score: 0.811043:  10%|#         | 2/20 [03:09<19:26, 64.81s/it]\u001b[A\n",
      "regularization_factors, val_score: 0.811043:  15%|#5        | 3/20 [03:09<17:48, 62.85s/it]\u001b[A\u001b[32m[I 2021-04-29 20:14:52,628]\u001b[0m Trial 42 finished with value: 0.8132966049223681 and parameters: {'lambda_l1': 0.03229485234776914, 'lambda_l2': 2.402144523593655e-05}. Best is trial 41 with value: 0.8110425970891629.\u001b[0m\n",
      "\n",
      "regularization_factors, val_score: 0.811043:  15%|#5        | 3/20 [03:09<17:48, 62.85s/it]\u001b[A"
     ]
    },
    {
     "name": "stdout",
     "output_type": "stream",
     "text": [
      "[300]\tcv_agg's multi_logloss: 0.820986 + 0.0288823\n",
      "[600]\tcv_agg's multi_logloss: 0.816522 + 0.034588\n"
     ]
    },
    {
     "name": "stderr",
     "output_type": "stream",
     "text": [
      "\n",
      "regularization_factors, val_score: 0.811043:  15%|#5        | 3/20 [04:13<17:48, 62.85s/it]\u001b[A\n",
      "regularization_factors, val_score: 0.811043:  20%|##        | 4/20 [04:13<16:57, 63.60s/it]\u001b[A\u001b[32m[I 2021-04-29 20:15:57,365]\u001b[0m Trial 43 finished with value: 0.8136518334781317 and parameters: {'lambda_l1': 0.0015739003801269252, 'lambda_l2': 3.061131737691242e-08}. Best is trial 41 with value: 0.8110425970891629.\u001b[0m\n",
      "\n",
      "regularization_factors, val_score: 0.811043:  20%|##        | 4/20 [04:13<16:57, 63.60s/it]\u001b[A"
     ]
    },
    {
     "name": "stdout",
     "output_type": "stream",
     "text": [
      "[300]\tcv_agg's multi_logloss: 0.82079 + 0.0292739\n",
      "[600]\tcv_agg's multi_logloss: 0.816266 + 0.0347975\n"
     ]
    },
    {
     "name": "stderr",
     "output_type": "stream",
     "text": [
      "\n",
      "regularization_factors, val_score: 0.811043:  20%|##        | 4/20 [05:13<16:57, 63.60s/it]\u001b[A\n",
      "regularization_factors, val_score: 0.811043:  25%|##5       | 5/20 [05:13<15:31, 62.09s/it]\u001b[A\u001b[32m[I 2021-04-29 20:16:56,791]\u001b[0m Trial 44 finished with value: 0.813291596108292 and parameters: {'lambda_l1': 9.554902612823922e-08, 'lambda_l2': 1.1751807511335589e-08}. Best is trial 41 with value: 0.8110425970891629.\u001b[0m\n",
      "\n",
      "regularization_factors, val_score: 0.811043:  25%|##5       | 5/20 [05:13<15:31, 62.09s/it]\u001b[A"
     ]
    },
    {
     "name": "stdout",
     "output_type": "stream",
     "text": [
      "[300]\tcv_agg's multi_logloss: 0.820736 + 0.0294323\n",
      "[600]\tcv_agg's multi_logloss: 0.816125 + 0.0350995\n"
     ]
    },
    {
     "name": "stderr",
     "output_type": "stream",
     "text": [
      "\n",
      "regularization_factors, val_score: 0.811043:  25%|##5       | 5/20 [07:04<15:31, 62.09s/it]\u001b[A\n",
      "regularization_factors, val_score: 0.811043:  30%|###       | 6/20 [07:04<18:24, 78.93s/it]\u001b[A\u001b[32m[I 2021-04-29 20:18:48,398]\u001b[0m Trial 45 finished with value: 0.8132612006639344 and parameters: {'lambda_l1': 4.47216719234045e-06, 'lambda_l2': 2.9326303081201016e-06}. Best is trial 41 with value: 0.8110425970891629.\u001b[0m\n",
      "\n",
      "regularization_factors, val_score: 0.811043:  30%|###       | 6/20 [07:04<18:24, 78.93s/it]\u001b[A"
     ]
    },
    {
     "name": "stdout",
     "output_type": "stream",
     "text": [
      "[300]\tcv_agg's multi_logloss: 0.820809 + 0.0292888\n",
      "[600]\tcv_agg's multi_logloss: 0.816282 + 0.0348104\n"
     ]
    },
    {
     "name": "stderr",
     "output_type": "stream",
     "text": [
      "\n",
      "regularization_factors, val_score: 0.811043:  30%|###       | 6/20 [08:00<18:24, 78.93s/it]\u001b[A\n",
      "regularization_factors, val_score: 0.811043:  35%|###5      | 7/20 [08:00<15:26, 71.27s/it]\u001b[A\u001b[32m[I 2021-04-29 20:19:43,917]\u001b[0m Trial 46 finished with value: 0.8133110951942901 and parameters: {'lambda_l1': 3.565340061815217e-07, 'lambda_l2': 2.3226543370445396e-07}. Best is trial 41 with value: 0.8110425970891629.\u001b[0m\n",
      "\n",
      "regularization_factors, val_score: 0.811043:  35%|###5      | 7/20 [08:00<15:26, 71.27s/it]\u001b[A"
     ]
    },
    {
     "name": "stdout",
     "output_type": "stream",
     "text": [
      "[300]\tcv_agg's multi_logloss: 0.82104 + 0.0291624\n",
      "[600]\tcv_agg's multi_logloss: 0.81599 + 0.0344894\n"
     ]
    },
    {
     "name": "stderr",
     "output_type": "stream",
     "text": [
      "\n",
      "regularization_factors, val_score: 0.811043:  35%|###5      | 7/20 [09:00<15:26, 71.27s/it]\u001b[A\n",
      "regularization_factors, val_score: 0.811043:  40%|####      | 8/20 [09:00<13:32, 67.68s/it]\u001b[A\u001b[32m[I 2021-04-29 20:20:43,893]\u001b[0m Trial 47 finished with value: 0.8134822988770782 and parameters: {'lambda_l1': 0.0037971144223668636, 'lambda_l2': 3.0785318404340524e-08}. Best is trial 41 with value: 0.8110425970891629.\u001b[0m\n",
      "\n",
      "regularization_factors, val_score: 0.811043:  40%|####      | 8/20 [09:00<13:32, 67.68s/it]\u001b[A"
     ]
    },
    {
     "name": "stdout",
     "output_type": "stream",
     "text": [
      "[300]\tcv_agg's multi_logloss: 0.832197 + 0.0289133\n",
      "[600]\tcv_agg's multi_logloss: 0.815343 + 0.0309506\n",
      "[900]\tcv_agg's multi_logloss: 0.816288 + 0.033378\n"
     ]
    },
    {
     "name": "stderr",
     "output_type": "stream",
     "text": [
      "\n",
      "regularization_factors, val_score: 0.811043:  40%|####      | 8/20 [10:16<13:32, 67.68s/it]\u001b[A\n",
      "regularization_factors, val_score: 0.811043:  45%|####5     | 9/20 [10:16<12:52, 70.24s/it]\u001b[A\u001b[32m[I 2021-04-29 20:21:59,761]\u001b[0m Trial 48 finished with value: 0.8148561789862059 and parameters: {'lambda_l1': 4.7058747822387975e-08, 'lambda_l2': 5.924706608411601}. Best is trial 41 with value: 0.8110425970891629.\u001b[0m\n",
      "\n",
      "regularization_factors, val_score: 0.811043:  45%|####5     | 9/20 [10:16<12:52, 70.24s/it]\u001b[A"
     ]
    },
    {
     "name": "stdout",
     "output_type": "stream",
     "text": [
      "[300]\tcv_agg's multi_logloss: 0.82109 + 0.0290034\n",
      "[600]\tcv_agg's multi_logloss: 0.815952 + 0.03433\n"
     ]
    },
    {
     "name": "stderr",
     "output_type": "stream",
     "text": [
      "\n",
      "regularization_factors, val_score: 0.811043:  45%|####5     | 9/20 [11:13<12:52, 70.24s/it]\u001b[A\n",
      "regularization_factors, val_score: 0.811043:  50%|#####     | 10/20 [11:13<11:00, 66.09s/it]\u001b[A\u001b[32m[I 2021-04-29 20:22:56,552]\u001b[0m Trial 49 finished with value: 0.8135841010769045 and parameters: {'lambda_l1': 4.952056022870754e-05, 'lambda_l2': 0.024052162081345557}. Best is trial 41 with value: 0.8110425970891629.\u001b[0m\n",
      "\n",
      "regularization_factors, val_score: 0.811043:  50%|#####     | 10/20 [11:13<11:00, 66.09s/it]\u001b[A"
     ]
    },
    {
     "name": "stdout",
     "output_type": "stream",
     "text": [
      "[300]\tcv_agg's multi_logloss: 0.847758 + 0.0288616\n",
      "[600]\tcv_agg's multi_logloss: 0.832403 + 0.0290308\n",
      "[900]\tcv_agg's multi_logloss: 0.82931 + 0.0283542\n",
      "[1200]\tcv_agg's multi_logloss: 0.828689 + 0.0285958\n",
      "[1500]\tcv_agg's multi_logloss: 0.828806 + 0.0288487\n"
     ]
    },
    {
     "name": "stderr",
     "output_type": "stream",
     "text": [
      "\n",
      "regularization_factors, val_score: 0.811043:  50%|#####     | 10/20 [12:19<11:00, 66.09s/it]\u001b[A\n",
      "regularization_factors, val_score: 0.811043:  55%|#####5    | 11/20 [12:19<09:56, 66.23s/it]\u001b[A\u001b[32m[I 2021-04-29 20:24:03,093]\u001b[0m Trial 50 finished with value: 0.8286667130941643 and parameters: {'lambda_l1': 7.976816427161715, 'lambda_l2': 0.00284065778484303}. Best is trial 41 with value: 0.8110425970891629.\u001b[0m\n",
      "\n",
      "regularization_factors, val_score: 0.811043:  55%|#####5    | 11/20 [12:19<09:56, 66.23s/it]\u001b[A"
     ]
    },
    {
     "name": "stdout",
     "output_type": "stream",
     "text": [
      "[300]\tcv_agg's multi_logloss: 0.820732 + 0.0294146\n",
      "[600]\tcv_agg's multi_logloss: 0.816188 + 0.0344804\n"
     ]
    },
    {
     "name": "stderr",
     "output_type": "stream",
     "text": [
      "\n",
      "regularization_factors, val_score: 0.811043:  55%|#####5    | 11/20 [13:16<09:56, 66.23s/it]\u001b[A\n",
      "regularization_factors, val_score: 0.811043:  60%|######    | 12/20 [13:16<08:26, 63.34s/it]\u001b[A\u001b[32m[I 2021-04-29 20:24:59,817]\u001b[0m Trial 51 finished with value: 0.8133445960850804 and parameters: {'lambda_l1': 6.343931348642737e-06, 'lambda_l2': 3.596540450944788e-05}. Best is trial 41 with value: 0.8110425970891629.\u001b[0m\n",
      "\n",
      "regularization_factors, val_score: 0.811043:  60%|######    | 12/20 [13:16<08:26, 63.34s/it]\u001b[A"
     ]
    },
    {
     "name": "stdout",
     "output_type": "stream",
     "text": [
      "[300]\tcv_agg's multi_logloss: 0.820918 + 0.0290833\n",
      "[600]\tcv_agg's multi_logloss: 0.813927 + 0.0327408\n"
     ]
    },
    {
     "name": "stderr",
     "output_type": "stream",
     "text": [
      "\n",
      "regularization_factors, val_score: 0.811043:  60%|######    | 12/20 [14:15<08:26, 63.34s/it]\u001b[A\n",
      "regularization_factors, val_score: 0.811043:  65%|######5   | 13/20 [14:15<07:14, 62.00s/it]\u001b[A\u001b[32m[I 2021-04-29 20:25:58,753]\u001b[0m Trial 52 finished with value: 0.8122457075975248 and parameters: {'lambda_l1': 0.175149286446454, 'lambda_l2': 7.547135070419701e-06}. Best is trial 41 with value: 0.8110425970891629.\u001b[0m\n",
      "\n",
      "regularization_factors, val_score: 0.811043:  65%|######5   | 13/20 [14:15<07:14, 62.00s/it]\u001b[A"
     ]
    },
    {
     "name": "stdout",
     "output_type": "stream",
     "text": [
      "[300]\tcv_agg's multi_logloss: 0.826401 + 0.0273297\n",
      "[600]\tcv_agg's multi_logloss: 0.8131 + 0.0281571\n",
      "[900]\tcv_agg's multi_logloss: 0.81543 + 0.0305255\n"
     ]
    },
    {
     "name": "stderr",
     "output_type": "stream",
     "text": [
      "\n",
      "regularization_factors, val_score: 0.811043:  65%|######5   | 13/20 [15:16<07:14, 62.00s/it]\u001b[A\n",
      "regularization_factors, val_score: 0.811043:  70%|#######   | 14/20 [15:16<06:10, 61.77s/it]\u001b[A\u001b[32m[I 2021-04-29 20:26:59,976]\u001b[0m Trial 53 finished with value: 0.8129492481598435 and parameters: {'lambda_l1': 2.072450539316131, 'lambda_l2': 0.0007211630231833166}. Best is trial 41 with value: 0.8110425970891629.\u001b[0m\n",
      "\n",
      "regularization_factors, val_score: 0.811043:  70%|#######   | 14/20 [15:16<06:10, 61.77s/it]\u001b[A"
     ]
    },
    {
     "name": "stdout",
     "output_type": "stream",
     "text": [
      "[300]\tcv_agg's multi_logloss: 0.821008 + 0.0279266\n",
      "[600]\tcv_agg's multi_logloss: 0.813693 + 0.0316211\n"
     ]
    },
    {
     "name": "stderr",
     "output_type": "stream",
     "text": [
      "\n",
      "regularization_factors, val_score: 0.811043:  70%|#######   | 14/20 [16:16<06:10, 61.77s/it]\u001b[A\n",
      "regularization_factors, val_score: 0.811043:  75%|#######5  | 15/20 [16:16<05:06, 61.24s/it]\u001b[A\u001b[32m[I 2021-04-29 20:28:00,009]\u001b[0m Trial 54 finished with value: 0.8123270013829872 and parameters: {'lambda_l1': 0.25981069400995194, 'lambda_l2': 0.05629962459925734}. Best is trial 41 with value: 0.8110425970891629.\u001b[0m\n",
      "\n",
      "regularization_factors, val_score: 0.811043:  75%|#######5  | 15/20 [16:16<05:06, 61.24s/it]\u001b[A"
     ]
    },
    {
     "name": "stdout",
     "output_type": "stream",
     "text": [
      "[300]\tcv_agg's multi_logloss: 0.820878 + 0.0287884\n",
      "[600]\tcv_agg's multi_logloss: 0.814992 + 0.0331764\n"
     ]
    },
    {
     "name": "stderr",
     "output_type": "stream",
     "text": [
      "\n",
      "regularization_factors, val_score: 0.811043:  75%|#######5  | 15/20 [17:12<05:06, 61.24s/it]\u001b[A\n",
      "regularization_factors, val_score: 0.811043:  80%|########  | 16/20 [17:12<03:58, 59.68s/it]\u001b[A\u001b[32m[I 2021-04-29 20:28:56,058]\u001b[0m Trial 55 finished with value: 0.8129549049854761 and parameters: {'lambda_l1': 0.11660227571439248, 'lambda_l2': 2.843530160900506e-05}. Best is trial 41 with value: 0.8110425970891629.\u001b[0m\n",
      "\n",
      "regularization_factors, val_score: 0.811043:  80%|########  | 16/20 [17:12<03:58, 59.68s/it]\u001b[A"
     ]
    },
    {
     "name": "stdout",
     "output_type": "stream",
     "text": [
      "[300]\tcv_agg's multi_logloss: 0.821621 + 0.0277995\n",
      "[600]\tcv_agg's multi_logloss: 0.810828 + 0.0303876\n"
     ]
    },
    {
     "name": "stderr",
     "output_type": "stream",
     "text": [
      "\n",
      "regularization_factors, val_score: 0.810585:  80%|########  | 16/20 [18:14<03:58, 59.68s/it]\u001b[A\n",
      "regularization_factors, val_score: 0.810585:  85%|########5 | 17/20 [18:14<03:00, 60.27s/it]\u001b[A\u001b[32m[I 2021-04-29 20:29:57,685]\u001b[0m Trial 56 finished with value: 0.8105854205142874 and parameters: {'lambda_l1': 0.91970762160045, 'lambda_l2': 0.00015502503216817458}. Best is trial 56 with value: 0.8105854205142874.\u001b[0m\n",
      "\n",
      "regularization_factors, val_score: 0.810585:  85%|########5 | 17/20 [18:14<03:00, 60.27s/it]\u001b[A"
     ]
    },
    {
     "name": "stdout",
     "output_type": "stream",
     "text": [
      "[300]\tcv_agg's multi_logloss: 0.854225 + 0.0286811\n",
      "[600]\tcv_agg's multi_logloss: 0.837698 + 0.0286197\n",
      "[900]\tcv_agg's multi_logloss: 0.834735 + 0.0285128\n",
      "[1200]\tcv_agg's multi_logloss: 0.833937 + 0.0286859\n",
      "[1500]\tcv_agg's multi_logloss: 0.833977 + 0.0289246\n"
     ]
    },
    {
     "name": "stderr",
     "output_type": "stream",
     "text": [
      "\n",
      "regularization_factors, val_score: 0.810585:  85%|########5 | 17/20 [19:15<03:00, 60.27s/it]\u001b[A\n",
      "regularization_factors, val_score: 0.810585:  90%|######### | 18/20 [19:15<02:01, 60.51s/it]\u001b[A\u001b[32m[I 2021-04-29 20:30:58,769]\u001b[0m Trial 57 finished with value: 0.8339300936577858 and parameters: {'lambda_l1': 9.660443648753484, 'lambda_l2': 0.00023882420399330196}. Best is trial 56 with value: 0.8105854205142874.\u001b[0m\n",
      "\n",
      "regularization_factors, val_score: 0.810585:  90%|######### | 18/20 [19:15<02:01, 60.51s/it]\u001b[A"
     ]
    },
    {
     "name": "stdout",
     "output_type": "stream",
     "text": [
      "[300]\tcv_agg's multi_logloss: 0.824424 + 0.0272229\n",
      "[600]\tcv_agg's multi_logloss: 0.812372 + 0.0296243\n"
     ]
    },
    {
     "name": "stderr",
     "output_type": "stream",
     "text": [
      "\n",
      "regularization_factors, val_score: 0.810585:  90%|######### | 18/20 [20:19<02:01, 60.51s/it]\u001b[A\n",
      "regularization_factors, val_score: 0.810585:  95%|#########5| 19/20 [20:19<01:01, 61.63s/it]\u001b[A\u001b[32m[I 2021-04-29 20:32:03,012]\u001b[0m Trial 58 finished with value: 0.8123287970282934 and parameters: {'lambda_l1': 1.228633068946454, 'lambda_l2': 0.3910266319347688}. Best is trial 56 with value: 0.8105854205142874.\u001b[0m\n",
      "\n",
      "regularization_factors, val_score: 0.810585:  95%|#########5| 19/20 [20:19<01:01, 61.63s/it]\u001b[A"
     ]
    },
    {
     "name": "stdout",
     "output_type": "stream",
     "text": [
      "[300]\tcv_agg's multi_logloss: 0.821529 + 0.0290255\n",
      "[600]\tcv_agg's multi_logloss: 0.816131 + 0.0339586\n"
     ]
    },
    {
     "name": "stderr",
     "output_type": "stream",
     "text": [
      "\n",
      "regularization_factors, val_score: 0.810585:  95%|#########5| 19/20 [21:21<01:01, 61.63s/it]\u001b[A\n",
      "regularization_factors, val_score: 0.810585: 100%|##########| 20/20 [21:21<00:00, 61.67s/it]\u001b[A\u001b[32m[I 2021-04-29 20:33:04,768]\u001b[0m Trial 59 finished with value: 0.8137918543445235 and parameters: {'lambda_l1': 0.019710680246457807, 'lambda_l2': 0.0004286923538138073}. Best is trial 56 with value: 0.8105854205142874.\u001b[0m\n",
      "regularization_factors, val_score: 0.810585: 100%|##########| 20/20 [21:21<00:00, 64.07s/it]\n",
      "\n",
      "  0%|          | 0/5 [00:00<?, ?it/s]\u001b[A\n",
      "min_data_in_leaf, val_score: 0.810585:   0%|          | 0/5 [00:00<?, ?it/s]\u001b[A"
     ]
    },
    {
     "name": "stdout",
     "output_type": "stream",
     "text": [
      "[300]\tcv_agg's multi_logloss: 0.823262 + 0.0283065\n",
      "[600]\tcv_agg's multi_logloss: 0.814457 + 0.0308852\n"
     ]
    },
    {
     "name": "stderr",
     "output_type": "stream",
     "text": [
      "\n",
      "min_data_in_leaf, val_score: 0.810585:   0%|          | 0/5 [00:59<?, ?it/s]\u001b[A\n",
      "min_data_in_leaf, val_score: 0.810585:  20%|##        | 1/5 [00:59<03:56, 59.22s/it]\u001b[A\u001b[32m[I 2021-04-29 20:34:03,994]\u001b[0m Trial 60 finished with value: 0.8140912553535813 and parameters: {'min_child_samples': 100}. Best is trial 60 with value: 0.8140912553535813.\u001b[0m\n",
      "\n",
      "min_data_in_leaf, val_score: 0.810585:  20%|##        | 1/5 [00:59<03:56, 59.22s/it]\u001b[A"
     ]
    },
    {
     "name": "stdout",
     "output_type": "stream",
     "text": [
      "[300]\tcv_agg's multi_logloss: 0.823284 + 0.0278719\n",
      "[600]\tcv_agg's multi_logloss: 0.811593 + 0.0302176\n"
     ]
    },
    {
     "name": "stderr",
     "output_type": "stream",
     "text": [
      "\n",
      "min_data_in_leaf, val_score: 0.810585:  20%|##        | 1/5 [02:02<03:56, 59.22s/it]\u001b[A\n",
      "min_data_in_leaf, val_score: 0.810585:  40%|####      | 2/5 [02:02<03:04, 61.42s/it]\u001b[A\u001b[32m[I 2021-04-29 20:35:06,952]\u001b[0m Trial 61 finished with value: 0.8115165734340464 and parameters: {'min_child_samples': 10}. Best is trial 61 with value: 0.8115165734340464.\u001b[0m\n",
      "\n",
      "min_data_in_leaf, val_score: 0.810585:  40%|####      | 2/5 [02:02<03:04, 61.42s/it]\u001b[A"
     ]
    },
    {
     "name": "stdout",
     "output_type": "stream",
     "text": [
      "[300]\tcv_agg's multi_logloss: 0.823421 + 0.0269409\n",
      "[600]\tcv_agg's multi_logloss: 0.812157 + 0.0291532\n"
     ]
    },
    {
     "name": "stderr",
     "output_type": "stream",
     "text": [
      "\n",
      "min_data_in_leaf, val_score: 0.810585:  40%|####      | 2/5 [03:08<03:04, 61.42s/it]\u001b[A\n",
      "min_data_in_leaf, val_score: 0.810585:  60%|######    | 3/5 [03:08<02:07, 63.54s/it]\u001b[A\u001b[32m[I 2021-04-29 20:36:13,009]\u001b[0m Trial 62 finished with value: 0.812080113003342 and parameters: {'min_child_samples': 5}. Best is trial 61 with value: 0.8115165734340464.\u001b[0m\n",
      "\n",
      "min_data_in_leaf, val_score: 0.810585:  60%|######    | 3/5 [03:08<02:07, 63.54s/it]\u001b[A"
     ]
    },
    {
     "name": "stdout",
     "output_type": "stream",
     "text": [
      "[300]\tcv_agg's multi_logloss: 0.821648 + 0.0275851\n",
      "[600]\tcv_agg's multi_logloss: 0.810775 + 0.0300537\n"
     ]
    },
    {
     "name": "stderr",
     "output_type": "stream",
     "text": [
      "\n",
      "min_data_in_leaf, val_score: 0.810497:  60%|######    | 3/5 [04:09<02:07, 63.54s/it]\u001b[A\n",
      "min_data_in_leaf, val_score: 0.810497:  80%|########  | 4/5 [04:09<01:02, 62.82s/it]\u001b[A\u001b[32m[I 2021-04-29 20:37:14,722]\u001b[0m Trial 63 finished with value: 0.8104974730599193 and parameters: {'min_child_samples': 25}. Best is trial 63 with value: 0.8104974730599193.\u001b[0m\n",
      "\n",
      "min_data_in_leaf, val_score: 0.810497:  80%|########  | 4/5 [04:09<01:02, 62.82s/it]\u001b[A"
     ]
    },
    {
     "name": "stdout",
     "output_type": "stream",
     "text": [
      "[300]\tcv_agg's multi_logloss: 0.821921 + 0.0281974\n",
      "[600]\tcv_agg's multi_logloss: 0.812213 + 0.0302956\n"
     ]
    },
    {
     "name": "stderr",
     "output_type": "stream",
     "text": [
      "\n",
      "min_data_in_leaf, val_score: 0.810497:  80%|########  | 4/5 [05:11<01:02, 62.82s/it]\u001b[A\n",
      "min_data_in_leaf, val_score: 0.810497: 100%|##########| 5/5 [05:11<00:00, 62.27s/it]\u001b[A\u001b[32m[I 2021-04-29 20:38:16,020]\u001b[0m Trial 64 finished with value: 0.811902345726194 and parameters: {'min_child_samples': 50}. Best is trial 63 with value: 0.8104974730599193.\u001b[0m\n",
      "min_data_in_leaf, val_score: 0.810497: 100%|##########| 5/5 [05:11<00:00, 62.25s/it]"
     ]
    },
    {
     "name": "stdout",
     "output_type": "stream",
     "text": [
      "Best score: 0.8104974730599193\n",
      "Best params: {'objective': 'multiclass', 'num_class': 11, 'metric': 'multi_logloss', 'learning_rate': 0.010181824967207102, 'verbosity': -1, 'seed': 42, 'feature_pre_filter': False, 'lambda_l1': 0.91970762160045, 'lambda_l2': 0.00015502503216817458, 'num_leaves': 5, 'feature_fraction': 0.4, 'bagging_fraction': 0.999275938433692, 'bagging_freq': 2, 'min_child_samples': 25}\n"
     ]
    },
    {
     "name": "stderr",
     "output_type": "stream",
     "text": [
      "\n"
     ]
    }
   ],
   "source": [
    "# Optunaを用いたパラメータチューニング (鬼のように時間がかかるので注意)\n",
    "\n",
    "# make knn features\n",
    "X = df_train[knn_features].fillna(0.0).values * knn_feature_weights\n",
    "knn_feature_extractor = KNNFeatureExtractor(knn_n_neighbors).fit(X, target)\n",
    "_df_train = pd.concat([df_train, knn_feature_extractor.transform(X, is_train_data=True)], axis=1)\n",
    "print(f\"特徴量数: {_df_train.loc[:, features].shape[-1]}\")\n",
    "\n",
    "folds = StratifiedKFold(n_splits=5, shuffle=True, random_state=SEED_SKF)\n",
    "\n",
    "lgb_train = opt_lgb.Dataset(\n",
    "    _df_train.loc[:, features],\n",
    "    label=target,\n",
    "    feature_name=features,\n",
    "    categorical_feature=features_categorical\n",
    "    )\n",
    "\n",
    "tuner_cv = opt_lgb.LightGBMTunerCV(\n",
    "    lgb_params,\n",
    "    lgb_train,\n",
    "    num_boost_round=10000000,\n",
    "    early_stopping_rounds=300,\n",
    "    verbose_eval=300,\n",
    "    folds=folds,\n",
    "    )\n",
    "tuner_cv.run()\n",
    "\n",
    "# 最も良かったスコアとパラメータを書き出す\n",
    "print(f'Best score: {tuner_cv.best_score}')\n",
    "print(f'Best params: {tuner_cv.best_params}')"
   ]
  },
  {
   "cell_type": "code",
   "execution_count": 379,
   "id": "407b2dc6-1001-4daf-80b5-5dce9f81e57d",
   "metadata": {},
   "outputs": [],
   "source": [
    "# Optunaにより得られた最適なパラメータ\n",
    "\n",
    "tuning_params = {'objective': 'multiclass', \n",
    "                 'num_class': 11, \n",
    "                 'metric': 'multi_logloss', \n",
    "                 'learning_rate': 0.010181824967207102, \n",
    "                 'verbosity': -1, \n",
    "                 'seed': 42, \n",
    "                 'feature_pre_filter': False, \n",
    "                 'lambda_l1': 0.91970762160045, \n",
    "                 'lambda_l2': 0.00015502503216817458, \n",
    "                 'num_leaves': 5, \n",
    "                 'feature_fraction': 0.4, \n",
    "                 'bagging_fraction': 0.999275938433692, \n",
    "                 'bagging_freq': 2, \n",
    "                 'min_child_samples': 25}"
   ]
  },
  {
   "cell_type": "code",
   "execution_count": 380,
   "id": "745e3b18-eb33-4dff-81e6-26847b8ae8fe",
   "metadata": {},
   "outputs": [
    {
     "name": "stdout",
     "output_type": "stream",
     "text": [
      "------------------------------ fold 0 ------------------------------\n",
      "Training until validation scores don't improve for 300 rounds\n",
      "[300]\ttraining's multi_logloss: 0.651812\tvalid_1's multi_logloss: 0.861616\n",
      "[600]\ttraining's multi_logloss: 0.540117\tvalid_1's multi_logloss: 0.839078\n",
      "[900]\ttraining's multi_logloss: 0.46532\tvalid_1's multi_logloss: 0.834761\n",
      "[1200]\ttraining's multi_logloss: 0.406455\tvalid_1's multi_logloss: 0.834044\n",
      "[1500]\ttraining's multi_logloss: 0.358924\tvalid_1's multi_logloss: 0.833679\n",
      "Early stopping, best iteration is:\n",
      "[1468]\ttraining's multi_logloss: 0.363657\tvalid_1's multi_logloss: 0.8329\n",
      "\n",
      "------------------------------ fold 1 ------------------------------\n",
      "Training until validation scores don't improve for 300 rounds\n",
      "[300]\ttraining's multi_logloss: 0.655754\tvalid_1's multi_logloss: 0.785278\n",
      "[600]\ttraining's multi_logloss: 0.542208\tvalid_1's multi_logloss: 0.769622\n",
      "Early stopping, best iteration is:\n",
      "[509]\ttraining's multi_logloss: 0.570418\tvalid_1's multi_logloss: 0.769098\n",
      "\n",
      "------------------------------ fold 2 ------------------------------\n",
      "Training until validation scores don't improve for 300 rounds\n",
      "[300]\ttraining's multi_logloss: 0.654189\tvalid_1's multi_logloss: 0.80109\n",
      "[600]\ttraining's multi_logloss: 0.539986\tvalid_1's multi_logloss: 0.79344\n",
      "Early stopping, best iteration is:\n",
      "[479]\ttraining's multi_logloss: 0.579287\tvalid_1's multi_logloss: 0.791802\n",
      "\n",
      "------------------------------ fold 3 ------------------------------\n",
      "Training until validation scores don't improve for 300 rounds\n",
      "[300]\ttraining's multi_logloss: 0.665118\tvalid_1's multi_logloss: 0.726071\n",
      "[600]\ttraining's multi_logloss: 0.550984\tvalid_1's multi_logloss: 0.701566\n",
      "[900]\ttraining's multi_logloss: 0.473264\tvalid_1's multi_logloss: 0.688287\n",
      "[1200]\ttraining's multi_logloss: 0.41365\tvalid_1's multi_logloss: 0.682269\n",
      "[1500]\ttraining's multi_logloss: 0.365197\tvalid_1's multi_logloss: 0.67814\n",
      "[1800]\ttraining's multi_logloss: 0.324851\tvalid_1's multi_logloss: 0.673856\n",
      "[2100]\ttraining's multi_logloss: 0.291903\tvalid_1's multi_logloss: 0.672416\n",
      "[2400]\ttraining's multi_logloss: 0.263599\tvalid_1's multi_logloss: 0.670122\n",
      "[2700]\ttraining's multi_logloss: 0.239041\tvalid_1's multi_logloss: 0.670487\n",
      "Early stopping, best iteration is:\n",
      "[2411]\ttraining's multi_logloss: 0.262634\tvalid_1's multi_logloss: 0.670016\n",
      "\n",
      "------------------------------ fold 4 ------------------------------\n",
      "Training until validation scores don't improve for 300 rounds\n",
      "[300]\ttraining's multi_logloss: 0.660102\tvalid_1's multi_logloss: 0.764482\n",
      "[600]\ttraining's multi_logloss: 0.547331\tvalid_1's multi_logloss: 0.742162\n",
      "[900]\ttraining's multi_logloss: 0.470416\tvalid_1's multi_logloss: 0.740384\n",
      "Early stopping, best iteration is:\n",
      "[810]\ttraining's multi_logloss: 0.491151\tvalid_1's multi_logloss: 0.739501\n",
      "\n",
      "------------------------------ fold 5 ------------------------------\n",
      "Training until validation scores don't improve for 300 rounds\n",
      "[300]\ttraining's multi_logloss: 0.653764\tvalid_1's multi_logloss: 0.815023\n",
      "[600]\ttraining's multi_logloss: 0.538917\tvalid_1's multi_logloss: 0.808388\n",
      "Early stopping, best iteration is:\n",
      "[544]\ttraining's multi_logloss: 0.556308\tvalid_1's multi_logloss: 0.806726\n",
      "\n",
      "------------------------------ fold 6 ------------------------------\n",
      "Training until validation scores don't improve for 300 rounds\n",
      "[300]\ttraining's multi_logloss: 0.663338\tvalid_1's multi_logloss: 0.707865\n",
      "[600]\ttraining's multi_logloss: 0.548221\tvalid_1's multi_logloss: 0.686318\n",
      "Early stopping, best iteration is:\n",
      "[590]\ttraining's multi_logloss: 0.551296\tvalid_1's multi_logloss: 0.685555\n",
      "\n",
      "------------------------------ fold 7 ------------------------------\n",
      "Training until validation scores don't improve for 300 rounds\n",
      "[300]\ttraining's multi_logloss: 0.650221\tvalid_1's multi_logloss: 0.848017\n",
      "[600]\ttraining's multi_logloss: 0.537189\tvalid_1's multi_logloss: 0.843135\n",
      "Early stopping, best iteration is:\n",
      "[467]\ttraining's multi_logloss: 0.580133\tvalid_1's multi_logloss: 0.839326\n",
      "\n",
      "------------------------------ fold 8 ------------------------------\n",
      "Training until validation scores don't improve for 300 rounds\n",
      "[300]\ttraining's multi_logloss: 0.653593\tvalid_1's multi_logloss: 0.894288\n",
      "[600]\ttraining's multi_logloss: 0.541123\tvalid_1's multi_logloss: 0.868204\n",
      "[900]\ttraining's multi_logloss: 0.463729\tvalid_1's multi_logloss: 0.862506\n",
      "Early stopping, best iteration is:\n",
      "[877]\ttraining's multi_logloss: 0.468897\tvalid_1's multi_logloss: 0.862228\n",
      "\n",
      "------------------------------ fold 9 ------------------------------\n",
      "Training until validation scores don't improve for 300 rounds\n",
      "[300]\ttraining's multi_logloss: 0.652465\tvalid_1's multi_logloss: 0.885523\n",
      "[600]\ttraining's multi_logloss: 0.538315\tvalid_1's multi_logloss: 0.860685\n",
      "[900]\ttraining's multi_logloss: 0.46121\tvalid_1's multi_logloss: 0.854443\n",
      "Early stopping, best iteration is:\n",
      "[811]\ttraining's multi_logloss: 0.481761\tvalid_1's multi_logloss: 0.853797\n",
      "\n",
      "------------------------------ fold 10 ------------------------------\n",
      "Training until validation scores don't improve for 300 rounds\n",
      "[300]\ttraining's multi_logloss: 0.65876\tvalid_1's multi_logloss: 0.792497\n",
      "[600]\ttraining's multi_logloss: 0.544825\tvalid_1's multi_logloss: 0.778064\n",
      "[900]\ttraining's multi_logloss: 0.467505\tvalid_1's multi_logloss: 0.775748\n",
      "[1200]\ttraining's multi_logloss: 0.407224\tvalid_1's multi_logloss: 0.778038\n",
      "Early stopping, best iteration is:\n",
      "[917]\ttraining's multi_logloss: 0.463778\tvalid_1's multi_logloss: 0.775368\n",
      "\n",
      "------------------------------ fold 11 ------------------------------\n",
      "Training until validation scores don't improve for 300 rounds\n",
      "[300]\ttraining's multi_logloss: 0.654346\tvalid_1's multi_logloss: 0.793337\n",
      "[600]\ttraining's multi_logloss: 0.540354\tvalid_1's multi_logloss: 0.774261\n",
      "[900]\ttraining's multi_logloss: 0.463138\tvalid_1's multi_logloss: 0.774037\n",
      "Early stopping, best iteration is:\n",
      "[742]\ttraining's multi_logloss: 0.500654\tvalid_1's multi_logloss: 0.772189\n",
      "\n",
      "------------------------------ fold 12 ------------------------------\n",
      "Training until validation scores don't improve for 300 rounds\n",
      "[300]\ttraining's multi_logloss: 0.653013\tvalid_1's multi_logloss: 0.89017\n",
      "[600]\ttraining's multi_logloss: 0.540444\tvalid_1's multi_logloss: 0.867727\n",
      "[900]\ttraining's multi_logloss: 0.464174\tvalid_1's multi_logloss: 0.868875\n",
      "Early stopping, best iteration is:\n",
      "[702]\ttraining's multi_logloss: 0.512271\tvalid_1's multi_logloss: 0.86595\n",
      "\n",
      "------------------------------ fold 13 ------------------------------\n",
      "Training until validation scores don't improve for 300 rounds\n",
      "[300]\ttraining's multi_logloss: 0.649214\tvalid_1's multi_logloss: 0.83383\n",
      "[600]\ttraining's multi_logloss: 0.538018\tvalid_1's multi_logloss: 0.814425\n",
      "[900]\ttraining's multi_logloss: 0.462006\tvalid_1's multi_logloss: 0.807045\n",
      "[1200]\ttraining's multi_logloss: 0.402955\tvalid_1's multi_logloss: 0.807432\n",
      "Early stopping, best iteration is:\n",
      "[1052]\ttraining's multi_logloss: 0.430249\tvalid_1's multi_logloss: 0.806427\n",
      "\n",
      "------------------------------ fold 14 ------------------------------\n",
      "Training until validation scores don't improve for 300 rounds\n",
      "[300]\ttraining's multi_logloss: 0.658945\tvalid_1's multi_logloss: 0.791212\n",
      "[600]\ttraining's multi_logloss: 0.543518\tvalid_1's multi_logloss: 0.785104\n",
      "[900]\ttraining's multi_logloss: 0.465931\tvalid_1's multi_logloss: 0.787732\n",
      "Early stopping, best iteration is:\n",
      "[726]\ttraining's multi_logloss: 0.508196\tvalid_1's multi_logloss: 0.784743\n",
      "\n"
     ]
    }
   ],
   "source": [
    "for fold_, (indexes_trn, indexes_val) in enumerate(skf.split(df_train.values, target.values)):\n",
    "    print(f\"------------------------------ fold {fold_} ------------------------------\")\n",
    "\n",
    "    df_trn = df_train.loc[indexes_trn].reset_index(drop=True)\n",
    "    df_val = df_train.loc[indexes_val].reset_index(drop=True)\n",
    "    target_trn = target.loc[indexes_trn].reset_index(drop=True)\n",
    "    target_val = target.loc[indexes_val].reset_index(drop=True)\n",
    "\n",
    "    # make knn features\n",
    "    X = df_trn[knn_features].fillna(0.0).values * knn_feature_weights\n",
    "    knn_feature_extractor = KNNFeatureExtractor(knn_n_neighbors).fit(X, target_trn)\n",
    "    df_trn = pd.concat([df_trn, knn_feature_extractor.transform(X, is_train_data=True)], axis=1)\n",
    "    X = df_val[knn_features].fillna(0.0).values * knn_feature_weights\n",
    "    df_val = pd.concat([df_val, knn_feature_extractor.transform(X, is_train_data=False)], axis=1)\n",
    "    X = df_test[knn_features].fillna(0.0).values * knn_feature_weights\n",
    "    df_test_knn_features = knn_feature_extractor.transform(X, is_train_data=False)\n",
    "    for col in df_test_knn_features.columns:\n",
    "        df_test[col] = df_test_knn_features[col]\n",
    "\n",
    "    lgb_train = lgb.Dataset(\n",
    "        df_trn.loc[:, features],\n",
    "        label=target_trn,\n",
    "        feature_name=features,\n",
    "        categorical_feature=features_categorical\n",
    "    )\n",
    "    lgb_valid = lgb.Dataset(\n",
    "        df_val.loc[:, features],\n",
    "        label=target_val,\n",
    "        feature_name=features,\n",
    "        categorical_feature=features_categorical\n",
    "    )\n",
    "\n",
    "    lgb_params[\"learning_rate\"] = learning_rate + np.random.random() * 0.001  # おまじない\n",
    "    num_round = 999999999\n",
    "    model = lgb.train(\n",
    "#         lgb_params,\n",
    "        tuning_params,\n",
    "        lgb_train, \n",
    "        num_round, \n",
    "        valid_sets=[lgb_train, lgb_valid], \n",
    "        verbose_eval=300,\n",
    "        early_stopping_rounds=300 if num_round >= 1e8 else None,\n",
    "        fobj=None,\n",
    "        #feval=lgb_metric,\n",
    "    )\n",
    "\n",
    "    # cv\n",
    "    prediction_round = model.best_iteration+150 if num_round >= 1e8 else num_round  # おまじない\n",
    "    oof[indexes_val] = model.predict(df_val[features], num_iteration=prediction_round)\n",
    "\n",
    "    # feature importance\n",
    "    df_fold_importance = pd.DataFrame()\n",
    "    df_fold_importance[\"feature\"] = features\n",
    "    df_fold_importance[\"importance\"] = model.feature_importance()\n",
    "    df_fold_importance[\"fold\"] = fold_\n",
    "    df_feature_importance = pd.concat([df_feature_importance, df_fold_importance], axis=0)\n",
    "\n",
    "    # prediction for test data\n",
    "    predictions += model.predict(df_test[features], num_iteration=prediction_round) / N_SPLITS\n",
    "    print()"
   ]
  },
  {
   "cell_type": "markdown",
   "id": "21b60ba5-4c6d-4867-8596-ec9f51b96582",
   "metadata": {},
   "source": [
    "## 6. Test & Visualization"
   ]
  },
  {
   "cell_type": "code",
   "execution_count": 387,
   "id": "b681063c-8e53-4111-9cfb-467e57bdf0da",
   "metadata": {},
   "outputs": [
    {
     "name": "stdout",
     "output_type": "stream",
     "text": [
      "CV score\n",
      "  f1:  0.65839\n",
      "\n",
      "              precision    recall  f1-score   support\n",
      "\n",
      "           0       0.76      0.59      0.67        32\n",
      "           1       0.60      0.43      0.50       205\n",
      "           2       0.71      0.58      0.64       191\n",
      "           3       0.81      0.78      0.79       362\n",
      "           4       0.68      0.58      0.63        45\n",
      "           5       0.63      0.51      0.56       126\n",
      "           6       0.59      0.32      0.42        50\n",
      "           7       0.64      0.64      0.64       334\n",
      "           8       0.73      0.79      0.75      1305\n",
      "           9       0.85      0.85      0.85        59\n",
      "          10       0.78      0.82      0.80      1337\n",
      "\n",
      "    accuracy                           0.74      4046\n",
      "   macro avg       0.71      0.62      0.66      4046\n",
      "weighted avg       0.73      0.74      0.73      4046\n",
      "\n"
     ]
    },
    {
     "data": {
      "image/png": "[encoded data removed]",
      "text/plain": [
       "<Figure size 1080x1440 with 1 Axes>"
      ]
     },
     "metadata": {
      "needs_background": "light"
     },
     "output_type": "display_data"
    }
   ],
   "source": [
    "# df_test[\"prediction\"] = predictions.argmax(1)\n",
    "y_test = predictions.argmax(1)\n",
    "score = f1_score(target, oof.argmax(1), average=\"macro\")\n",
    "print(\"CV score\")\n",
    "print(f\"  f1: {score:8.5f}\")\n",
    "print()\n",
    "print(classification_report(target, oof.argmax(1)))\n",
    "\n",
    "plt.figure(figsize=(15, 20))\n",
    "sns.barplot(x=\"importance\", y=\"feature\", data=df_feature_importance.sort_values(by=\"importance\", ascending=False))\n",
    "plt.title(\"feature importance\")\n",
    "plt.grid()\n",
    "plt.tight_layout()\n",
    "plt.show()"
   ]
  },
  {
   "cell_type": "code",
   "execution_count": 382,
   "id": "7dcb8f68-4ad4-44df-8550-6bc445cd4e58",
   "metadata": {},
   "outputs": [
    {
     "data": {
      "text/plain": [
       "Index(['tempo_high', 'tempo_sum', 'tempo_diff', 'tempo_div', 'region_B',\n",
       "       'region_C', 'region_D', 'region_F', 'region_G', 'region_H', 'region_I',\n",
       "       'region_K', 'region_N', 'region_S', 'agg_max_duration_ms_grpby_region',\n",
       "       'agg_median_energy_grpby_region', 'agg_median_liveness_grpby_region',\n",
       "       'agg_median_instrumentalness_grpby_region',\n",
       "       'agg_std_energy_grpby_region', 'agg_std_liveness_grpby_region',\n",
       "       'agg_q75_q25_danceability_grpby_region',\n",
       "       'agg_q75_q25_loudness_grpby_region', 'agg_q75_q25_energy_grpby_region',\n",
       "       'agg_zscore_positiveness_grpby_region',\n",
       "       'agg_zscore_liveness_grpby_region'],\n",
       "      dtype='object')"
      ]
     },
     "execution_count": 382,
     "metadata": {},
     "output_type": "execute_result"
    }
   ],
   "source": [
    "# feature importanceが0の特徴量\n",
    "df_train.columns[np.where(model.feature_importance()==0)]"
   ]
  },
  {
   "cell_type": "code",
   "execution_count": 383,
   "id": "805cec8b-9021-4262-b49b-7cc4abdaf352",
   "metadata": {},
   "outputs": [
    {
     "data": {
      "image/png": "[encoded data removed]",
      "text/plain": [
       "<Figure size 950.4x712.8 with 2 Axes>"
      ]
     },
     "metadata": {
      "needs_background": "light"
     },
     "output_type": "display_data"
    }
   ],
   "source": [
    "def visualize_confusion_matrix(y_true, pred_label, height=.6, labels=None):  # from https://signate.jp/competitions/449/discussions/lgbm-baseline-lb06240\n",
    "    conf = confusion_matrix(y_true=y_true, y_pred=pred_label, normalize='true')\n",
    "\n",
    "    n_labels = len(conf)\n",
    "    size = n_labels * height\n",
    "    fig, ax = plt.subplots(figsize=(size * 2, size * 1.5))\n",
    "    sns.heatmap(conf, cmap='YlOrBr', ax=ax, annot=True, fmt='.2f')\n",
    "    ax.set_ylabel('Label')\n",
    "    ax.set_xlabel('Predict')\n",
    "\n",
    "    if labels is not None:\n",
    "        ax.set_yticklabels(labels)\n",
    "        ax.set_xticklabels(labels)\n",
    "        ax.tick_params('y', labelrotation=0)\n",
    "        ax.tick_params('x', labelrotation=90)\n",
    "\n",
    "    return fig\n",
    "\n",
    "    \n",
    "oof_label = pd.Series(np.argmax(oof, axis=1))\n",
    "fig = visualize_confusion_matrix(y_true=target, pred_label=oof_label, labels=df_genre_labels[\"genre\"])\n",
    "plt.show(fig)"
   ]
  },
  {
   "cell_type": "markdown",
   "id": "c96cc9c7-d09c-448d-8abc-036a7caf054b",
   "metadata": {},
   "source": [
    "## 7. Save Result"
   ]
  },
  {
   "cell_type": "code",
   "execution_count": 384,
   "id": "f7d36486-62f3-489b-bf32-783f8bf297e9",
   "metadata": {},
   "outputs": [],
   "source": [
    "# Save csv file\n",
    "sample_submit = pd.read_csv(\"../data/sample_submit.csv\", header=None)\n",
    "submit = pd.concat([sample_submit.iloc[:, 0], pd.Series(y_test)], axis=1)\n",
    "submit.columns = [\"index\", \"genre\"]"
   ]
  },
  {
   "cell_type": "code",
   "execution_count": 385,
   "id": "44d8e66f-0667-4734-a19b-b3921ea1c85e",
   "metadata": {},
   "outputs": [
    {
     "data": {
      "text/html": [
       "<div>\n",
       "<style scoped>\n",
       "    .dataframe tbody tr th:only-of-type {\n",
       "        vertical-align: middle;\n",
       "    }\n",
       "\n",
       "    .dataframe tbody tr th {\n",
       "        vertical-align: top;\n",
       "    }\n",
       "\n",
       "    .dataframe thead th {\n",
       "        text-align: right;\n",
       "    }\n",
       "</style>\n",
       "<table border=\"1\" class=\"dataframe\">\n",
       "  <thead>\n",
       "    <tr style=\"text-align: right;\">\n",
       "      <th></th>\n",
       "      <th>index</th>\n",
       "      <th>genre</th>\n",
       "    </tr>\n",
       "  </thead>\n",
       "  <tbody>\n",
       "    <tr>\n",
       "      <th>0</th>\n",
       "      <td>4046</td>\n",
       "      <td>7</td>\n",
       "    </tr>\n",
       "    <tr>\n",
       "      <th>1</th>\n",
       "      <td>4047</td>\n",
       "      <td>10</td>\n",
       "    </tr>\n",
       "    <tr>\n",
       "      <th>2</th>\n",
       "      <td>4048</td>\n",
       "      <td>10</td>\n",
       "    </tr>\n",
       "    <tr>\n",
       "      <th>3</th>\n",
       "      <td>4049</td>\n",
       "      <td>8</td>\n",
       "    </tr>\n",
       "    <tr>\n",
       "      <th>4</th>\n",
       "      <td>4050</td>\n",
       "      <td>8</td>\n",
       "    </tr>\n",
       "    <tr>\n",
       "      <th>...</th>\n",
       "      <td>...</td>\n",
       "      <td>...</td>\n",
       "    </tr>\n",
       "    <tr>\n",
       "      <th>4041</th>\n",
       "      <td>8087</td>\n",
       "      <td>10</td>\n",
       "    </tr>\n",
       "    <tr>\n",
       "      <th>4042</th>\n",
       "      <td>8088</td>\n",
       "      <td>8</td>\n",
       "    </tr>\n",
       "    <tr>\n",
       "      <th>4043</th>\n",
       "      <td>8089</td>\n",
       "      <td>1</td>\n",
       "    </tr>\n",
       "    <tr>\n",
       "      <th>4044</th>\n",
       "      <td>8090</td>\n",
       "      <td>8</td>\n",
       "    </tr>\n",
       "    <tr>\n",
       "      <th>4045</th>\n",
       "      <td>8091</td>\n",
       "      <td>6</td>\n",
       "    </tr>\n",
       "  </tbody>\n",
       "</table>\n",
       "<p>4046 rows × 2 columns</p>\n",
       "</div>"
      ],
      "text/plain": [
       "      index  genre\n",
       "0      4046      7\n",
       "1      4047     10\n",
       "2      4048     10\n",
       "3      4049      8\n",
       "4      4050      8\n",
       "...     ...    ...\n",
       "4041   8087     10\n",
       "4042   8088      8\n",
       "4043   8089      1\n",
       "4044   8090      8\n",
       "4045   8091      6\n",
       "\n",
       "[4046 rows x 2 columns]"
      ]
     },
     "execution_count": 385,
     "metadata": {},
     "output_type": "execute_result"
    }
   ],
   "source": [
    "submit"
   ]
  },
  {
   "cell_type": "code",
   "execution_count": 386,
   "id": "b414cadd-bba2-4688-930b-f2e4b1b00b47",
   "metadata": {},
   "outputs": [],
   "source": [
    "# submit.to_csv(\"../logs/lgbmknn_v5.csv\", header=None, index=None)"
   ]
  },
  {
   "cell_type": "code",
   "execution_count": null,
   "id": "a9a3e96a-2429-4c1e-966c-72eb0494d21a",
   "metadata": {},
   "outputs": [],
   "source": []
  },
  {
   "cell_type": "code",
   "execution_count": null,
   "id": "2d445851-c1dc-4d7c-bd2e-aecfa93c386b",
   "metadata": {},
   "outputs": [],
   "source": []
  }
 ],
 "metadata": {
  "kernelspec": {
   "display_name": "Python 3",
   "language": "python",
   "name": "python3"
  },
  "language_info": {
   "codemirror_mode": {
    "name": "ipython",
    "version": 3
   },
   "file_extension": ".py",
   "mimetype": "text/x-python",
   "name": "python",
   "nbconvert_exporter": "python",
   "pygments_lexer": "ipython3",
   "version": "3.8.5"
  }
 },
 "nbformat": 4,
 "nbformat_minor": 5
}
